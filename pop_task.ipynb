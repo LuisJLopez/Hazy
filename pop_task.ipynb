{
 "cells": [
  {
   "cell_type": "code",
   "execution_count": 1,
   "id": "92e7ec22-7f6b-42ab-b443-6c8966bb62e5",
   "metadata": {},
   "outputs": [
    {
     "name": "stderr",
     "output_type": "stream",
     "text": [
      "/Users/luislopez/.pyenv/versions/3.7.5/lib/python3.7/site-packages/pandas/compat/__init__.py:124: UserWarning: Could not import the lzma module. Your installed Python is incomplete. Attempting to use lzma compression will result in a RuntimeError.\n",
      "  warnings.warn(msg)\n"
     ]
    },
    {
     "data": {
      "application/vnd.plotly.v1+json": {
       "config": {
        "plotlyServerURL": "https://plot.ly"
       },
       "data": [
        {
         "marker": {
          "color": "green"
         },
         "mode": "markers",
         "type": "scatter",
         "x": [
          5
         ],
         "y": [
          8
         ]
        },
        {
         "marker": {
          "color": "green"
         },
         "mode": "markers",
         "type": "scatter",
         "x": [
          7
         ],
         "y": [
          8
         ]
        },
        {
         "marker": {
          "color": "green"
         },
         "mode": "markers",
         "type": "scatter",
         "x": [
          5
         ],
         "y": [
          13
         ]
        },
        {
         "marker": {
          "color": "green"
         },
         "mode": "markers",
         "type": "scatter",
         "x": [
          5
         ],
         "y": [
          13
         ]
        },
        {
         "marker": {
          "color": "green"
         },
         "mode": "markers",
         "type": "scatter",
         "x": [
          5
         ],
         "y": [
          13
         ]
        },
        {
         "marker": {
          "color": "green"
         },
         "mode": "markers",
         "type": "scatter",
         "x": [
          9
         ],
         "y": [
          8
         ]
        },
        {
         "marker": {
          "color": "green"
         },
         "mode": "markers",
         "type": "scatter",
         "x": [
          7
         ],
         "y": [
          8
         ]
        },
        {
         "marker": {
          "color": "green"
         },
         "mode": "markers",
         "type": "scatter",
         "x": [
          5
         ],
         "y": [
          13
         ]
        },
        {
         "marker": {
          "color": "green"
         },
         "mode": "markers",
         "type": "scatter",
         "x": [
          12
         ],
         "y": [
          15
         ]
        },
        {
         "marker": {
          "color": "green"
         },
         "mode": "markers",
         "type": "scatter",
         "x": [
          8
         ],
         "y": [
          14
         ]
        },
        {
         "marker": {
          "color": "green"
         },
         "mode": "markers",
         "type": "scatter",
         "x": [
          9
         ],
         "y": [
          5
         ]
        },
        {
         "marker": {
          "color": "green"
         },
         "mode": "markers",
         "type": "scatter",
         "x": [
          11
         ],
         "y": [
          7
         ]
        },
        {
         "marker": {
          "color": "green"
         },
         "mode": "markers",
         "type": "scatter",
         "x": [
          14
         ],
         "y": [
          12
         ]
        },
        {
         "marker": {
          "color": "green"
         },
         "mode": "markers",
         "type": "scatter",
         "x": [
          8
         ],
         "y": [
          14
         ]
        },
        {
         "marker": {
          "color": "green"
         },
         "mode": "markers",
         "type": "scatter",
         "x": [
          8
         ],
         "y": [
          14
         ]
        },
        {
         "marker": {
          "color": "green"
         },
         "mode": "markers",
         "type": "scatter",
         "x": [
          9
         ],
         "y": [
          5
         ]
        },
        {
         "marker": {
          "color": "green"
         },
         "mode": "markers",
         "type": "scatter",
         "x": [
          11
         ],
         "y": [
          7
         ]
        },
        {
         "marker": {
          "color": "green"
         },
         "mode": "markers",
         "type": "scatter",
         "x": [
          22
         ],
         "y": [
          12
         ]
        },
        {
         "marker": {
          "color": "green"
         },
         "mode": "markers",
         "type": "scatter",
         "x": [
          14
         ],
         "y": [
          12
         ]
        },
        {
         "marker": {
          "color": "green"
         },
         "mode": "markers",
         "type": "scatter",
         "x": [
          7
         ],
         "y": [
          8
         ]
        },
        {
         "marker": {
          "color": "green"
         },
         "mode": "markers",
         "type": "scatter",
         "x": [
          9
         ],
         "y": [
          -7
         ]
        },
        {
         "marker": {
          "color": "green"
         },
         "mode": "markers",
         "type": "scatter",
         "x": [
          15
         ],
         "y": [
          10
         ]
        },
        {
         "marker": {
          "color": "green"
         },
         "mode": "markers",
         "type": "scatter",
         "x": [
          14
         ],
         "y": [
          12
         ]
        },
        {
         "marker": {
          "color": "green"
         },
         "mode": "markers",
         "type": "scatter",
         "x": [
          14
         ],
         "y": [
          12
         ]
        },
        {
         "marker": {
          "color": "green"
         },
         "mode": "markers",
         "type": "scatter",
         "x": [
          12
         ],
         "y": [
          16
         ]
        },
        {
         "marker": {
          "color": "yellow"
         },
         "mode": "markers",
         "type": "scatter",
         "x": [
          2
         ],
         "y": [
          2
         ]
        },
        {
         "marker": {
          "color": "yellow"
         },
         "mode": "markers",
         "type": "scatter",
         "x": [
          18
         ],
         "y": [
          18
         ]
        },
        {
         "marker": {
          "color": "yellow"
         },
         "mode": "markers",
         "type": "scatter",
         "x": [
          18
         ],
         "y": [
          18
         ]
        },
        {
         "marker": {
          "color": "yellow"
         },
         "mode": "markers",
         "type": "scatter",
         "x": [
          3
         ],
         "y": [
          15
         ]
        },
        {
         "marker": {
          "color": "yellow"
         },
         "mode": "markers",
         "type": "scatter",
         "x": [
          3
         ],
         "y": [
          14
         ]
        },
        {
         "marker": {
          "color": "yellow"
         },
         "mode": "markers",
         "type": "scatter",
         "x": [
          3
         ],
         "y": [
          13
         ]
        },
        {
         "marker": {
          "color": "yellow"
         },
         "mode": "markers",
         "type": "scatter",
         "x": [
          5
         ],
         "y": [
          5
         ]
        }
       ],
       "frames": [
        {
         "data": [
          {
           "marker": {
            "color": "green"
           },
           "mode": "markers",
           "type": "scatter",
           "x": [
            5
           ],
           "y": [
            6
           ]
          },
          {
           "marker": {
            "color": "green"
           },
           "mode": "markers",
           "type": "scatter",
           "x": [
            5
           ],
           "y": [
            8
           ]
          },
          {
           "marker": {
            "color": "green"
           },
           "mode": "markers",
           "type": "scatter",
           "x": [
            5
           ],
           "y": [
            10
           ]
          },
          {
           "marker": {
            "color": "green"
           },
           "mode": "markers",
           "type": "scatter",
           "x": [
            5
           ],
           "y": [
            12
           ]
          },
          {
           "marker": {
            "color": "green"
           },
           "mode": "markers",
           "type": "scatter",
           "x": [
            4
           ],
           "y": [
            13
           ]
          },
          {
           "marker": {
            "color": "green"
           },
           "mode": "markers",
           "type": "scatter",
           "x": [
            7
           ],
           "y": [
            5
           ]
          },
          {
           "marker": {
            "color": "green"
           },
           "mode": "markers",
           "type": "scatter",
           "x": [
            7
           ],
           "y": [
            7
           ]
          },
          {
           "marker": {
            "color": "green"
           },
           "mode": "markers",
           "type": "scatter",
           "x": [
            6
           ],
           "y": [
            9
           ]
          },
          {
           "marker": {
            "color": "green"
           },
           "mode": "markers",
           "type": "scatter",
           "x": [
            7
           ],
           "y": [
            10
           ]
          },
          {
           "marker": {
            "color": "green"
           },
           "mode": "markers",
           "type": "scatter",
           "x": [
            7
           ],
           "y": [
            14
           ]
          },
          {
           "marker": {
            "color": "green"
           },
           "mode": "markers",
           "type": "scatter",
           "x": [
            9
           ],
           "y": [
            6
           ]
          },
          {
           "marker": {
            "color": "green"
           },
           "mode": "markers",
           "type": "scatter",
           "x": [
            10
           ],
           "y": [
            7
           ]
          },
          {
           "marker": {
            "color": "green"
           },
           "mode": "markers",
           "type": "scatter",
           "x": [
            10
           ],
           "y": [
            9
           ]
          },
          {
           "marker": {
            "color": "green"
           },
           "mode": "markers",
           "type": "scatter",
           "x": [
            9
           ],
           "y": [
            12
           ]
          },
          {
           "marker": {
            "color": "green"
           },
           "mode": "markers",
           "type": "scatter",
           "x": [
            8
           ],
           "y": [
            13
           ]
          },
          {
           "marker": {
            "color": "green"
           },
           "mode": "markers",
           "type": "scatter",
           "x": [
            10
           ],
           "y": [
            5
           ]
          },
          {
           "marker": {
            "color": "green"
           },
           "mode": "markers",
           "type": "scatter",
           "x": [
            12
           ],
           "y": [
            7
           ]
          },
          {
           "marker": {
            "color": "green"
           },
           "mode": "markers",
           "type": "scatter",
           "x": [
            11
           ],
           "y": [
            10
           ]
          },
          {
           "marker": {
            "color": "green"
           },
           "mode": "markers",
           "type": "scatter",
           "x": [
            11
           ],
           "y": [
            11
           ]
          },
          {
           "marker": {
            "color": "green"
           },
           "mode": "markers",
           "type": "scatter",
           "x": [
            11
           ],
           "y": [
            14
           ]
          },
          {
           "marker": {
            "color": "green"
           },
           "mode": "markers",
           "type": "scatter",
           "x": [
            13
           ],
           "y": [
            4
           ]
          },
          {
           "marker": {
            "color": "green"
           },
           "mode": "markers",
           "type": "scatter",
           "x": [
            13
           ],
           "y": [
            6
           ]
          },
          {
           "marker": {
            "color": "green"
           },
           "mode": "markers",
           "type": "scatter",
           "x": [
            13
           ],
           "y": [
            9
           ]
          },
          {
           "marker": {
            "color": "green"
           },
           "mode": "markers",
           "type": "scatter",
           "x": [
            13
           ],
           "y": [
            10
           ]
          },
          {
           "marker": {
            "color": "green"
           },
           "mode": "markers",
           "type": "scatter",
           "x": [
            14
           ],
           "y": [
            13
           ]
          }
         ],
         "layout": {
          "title": {
           "text": "Simulation frame 0"
          }
         }
        },
        {
         "data": [
          {
           "marker": {
            "color": "green"
           },
           "mode": "markers",
           "type": "scatter",
           "x": [
            5
           ],
           "y": [
            6
           ]
          },
          {
           "marker": {
            "color": "green"
           },
           "mode": "markers",
           "type": "scatter",
           "x": [
            6
           ],
           "y": [
            8
           ]
          },
          {
           "marker": {
            "color": "green"
           },
           "mode": "markers",
           "type": "scatter",
           "x": [
            5
           ],
           "y": [
            11
           ]
          },
          {
           "marker": {
            "color": "red"
           },
           "mode": "markers",
           "type": "scatter",
           "x": [
            5
           ],
           "y": [
            13
           ]
          },
          {
           "marker": {
            "color": "red"
           },
           "mode": "markers",
           "type": "scatter",
           "x": [
            5
           ],
           "y": [
            13
           ]
          },
          {
           "marker": {
            "color": "green"
           },
           "mode": "markers",
           "type": "scatter",
           "x": [
            8
           ],
           "y": [
            5
           ]
          },
          {
           "marker": {
            "color": "green"
           },
           "mode": "markers",
           "type": "scatter",
           "x": [
            7
           ],
           "y": [
            7
           ]
          },
          {
           "marker": {
            "color": "green"
           },
           "mode": "markers",
           "type": "scatter",
           "x": [
            6
           ],
           "y": [
            9
           ]
          },
          {
           "marker": {
            "color": "green"
           },
           "mode": "markers",
           "type": "scatter",
           "x": [
            8
           ],
           "y": [
            10
           ]
          },
          {
           "marker": {
            "color": "red"
           },
           "mode": "markers",
           "type": "scatter",
           "x": [
            8
           ],
           "y": [
            14
           ]
          },
          {
           "marker": {
            "color": "green"
           },
           "mode": "markers",
           "type": "scatter",
           "x": [
            8
           ],
           "y": [
            6
           ]
          },
          {
           "marker": {
            "color": "green"
           },
           "mode": "markers",
           "type": "scatter",
           "x": [
            10
           ],
           "y": [
            8
           ]
          },
          {
           "marker": {
            "color": "green"
           },
           "mode": "markers",
           "type": "scatter",
           "x": [
            10
           ],
           "y": [
            9
           ]
          },
          {
           "marker": {
            "color": "green"
           },
           "mode": "markers",
           "type": "scatter",
           "x": [
            9
           ],
           "y": [
            11
           ]
          },
          {
           "marker": {
            "color": "red"
           },
           "mode": "markers",
           "type": "scatter",
           "x": [
            8
           ],
           "y": [
            14
           ]
          },
          {
           "marker": {
            "color": "green"
           },
           "mode": "markers",
           "type": "scatter",
           "x": [
            9
           ],
           "y": [
            5
           ]
          },
          {
           "marker": {
            "color": "green"
           },
           "mode": "markers",
           "type": "scatter",
           "x": [
            12
           ],
           "y": [
            6
           ]
          },
          {
           "marker": {
            "color": "green"
           },
           "mode": "markers",
           "type": "scatter",
           "x": [
            11
           ],
           "y": [
            9
           ]
          },
          {
           "marker": {
            "color": "green"
           },
           "mode": "markers",
           "type": "scatter",
           "x": [
            11
           ],
           "y": [
            11
           ]
          },
          {
           "marker": {
            "color": "green"
           },
           "mode": "markers",
           "type": "scatter",
           "x": [
            11
           ],
           "y": [
            14
           ]
          },
          {
           "marker": {
            "color": "green"
           },
           "mode": "markers",
           "type": "scatter",
           "x": [
            13
           ],
           "y": [
            4
           ]
          },
          {
           "marker": {
            "color": "green"
           },
           "mode": "markers",
           "type": "scatter",
           "x": [
            13
           ],
           "y": [
            6
           ]
          },
          {
           "marker": {
            "color": "green"
           },
           "mode": "markers",
           "type": "scatter",
           "x": [
            14
           ],
           "y": [
            9
           ]
          },
          {
           "marker": {
            "color": "green"
           },
           "mode": "markers",
           "type": "scatter",
           "x": [
            13
           ],
           "y": [
            11
           ]
          },
          {
           "marker": {
            "color": "green"
           },
           "mode": "markers",
           "type": "scatter",
           "x": [
            14
           ],
           "y": [
            14
           ]
          }
         ],
         "layout": {
          "title": {
           "text": "Simulation frame 1"
          }
         }
        },
        {
         "data": [
          {
           "marker": {
            "color": "green"
           },
           "mode": "markers",
           "type": "scatter",
           "x": [
            6
           ],
           "y": [
            6
           ]
          },
          {
           "marker": {
            "color": "red"
           },
           "mode": "markers",
           "type": "scatter",
           "x": [
            7
           ],
           "y": [
            8
           ]
          },
          {
           "marker": {
            "color": "green"
           },
           "mode": "markers",
           "type": "scatter",
           "x": [
            4
           ],
           "y": [
            11
           ]
          },
          {
           "marker": {
            "color": "red"
           },
           "mode": "markers",
           "type": "scatter",
           "x": [
            5
           ],
           "y": [
            13
           ]
          },
          {
           "marker": {
            "color": "red"
           },
           "mode": "markers",
           "type": "scatter",
           "x": [
            5
           ],
           "y": [
            13
           ]
          },
          {
           "marker": {
            "color": "green"
           },
           "mode": "markers",
           "type": "scatter",
           "x": [
            8
           ],
           "y": [
            4
           ]
          },
          {
           "marker": {
            "color": "red"
           },
           "mode": "markers",
           "type": "scatter",
           "x": [
            7
           ],
           "y": [
            8
           ]
          },
          {
           "marker": {
            "color": "green"
           },
           "mode": "markers",
           "type": "scatter",
           "x": [
            6
           ],
           "y": [
            9
           ]
          },
          {
           "marker": {
            "color": "green"
           },
           "mode": "markers",
           "type": "scatter",
           "x": [
            8
           ],
           "y": [
            9
           ]
          },
          {
           "marker": {
            "color": "red"
           },
           "mode": "markers",
           "type": "scatter",
           "x": [
            8
           ],
           "y": [
            14
           ]
          },
          {
           "marker": {
            "color": "green"
           },
           "mode": "markers",
           "type": "scatter",
           "x": [
            8
           ],
           "y": [
            5
           ]
          },
          {
           "marker": {
            "color": "green"
           },
           "mode": "markers",
           "type": "scatter",
           "x": [
            11
           ],
           "y": [
            8
           ]
          },
          {
           "marker": {
            "color": "green"
           },
           "mode": "markers",
           "type": "scatter",
           "x": [
            10
           ],
           "y": [
            10
           ]
          },
          {
           "marker": {
            "color": "green"
           },
           "mode": "markers",
           "type": "scatter",
           "x": [
            9
           ],
           "y": [
            12
           ]
          },
          {
           "marker": {
            "color": "red"
           },
           "mode": "markers",
           "type": "scatter",
           "x": [
            8
           ],
           "y": [
            14
           ]
          },
          {
           "marker": {
            "color": "green"
           },
           "mode": "markers",
           "type": "scatter",
           "x": [
            9
           ],
           "y": [
            6
           ]
          },
          {
           "marker": {
            "color": "green"
           },
           "mode": "markers",
           "type": "scatter",
           "x": [
            12
           ],
           "y": [
            7
           ]
          },
          {
           "marker": {
            "color": "green"
           },
           "mode": "markers",
           "type": "scatter",
           "x": [
            10
           ],
           "y": [
            9
           ]
          },
          {
           "marker": {
            "color": "green"
           },
           "mode": "markers",
           "type": "scatter",
           "x": [
            12
           ],
           "y": [
            11
           ]
          },
          {
           "marker": {
            "color": "green"
           },
           "mode": "markers",
           "type": "scatter",
           "x": [
            11
           ],
           "y": [
            14
           ]
          },
          {
           "marker": {
            "color": "green"
           },
           "mode": "markers",
           "type": "scatter",
           "x": [
            12
           ],
           "y": [
            4
           ]
          },
          {
           "marker": {
            "color": "green"
           },
           "mode": "markers",
           "type": "scatter",
           "x": [
            14
           ],
           "y": [
            6
           ]
          },
          {
           "marker": {
            "color": "green"
           },
           "mode": "markers",
           "type": "scatter",
           "x": [
            14
           ],
           "y": [
            10
           ]
          },
          {
           "marker": {
            "color": "green"
           },
           "mode": "markers",
           "type": "scatter",
           "x": [
            13
           ],
           "y": [
            10
           ]
          },
          {
           "marker": {
            "color": "green"
           },
           "mode": "markers",
           "type": "scatter",
           "x": [
            14
           ],
           "y": [
            14
           ]
          }
         ],
         "layout": {
          "title": {
           "text": "Simulation frame 2"
          }
         }
        },
        {
         "data": [
          {
           "marker": {
            "color": "green"
           },
           "mode": "markers",
           "type": "scatter",
           "x": [
            6
           ],
           "y": [
            6
           ]
          },
          {
           "marker": {
            "color": "red"
           },
           "mode": "markers",
           "type": "scatter",
           "x": [
            7
           ],
           "y": [
            8
           ]
          },
          {
           "marker": {
            "color": "green"
           },
           "mode": "markers",
           "type": "scatter",
           "x": [
            5
           ],
           "y": [
            11
           ]
          },
          {
           "marker": {
            "color": "red"
           },
           "mode": "markers",
           "type": "scatter",
           "x": [
            5
           ],
           "y": [
            13
           ]
          },
          {
           "marker": {
            "color": "red"
           },
           "mode": "markers",
           "type": "scatter",
           "x": [
            5
           ],
           "y": [
            13
           ]
          },
          {
           "marker": {
            "color": "green"
           },
           "mode": "markers",
           "type": "scatter",
           "x": [
            8
           ],
           "y": [
            4
           ]
          },
          {
           "marker": {
            "color": "red"
           },
           "mode": "markers",
           "type": "scatter",
           "x": [
            7
           ],
           "y": [
            8
           ]
          },
          {
           "marker": {
            "color": "green"
           },
           "mode": "markers",
           "type": "scatter",
           "x": [
            6
           ],
           "y": [
            10
           ]
          },
          {
           "marker": {
            "color": "green"
           },
           "mode": "markers",
           "type": "scatter",
           "x": [
            9
           ],
           "y": [
            9
           ]
          },
          {
           "marker": {
            "color": "red"
           },
           "mode": "markers",
           "type": "scatter",
           "x": [
            8
           ],
           "y": [
            14
           ]
          },
          {
           "marker": {
            "color": "red"
           },
           "mode": "markers",
           "type": "scatter",
           "x": [
            9
           ],
           "y": [
            5
           ]
          },
          {
           "marker": {
            "color": "red"
           },
           "mode": "markers",
           "type": "scatter",
           "x": [
            11
           ],
           "y": [
            7
           ]
          },
          {
           "marker": {
            "color": "green"
           },
           "mode": "markers",
           "type": "scatter",
           "x": [
            10
           ],
           "y": [
            10
           ]
          },
          {
           "marker": {
            "color": "green"
           },
           "mode": "markers",
           "type": "scatter",
           "x": [
            9
           ],
           "y": [
            12
           ]
          },
          {
           "marker": {
            "color": "red"
           },
           "mode": "markers",
           "type": "scatter",
           "x": [
            8
           ],
           "y": [
            14
           ]
          },
          {
           "marker": {
            "color": "red"
           },
           "mode": "markers",
           "type": "scatter",
           "x": [
            9
           ],
           "y": [
            5
           ]
          },
          {
           "marker": {
            "color": "red"
           },
           "mode": "markers",
           "type": "scatter",
           "x": [
            11
           ],
           "y": [
            7
           ]
          },
          {
           "marker": {
            "color": "green"
           },
           "mode": "markers",
           "type": "scatter",
           "x": [
            11
           ],
           "y": [
            9
           ]
          },
          {
           "marker": {
            "color": "green"
           },
           "mode": "markers",
           "type": "scatter",
           "x": [
            12
           ],
           "y": [
            12
           ]
          },
          {
           "marker": {
            "color": "green"
           },
           "mode": "markers",
           "type": "scatter",
           "x": [
            12
           ],
           "y": [
            14
           ]
          },
          {
           "marker": {
            "color": "green"
           },
           "mode": "markers",
           "type": "scatter",
           "x": [
            12
           ],
           "y": [
            3
           ]
          },
          {
           "marker": {
            "color": "green"
           },
           "mode": "markers",
           "type": "scatter",
           "x": [
            14
           ],
           "y": [
            6
           ]
          },
          {
           "marker": {
            "color": "green"
           },
           "mode": "markers",
           "type": "scatter",
           "x": [
            14
           ],
           "y": [
            11
           ]
          },
          {
           "marker": {
            "color": "green"
           },
           "mode": "markers",
           "type": "scatter",
           "x": [
            12
           ],
           "y": [
            10
           ]
          },
          {
           "marker": {
            "color": "green"
           },
           "mode": "markers",
           "type": "scatter",
           "x": [
            14
           ],
           "y": [
            15
           ]
          }
         ],
         "layout": {
          "title": {
           "text": "Simulation frame 3"
          }
         }
        },
        {
         "data": [
          {
           "marker": {
            "color": "green"
           },
           "mode": "markers",
           "type": "scatter",
           "x": [
            6
           ],
           "y": [
            6
           ]
          },
          {
           "marker": {
            "color": "red"
           },
           "mode": "markers",
           "type": "scatter",
           "x": [
            7
           ],
           "y": [
            8
           ]
          },
          {
           "marker": {
            "color": "green"
           },
           "mode": "markers",
           "type": "scatter",
           "x": [
            5
           ],
           "y": [
            12
           ]
          },
          {
           "marker": {
            "color": "red"
           },
           "mode": "markers",
           "type": "scatter",
           "x": [
            5
           ],
           "y": [
            13
           ]
          },
          {
           "marker": {
            "color": "red"
           },
           "mode": "markers",
           "type": "scatter",
           "x": [
            5
           ],
           "y": [
            13
           ]
          },
          {
           "marker": {
            "color": "green"
           },
           "mode": "markers",
           "type": "scatter",
           "x": [
            7
           ],
           "y": [
            4
           ]
          },
          {
           "marker": {
            "color": "red"
           },
           "mode": "markers",
           "type": "scatter",
           "x": [
            7
           ],
           "y": [
            8
           ]
          },
          {
           "marker": {
            "color": "green"
           },
           "mode": "markers",
           "type": "scatter",
           "x": [
            6
           ],
           "y": [
            11
           ]
          },
          {
           "marker": {
            "color": "green"
           },
           "mode": "markers",
           "type": "scatter",
           "x": [
            9
           ],
           "y": [
            8
           ]
          },
          {
           "marker": {
            "color": "red"
           },
           "mode": "markers",
           "type": "scatter",
           "x": [
            8
           ],
           "y": [
            14
           ]
          },
          {
           "marker": {
            "color": "red"
           },
           "mode": "markers",
           "type": "scatter",
           "x": [
            9
           ],
           "y": [
            5
           ]
          },
          {
           "marker": {
            "color": "red"
           },
           "mode": "markers",
           "type": "scatter",
           "x": [
            11
           ],
           "y": [
            7
           ]
          },
          {
           "marker": {
            "color": "green"
           },
           "mode": "markers",
           "type": "scatter",
           "x": [
            10
           ],
           "y": [
            11
           ]
          },
          {
           "marker": {
            "color": "green"
           },
           "mode": "markers",
           "type": "scatter",
           "x": [
            9
           ],
           "y": [
            13
           ]
          },
          {
           "marker": {
            "color": "red"
           },
           "mode": "markers",
           "type": "scatter",
           "x": [
            8
           ],
           "y": [
            14
           ]
          },
          {
           "marker": {
            "color": "red"
           },
           "mode": "markers",
           "type": "scatter",
           "x": [
            9
           ],
           "y": [
            5
           ]
          },
          {
           "marker": {
            "color": "red"
           },
           "mode": "markers",
           "type": "scatter",
           "x": [
            11
           ],
           "y": [
            7
           ]
          },
          {
           "marker": {
            "color": "green"
           },
           "mode": "markers",
           "type": "scatter",
           "x": [
            10
           ],
           "y": [
            9
           ]
          },
          {
           "marker": {
            "color": "green"
           },
           "mode": "markers",
           "type": "scatter",
           "x": [
            13
           ],
           "y": [
            12
           ]
          },
          {
           "marker": {
            "color": "green"
           },
           "mode": "markers",
           "type": "scatter",
           "x": [
            12
           ],
           "y": [
            15
           ]
          },
          {
           "marker": {
            "color": "green"
           },
           "mode": "markers",
           "type": "scatter",
           "x": [
            12
           ],
           "y": [
            4
           ]
          },
          {
           "marker": {
            "color": "green"
           },
           "mode": "markers",
           "type": "scatter",
           "x": [
            15
           ],
           "y": [
            6
           ]
          },
          {
           "marker": {
            "color": "green"
           },
           "mode": "markers",
           "type": "scatter",
           "x": [
            15
           ],
           "y": [
            11
           ]
          },
          {
           "marker": {
            "color": "green"
           },
           "mode": "markers",
           "type": "scatter",
           "x": [
            12
           ],
           "y": [
            9
           ]
          },
          {
           "marker": {
            "color": "green"
           },
           "mode": "markers",
           "type": "scatter",
           "x": [
            13
           ],
           "y": [
            15
           ]
          }
         ],
         "layout": {
          "title": {
           "text": "Simulation frame 4"
          }
         }
        },
        {
         "data": [
          {
           "marker": {
            "color": "green"
           },
           "mode": "markers",
           "type": "scatter",
           "x": [
            5
           ],
           "y": [
            6
           ]
          },
          {
           "marker": {
            "color": "red"
           },
           "mode": "markers",
           "type": "scatter",
           "x": [
            7
           ],
           "y": [
            8
           ]
          },
          {
           "marker": {
            "color": "green"
           },
           "mode": "markers",
           "type": "scatter",
           "x": [
            5
           ],
           "y": [
            11
           ]
          },
          {
           "marker": {
            "color": "red"
           },
           "mode": "markers",
           "type": "scatter",
           "x": [
            5
           ],
           "y": [
            13
           ]
          },
          {
           "marker": {
            "color": "red"
           },
           "mode": "markers",
           "type": "scatter",
           "x": [
            5
           ],
           "y": [
            13
           ]
          },
          {
           "marker": {
            "color": "green"
           },
           "mode": "markers",
           "type": "scatter",
           "x": [
            7
           ],
           "y": [
            4
           ]
          },
          {
           "marker": {
            "color": "red"
           },
           "mode": "markers",
           "type": "scatter",
           "x": [
            7
           ],
           "y": [
            8
           ]
          },
          {
           "marker": {
            "color": "green"
           },
           "mode": "markers",
           "type": "scatter",
           "x": [
            6
           ],
           "y": [
            12
           ]
          },
          {
           "marker": {
            "color": "green"
           },
           "mode": "markers",
           "type": "scatter",
           "x": [
            9
           ],
           "y": [
            7
           ]
          },
          {
           "marker": {
            "color": "red"
           },
           "mode": "markers",
           "type": "scatter",
           "x": [
            8
           ],
           "y": [
            14
           ]
          },
          {
           "marker": {
            "color": "red"
           },
           "mode": "markers",
           "type": "scatter",
           "x": [
            9
           ],
           "y": [
            5
           ]
          },
          {
           "marker": {
            "color": "red"
           },
           "mode": "markers",
           "type": "scatter",
           "x": [
            11
           ],
           "y": [
            7
           ]
          },
          {
           "marker": {
            "color": "green"
           },
           "mode": "markers",
           "type": "scatter",
           "x": [
            10
           ],
           "y": [
            12
           ]
          },
          {
           "marker": {
            "color": "green"
           },
           "mode": "markers",
           "type": "scatter",
           "x": [
            9
           ],
           "y": [
            14
           ]
          },
          {
           "marker": {
            "color": "red"
           },
           "mode": "markers",
           "type": "scatter",
           "x": [
            8
           ],
           "y": [
            14
           ]
          },
          {
           "marker": {
            "color": "red"
           },
           "mode": "markers",
           "type": "scatter",
           "x": [
            9
           ],
           "y": [
            5
           ]
          },
          {
           "marker": {
            "color": "red"
           },
           "mode": "markers",
           "type": "scatter",
           "x": [
            11
           ],
           "y": [
            7
           ]
          },
          {
           "marker": {
            "color": "green"
           },
           "mode": "markers",
           "type": "scatter",
           "x": [
            10
           ],
           "y": [
            10
           ]
          },
          {
           "marker": {
            "color": "green"
           },
           "mode": "markers",
           "type": "scatter",
           "x": [
            14
           ],
           "y": [
            12
           ]
          },
          {
           "marker": {
            "color": "green"
           },
           "mode": "markers",
           "type": "scatter",
           "x": [
            12
           ],
           "y": [
            16
           ]
          },
          {
           "marker": {
            "color": "green"
           },
           "mode": "markers",
           "type": "scatter",
           "x": [
            12
           ],
           "y": [
            4
           ]
          },
          {
           "marker": {
            "color": "green"
           },
           "mode": "markers",
           "type": "scatter",
           "x": [
            15
           ],
           "y": [
            7
           ]
          },
          {
           "marker": {
            "color": "green"
           },
           "mode": "markers",
           "type": "scatter",
           "x": [
            15
           ],
           "y": [
            11
           ]
          },
          {
           "marker": {
            "color": "green"
           },
           "mode": "markers",
           "type": "scatter",
           "x": [
            12
           ],
           "y": [
            9
           ]
          },
          {
           "marker": {
            "color": "green"
           },
           "mode": "markers",
           "type": "scatter",
           "x": [
            13
           ],
           "y": [
            16
           ]
          }
         ],
         "layout": {
          "title": {
           "text": "Simulation frame 5"
          }
         }
        },
        {
         "data": [
          {
           "marker": {
            "color": "green"
           },
           "mode": "markers",
           "type": "scatter",
           "x": [
            5
           ],
           "y": [
            6
           ]
          },
          {
           "marker": {
            "color": "red"
           },
           "mode": "markers",
           "type": "scatter",
           "x": [
            7
           ],
           "y": [
            8
           ]
          },
          {
           "marker": {
            "color": "green"
           },
           "mode": "markers",
           "type": "scatter",
           "x": [
            4
           ],
           "y": [
            11
           ]
          },
          {
           "marker": {
            "color": "red"
           },
           "mode": "markers",
           "type": "scatter",
           "x": [
            5
           ],
           "y": [
            13
           ]
          },
          {
           "marker": {
            "color": "red"
           },
           "mode": "markers",
           "type": "scatter",
           "x": [
            5
           ],
           "y": [
            13
           ]
          },
          {
           "marker": {
            "color": "green"
           },
           "mode": "markers",
           "type": "scatter",
           "x": [
            6
           ],
           "y": [
            4
           ]
          },
          {
           "marker": {
            "color": "red"
           },
           "mode": "markers",
           "type": "scatter",
           "x": [
            7
           ],
           "y": [
            8
           ]
          },
          {
           "marker": {
            "color": "green"
           },
           "mode": "markers",
           "type": "scatter",
           "x": [
            6
           ],
           "y": [
            11
           ]
          },
          {
           "marker": {
            "color": "green"
           },
           "mode": "markers",
           "type": "scatter",
           "x": [
            8
           ],
           "y": [
            7
           ]
          },
          {
           "marker": {
            "color": "red"
           },
           "mode": "markers",
           "type": "scatter",
           "x": [
            8
           ],
           "y": [
            14
           ]
          },
          {
           "marker": {
            "color": "red"
           },
           "mode": "markers",
           "type": "scatter",
           "x": [
            9
           ],
           "y": [
            5
           ]
          },
          {
           "marker": {
            "color": "red"
           },
           "mode": "markers",
           "type": "scatter",
           "x": [
            11
           ],
           "y": [
            7
           ]
          },
          {
           "marker": {
            "color": "green"
           },
           "mode": "markers",
           "type": "scatter",
           "x": [
            10
           ],
           "y": [
            13
           ]
          },
          {
           "marker": {
            "color": "green"
           },
           "mode": "markers",
           "type": "scatter",
           "x": [
            9
           ],
           "y": [
            14
           ]
          },
          {
           "marker": {
            "color": "red"
           },
           "mode": "markers",
           "type": "scatter",
           "x": [
            8
           ],
           "y": [
            14
           ]
          },
          {
           "marker": {
            "color": "red"
           },
           "mode": "markers",
           "type": "scatter",
           "x": [
            9
           ],
           "y": [
            5
           ]
          },
          {
           "marker": {
            "color": "red"
           },
           "mode": "markers",
           "type": "scatter",
           "x": [
            11
           ],
           "y": [
            7
           ]
          },
          {
           "marker": {
            "color": "green"
           },
           "mode": "markers",
           "type": "scatter",
           "x": [
            10
           ],
           "y": [
            9
           ]
          },
          {
           "marker": {
            "color": "green"
           },
           "mode": "markers",
           "type": "scatter",
           "x": [
            14
           ],
           "y": [
            12
           ]
          },
          {
           "marker": {
            "color": "green"
           },
           "mode": "markers",
           "type": "scatter",
           "x": [
            12
           ],
           "y": [
            15
           ]
          },
          {
           "marker": {
            "color": "green"
           },
           "mode": "markers",
           "type": "scatter",
           "x": [
            12
           ],
           "y": [
            4
           ]
          },
          {
           "marker": {
            "color": "green"
           },
           "mode": "markers",
           "type": "scatter",
           "x": [
            15
           ],
           "y": [
            6
           ]
          },
          {
           "marker": {
            "color": "green"
           },
           "mode": "markers",
           "type": "scatter",
           "x": [
            15
           ],
           "y": [
            12
           ]
          },
          {
           "marker": {
            "color": "green"
           },
           "mode": "markers",
           "type": "scatter",
           "x": [
            13
           ],
           "y": [
            9
           ]
          },
          {
           "marker": {
            "color": "green"
           },
           "mode": "markers",
           "type": "scatter",
           "x": [
            13
           ],
           "y": [
            16
           ]
          }
         ],
         "layout": {
          "title": {
           "text": "Simulation frame 6"
          }
         }
        },
        {
         "data": [
          {
           "marker": {
            "color": "green"
           },
           "mode": "markers",
           "type": "scatter",
           "x": [
            6
           ],
           "y": [
            6
           ]
          },
          {
           "marker": {
            "color": "red"
           },
           "mode": "markers",
           "type": "scatter",
           "x": [
            7
           ],
           "y": [
            8
           ]
          },
          {
           "marker": {
            "color": "green"
           },
           "mode": "markers",
           "type": "scatter",
           "x": [
            4
           ],
           "y": [
            12
           ]
          },
          {
           "marker": {
            "color": "red"
           },
           "mode": "markers",
           "type": "scatter",
           "x": [
            5
           ],
           "y": [
            13
           ]
          },
          {
           "marker": {
            "color": "red"
           },
           "mode": "markers",
           "type": "scatter",
           "x": [
            5
           ],
           "y": [
            13
           ]
          },
          {
           "marker": {
            "color": "green"
           },
           "mode": "markers",
           "type": "scatter",
           "x": [
            6
           ],
           "y": [
            5
           ]
          },
          {
           "marker": {
            "color": "red"
           },
           "mode": "markers",
           "type": "scatter",
           "x": [
            7
           ],
           "y": [
            8
           ]
          },
          {
           "marker": {
            "color": "green"
           },
           "mode": "markers",
           "type": "scatter",
           "x": [
            6
           ],
           "y": [
            10
           ]
          },
          {
           "marker": {
            "color": "green"
           },
           "mode": "markers",
           "type": "scatter",
           "x": [
            8
           ],
           "y": [
            8
           ]
          },
          {
           "marker": {
            "color": "red"
           },
           "mode": "markers",
           "type": "scatter",
           "x": [
            8
           ],
           "y": [
            14
           ]
          },
          {
           "marker": {
            "color": "red"
           },
           "mode": "markers",
           "type": "scatter",
           "x": [
            9
           ],
           "y": [
            5
           ]
          },
          {
           "marker": {
            "color": "red"
           },
           "mode": "markers",
           "type": "scatter",
           "x": [
            11
           ],
           "y": [
            7
           ]
          },
          {
           "marker": {
            "color": "green"
           },
           "mode": "markers",
           "type": "scatter",
           "x": [
            10
           ],
           "y": [
            12
           ]
          },
          {
           "marker": {
            "color": "red"
           },
           "mode": "markers",
           "type": "scatter",
           "x": [
            8
           ],
           "y": [
            14
           ]
          },
          {
           "marker": {
            "color": "red"
           },
           "mode": "markers",
           "type": "scatter",
           "x": [
            8
           ],
           "y": [
            14
           ]
          },
          {
           "marker": {
            "color": "red"
           },
           "mode": "markers",
           "type": "scatter",
           "x": [
            9
           ],
           "y": [
            5
           ]
          },
          {
           "marker": {
            "color": "red"
           },
           "mode": "markers",
           "type": "scatter",
           "x": [
            11
           ],
           "y": [
            7
           ]
          },
          {
           "marker": {
            "color": "green"
           },
           "mode": "markers",
           "type": "scatter",
           "x": [
            10
           ],
           "y": [
            8
           ]
          },
          {
           "marker": {
            "color": "red"
           },
           "mode": "markers",
           "type": "scatter",
           "x": [
            14
           ],
           "y": [
            12
           ]
          },
          {
           "marker": {
            "color": "green"
           },
           "mode": "markers",
           "type": "scatter",
           "x": [
            12
           ],
           "y": [
            14
           ]
          },
          {
           "marker": {
            "color": "green"
           },
           "mode": "markers",
           "type": "scatter",
           "x": [
            12
           ],
           "y": [
            3
           ]
          },
          {
           "marker": {
            "color": "green"
           },
           "mode": "markers",
           "type": "scatter",
           "x": [
            15
           ],
           "y": [
            7
           ]
          },
          {
           "marker": {
            "color": "red"
           },
           "mode": "markers",
           "type": "scatter",
           "x": [
            14
           ],
           "y": [
            12
           ]
          },
          {
           "marker": {
            "color": "green"
           },
           "mode": "markers",
           "type": "scatter",
           "x": [
            14
           ],
           "y": [
            9
           ]
          },
          {
           "marker": {
            "color": "green"
           },
           "mode": "markers",
           "type": "scatter",
           "x": [
            13
           ],
           "y": [
            16
           ]
          }
         ],
         "layout": {
          "title": {
           "text": "Simulation frame 7"
          }
         }
        },
        {
         "data": [
          {
           "marker": {
            "color": "green"
           },
           "mode": "markers",
           "type": "scatter",
           "x": [
            6
           ],
           "y": [
            5
           ]
          },
          {
           "marker": {
            "color": "red"
           },
           "mode": "markers",
           "type": "scatter",
           "x": [
            7
           ],
           "y": [
            8
           ]
          },
          {
           "marker": {
            "color": "green"
           },
           "mode": "markers",
           "type": "scatter",
           "x": [
            4
           ],
           "y": [
            12
           ]
          },
          {
           "marker": {
            "color": "red"
           },
           "mode": "markers",
           "type": "scatter",
           "x": [
            5
           ],
           "y": [
            13
           ]
          },
          {
           "marker": {
            "color": "red"
           },
           "mode": "markers",
           "type": "scatter",
           "x": [
            5
           ],
           "y": [
            13
           ]
          },
          {
           "marker": {
            "color": "green"
           },
           "mode": "markers",
           "type": "scatter",
           "x": [
            5
           ],
           "y": [
            5
           ]
          },
          {
           "marker": {
            "color": "red"
           },
           "mode": "markers",
           "type": "scatter",
           "x": [
            7
           ],
           "y": [
            8
           ]
          },
          {
           "marker": {
            "color": "green"
           },
           "mode": "markers",
           "type": "scatter",
           "x": [
            6
           ],
           "y": [
            9
           ]
          },
          {
           "marker": {
            "color": "green"
           },
           "mode": "markers",
           "type": "scatter",
           "x": [
            8
           ],
           "y": [
            7
           ]
          },
          {
           "marker": {
            "color": "red"
           },
           "mode": "markers",
           "type": "scatter",
           "x": [
            8
           ],
           "y": [
            14
           ]
          },
          {
           "marker": {
            "color": "red"
           },
           "mode": "markers",
           "type": "scatter",
           "x": [
            9
           ],
           "y": [
            5
           ]
          },
          {
           "marker": {
            "color": "red"
           },
           "mode": "markers",
           "type": "scatter",
           "x": [
            11
           ],
           "y": [
            7
           ]
          },
          {
           "marker": {
            "color": "green"
           },
           "mode": "markers",
           "type": "scatter",
           "x": [
            9
           ],
           "y": [
            12
           ]
          },
          {
           "marker": {
            "color": "red"
           },
           "mode": "markers",
           "type": "scatter",
           "x": [
            8
           ],
           "y": [
            14
           ]
          },
          {
           "marker": {
            "color": "red"
           },
           "mode": "markers",
           "type": "scatter",
           "x": [
            8
           ],
           "y": [
            14
           ]
          },
          {
           "marker": {
            "color": "red"
           },
           "mode": "markers",
           "type": "scatter",
           "x": [
            9
           ],
           "y": [
            5
           ]
          },
          {
           "marker": {
            "color": "red"
           },
           "mode": "markers",
           "type": "scatter",
           "x": [
            11
           ],
           "y": [
            7
           ]
          },
          {
           "marker": {
            "color": "green"
           },
           "mode": "markers",
           "type": "scatter",
           "x": [
            11
           ],
           "y": [
            8
           ]
          },
          {
           "marker": {
            "color": "red"
           },
           "mode": "markers",
           "type": "scatter",
           "x": [
            14
           ],
           "y": [
            12
           ]
          },
          {
           "marker": {
            "color": "green"
           },
           "mode": "markers",
           "type": "scatter",
           "x": [
            12
           ],
           "y": [
            15
           ]
          },
          {
           "marker": {
            "color": "green"
           },
           "mode": "markers",
           "type": "scatter",
           "x": [
            11
           ],
           "y": [
            3
           ]
          },
          {
           "marker": {
            "color": "green"
           },
           "mode": "markers",
           "type": "scatter",
           "x": [
            15
           ],
           "y": [
            7
           ]
          },
          {
           "marker": {
            "color": "red"
           },
           "mode": "markers",
           "type": "scatter",
           "x": [
            14
           ],
           "y": [
            12
           ]
          },
          {
           "marker": {
            "color": "green"
           },
           "mode": "markers",
           "type": "scatter",
           "x": [
            13
           ],
           "y": [
            9
           ]
          },
          {
           "marker": {
            "color": "green"
           },
           "mode": "markers",
           "type": "scatter",
           "x": [
            12
           ],
           "y": [
            16
           ]
          }
         ],
         "layout": {
          "title": {
           "text": "Simulation frame 8"
          }
         }
        },
        {
         "data": [
          {
           "marker": {
            "color": "green"
           },
           "mode": "markers",
           "type": "scatter",
           "x": [
            6
           ],
           "y": [
            5
           ]
          },
          {
           "marker": {
            "color": "red"
           },
           "mode": "markers",
           "type": "scatter",
           "x": [
            7
           ],
           "y": [
            8
           ]
          },
          {
           "marker": {
            "color": "green"
           },
           "mode": "markers",
           "type": "scatter",
           "x": [
            4
           ],
           "y": [
            13
           ]
          },
          {
           "marker": {
            "color": "red"
           },
           "mode": "markers",
           "type": "scatter",
           "x": [
            5
           ],
           "y": [
            13
           ]
          },
          {
           "marker": {
            "color": "red"
           },
           "mode": "markers",
           "type": "scatter",
           "x": [
            5
           ],
           "y": [
            13
           ]
          },
          {
           "marker": {
            "color": "green"
           },
           "mode": "markers",
           "type": "scatter",
           "x": [
            4
           ],
           "y": [
            5
           ]
          },
          {
           "marker": {
            "color": "red"
           },
           "mode": "markers",
           "type": "scatter",
           "x": [
            7
           ],
           "y": [
            8
           ]
          },
          {
           "marker": {
            "color": "green"
           },
           "mode": "markers",
           "type": "scatter",
           "x": [
            6
           ],
           "y": [
            10
           ]
          },
          {
           "marker": {
            "color": "green"
           },
           "mode": "markers",
           "type": "scatter",
           "x": [
            8
           ],
           "y": [
            8
           ]
          },
          {
           "marker": {
            "color": "red"
           },
           "mode": "markers",
           "type": "scatter",
           "x": [
            8
           ],
           "y": [
            14
           ]
          },
          {
           "marker": {
            "color": "red"
           },
           "mode": "markers",
           "type": "scatter",
           "x": [
            9
           ],
           "y": [
            5
           ]
          },
          {
           "marker": {
            "color": "red"
           },
           "mode": "markers",
           "type": "scatter",
           "x": [
            11
           ],
           "y": [
            7
           ]
          },
          {
           "marker": {
            "color": "green"
           },
           "mode": "markers",
           "type": "scatter",
           "x": [
            9
           ],
           "y": [
            13
           ]
          },
          {
           "marker": {
            "color": "red"
           },
           "mode": "markers",
           "type": "scatter",
           "x": [
            8
           ],
           "y": [
            14
           ]
          },
          {
           "marker": {
            "color": "red"
           },
           "mode": "markers",
           "type": "scatter",
           "x": [
            8
           ],
           "y": [
            14
           ]
          },
          {
           "marker": {
            "color": "red"
           },
           "mode": "markers",
           "type": "scatter",
           "x": [
            9
           ],
           "y": [
            5
           ]
          },
          {
           "marker": {
            "color": "red"
           },
           "mode": "markers",
           "type": "scatter",
           "x": [
            11
           ],
           "y": [
            7
           ]
          },
          {
           "marker": {
            "color": "green"
           },
           "mode": "markers",
           "type": "scatter",
           "x": [
            11
           ],
           "y": [
            8
           ]
          },
          {
           "marker": {
            "color": "red"
           },
           "mode": "markers",
           "type": "scatter",
           "x": [
            14
           ],
           "y": [
            12
           ]
          },
          {
           "marker": {
            "color": "green"
           },
           "mode": "markers",
           "type": "scatter",
           "x": [
            11
           ],
           "y": [
            15
           ]
          },
          {
           "marker": {
            "color": "green"
           },
           "mode": "markers",
           "type": "scatter",
           "x": [
            11
           ],
           "y": [
            3
           ]
          },
          {
           "marker": {
            "color": "green"
           },
           "mode": "markers",
           "type": "scatter",
           "x": [
            15
           ],
           "y": [
            6
           ]
          },
          {
           "marker": {
            "color": "red"
           },
           "mode": "markers",
           "type": "scatter",
           "x": [
            14
           ],
           "y": [
            12
           ]
          },
          {
           "marker": {
            "color": "green"
           },
           "mode": "markers",
           "type": "scatter",
           "x": [
            13
           ],
           "y": [
            9
           ]
          },
          {
           "marker": {
            "color": "green"
           },
           "mode": "markers",
           "type": "scatter",
           "x": [
            12
           ],
           "y": [
            17
           ]
          }
         ],
         "layout": {
          "title": {
           "text": "Simulation frame 9"
          }
         }
        },
        {
         "data": [
          {
           "marker": {
            "color": "green"
           },
           "mode": "markers",
           "type": "scatter",
           "x": [
            6
           ],
           "y": [
            6
           ]
          },
          {
           "marker": {
            "color": "red"
           },
           "mode": "markers",
           "type": "scatter",
           "x": [
            7
           ],
           "y": [
            8
           ]
          },
          {
           "marker": {
            "color": "green"
           },
           "mode": "markers",
           "type": "scatter",
           "x": [
            4
           ],
           "y": [
            13
           ]
          },
          {
           "marker": {
            "color": "red"
           },
           "mode": "markers",
           "type": "scatter",
           "x": [
            5
           ],
           "y": [
            13
           ]
          },
          {
           "marker": {
            "color": "red"
           },
           "mode": "markers",
           "type": "scatter",
           "x": [
            5
           ],
           "y": [
            13
           ]
          },
          {
           "marker": {
            "color": "green"
           },
           "mode": "markers",
           "type": "scatter",
           "x": [
            4
           ],
           "y": [
            6
           ]
          },
          {
           "marker": {
            "color": "red"
           },
           "mode": "markers",
           "type": "scatter",
           "x": [
            7
           ],
           "y": [
            8
           ]
          },
          {
           "marker": {
            "color": "green"
           },
           "mode": "markers",
           "type": "scatter",
           "x": [
            7
           ],
           "y": [
            10
           ]
          },
          {
           "marker": {
            "color": "green"
           },
           "mode": "markers",
           "type": "scatter",
           "x": [
            8
           ],
           "y": [
            9
           ]
          },
          {
           "marker": {
            "color": "red"
           },
           "mode": "markers",
           "type": "scatter",
           "x": [
            8
           ],
           "y": [
            14
           ]
          },
          {
           "marker": {
            "color": "red"
           },
           "mode": "markers",
           "type": "scatter",
           "x": [
            9
           ],
           "y": [
            5
           ]
          },
          {
           "marker": {
            "color": "red"
           },
           "mode": "markers",
           "type": "scatter",
           "x": [
            11
           ],
           "y": [
            7
           ]
          },
          {
           "marker": {
            "color": "green"
           },
           "mode": "markers",
           "type": "scatter",
           "x": [
            9
           ],
           "y": [
            13
           ]
          },
          {
           "marker": {
            "color": "red"
           },
           "mode": "markers",
           "type": "scatter",
           "x": [
            8
           ],
           "y": [
            14
           ]
          },
          {
           "marker": {
            "color": "red"
           },
           "mode": "markers",
           "type": "scatter",
           "x": [
            8
           ],
           "y": [
            14
           ]
          },
          {
           "marker": {
            "color": "red"
           },
           "mode": "markers",
           "type": "scatter",
           "x": [
            9
           ],
           "y": [
            5
           ]
          },
          {
           "marker": {
            "color": "red"
           },
           "mode": "markers",
           "type": "scatter",
           "x": [
            11
           ],
           "y": [
            7
           ]
          },
          {
           "marker": {
            "color": "green"
           },
           "mode": "markers",
           "type": "scatter",
           "x": [
            11
           ],
           "y": [
            8
           ]
          },
          {
           "marker": {
            "color": "red"
           },
           "mode": "markers",
           "type": "scatter",
           "x": [
            14
           ],
           "y": [
            12
           ]
          },
          {
           "marker": {
            "color": "green"
           },
           "mode": "markers",
           "type": "scatter",
           "x": [
            11
           ],
           "y": [
            14
           ]
          },
          {
           "marker": {
            "color": "green"
           },
           "mode": "markers",
           "type": "scatter",
           "x": [
            11
           ],
           "y": [
            2
           ]
          },
          {
           "marker": {
            "color": "green"
           },
           "mode": "markers",
           "type": "scatter",
           "x": [
            15
           ],
           "y": [
            6
           ]
          },
          {
           "marker": {
            "color": "red"
           },
           "mode": "markers",
           "type": "scatter",
           "x": [
            14
           ],
           "y": [
            12
           ]
          },
          {
           "marker": {
            "color": "green"
           },
           "mode": "markers",
           "type": "scatter",
           "x": [
            12
           ],
           "y": [
            9
           ]
          },
          {
           "marker": {
            "color": "green"
           },
           "mode": "markers",
           "type": "scatter",
           "x": [
            13
           ],
           "y": [
            17
           ]
          }
         ],
         "layout": {
          "title": {
           "text": "Simulation frame 10"
          }
         }
        },
        {
         "data": [
          {
           "marker": {
            "color": "green"
           },
           "mode": "markers",
           "type": "scatter",
           "x": [
            5
           ],
           "y": [
            6
           ]
          },
          {
           "marker": {
            "color": "red"
           },
           "mode": "markers",
           "type": "scatter",
           "x": [
            7
           ],
           "y": [
            8
           ]
          },
          {
           "marker": {
            "color": "green"
           },
           "mode": "markers",
           "type": "scatter",
           "x": [
            4
           ],
           "y": [
            13
           ]
          },
          {
           "marker": {
            "color": "red"
           },
           "mode": "markers",
           "type": "scatter",
           "x": [
            5
           ],
           "y": [
            13
           ]
          },
          {
           "marker": {
            "color": "red"
           },
           "mode": "markers",
           "type": "scatter",
           "x": [
            5
           ],
           "y": [
            13
           ]
          },
          {
           "marker": {
            "color": "green"
           },
           "mode": "markers",
           "type": "scatter",
           "x": [
            4
           ],
           "y": [
            5
           ]
          },
          {
           "marker": {
            "color": "red"
           },
           "mode": "markers",
           "type": "scatter",
           "x": [
            7
           ],
           "y": [
            8
           ]
          },
          {
           "marker": {
            "color": "green"
           },
           "mode": "markers",
           "type": "scatter",
           "x": [
            7
           ],
           "y": [
            11
           ]
          },
          {
           "marker": {
            "color": "green"
           },
           "mode": "markers",
           "type": "scatter",
           "x": [
            9
           ],
           "y": [
            9
           ]
          },
          {
           "marker": {
            "color": "red"
           },
           "mode": "markers",
           "type": "scatter",
           "x": [
            8
           ],
           "y": [
            14
           ]
          },
          {
           "marker": {
            "color": "red"
           },
           "mode": "markers",
           "type": "scatter",
           "x": [
            9
           ],
           "y": [
            5
           ]
          },
          {
           "marker": {
            "color": "red"
           },
           "mode": "markers",
           "type": "scatter",
           "x": [
            11
           ],
           "y": [
            7
           ]
          },
          {
           "marker": {
            "color": "green"
           },
           "mode": "markers",
           "type": "scatter",
           "x": [
            9
           ],
           "y": [
            13
           ]
          },
          {
           "marker": {
            "color": "red"
           },
           "mode": "markers",
           "type": "scatter",
           "x": [
            8
           ],
           "y": [
            14
           ]
          },
          {
           "marker": {
            "color": "red"
           },
           "mode": "markers",
           "type": "scatter",
           "x": [
            8
           ],
           "y": [
            14
           ]
          },
          {
           "marker": {
            "color": "red"
           },
           "mode": "markers",
           "type": "scatter",
           "x": [
            9
           ],
           "y": [
            5
           ]
          },
          {
           "marker": {
            "color": "red"
           },
           "mode": "markers",
           "type": "scatter",
           "x": [
            11
           ],
           "y": [
            7
           ]
          },
          {
           "marker": {
            "color": "green"
           },
           "mode": "markers",
           "type": "scatter",
           "x": [
            12
           ],
           "y": [
            8
           ]
          },
          {
           "marker": {
            "color": "red"
           },
           "mode": "markers",
           "type": "scatter",
           "x": [
            14
           ],
           "y": [
            12
           ]
          },
          {
           "marker": {
            "color": "green"
           },
           "mode": "markers",
           "type": "scatter",
           "x": [
            10
           ],
           "y": [
            14
           ]
          },
          {
           "marker": {
            "color": "green"
           },
           "mode": "markers",
           "type": "scatter",
           "x": [
            11
           ],
           "y": [
            1
           ]
          },
          {
           "marker": {
            "color": "green"
           },
           "mode": "markers",
           "type": "scatter",
           "x": [
            15
           ],
           "y": [
            6
           ]
          },
          {
           "marker": {
            "color": "red"
           },
           "mode": "markers",
           "type": "scatter",
           "x": [
            14
           ],
           "y": [
            12
           ]
          },
          {
           "marker": {
            "color": "green"
           },
           "mode": "markers",
           "type": "scatter",
           "x": [
            11
           ],
           "y": [
            9
           ]
          },
          {
           "marker": {
            "color": "green"
           },
           "mode": "markers",
           "type": "scatter",
           "x": [
            14
           ],
           "y": [
            17
           ]
          }
         ],
         "layout": {
          "title": {
           "text": "Simulation frame 11"
          }
         }
        },
        {
         "data": [
          {
           "marker": {
            "color": "green"
           },
           "mode": "markers",
           "type": "scatter",
           "x": [
            4
           ],
           "y": [
            6
           ]
          },
          {
           "marker": {
            "color": "red"
           },
           "mode": "markers",
           "type": "scatter",
           "x": [
            7
           ],
           "y": [
            8
           ]
          },
          {
           "marker": {
            "color": "green"
           },
           "mode": "markers",
           "type": "scatter",
           "x": [
            4
           ],
           "y": [
            14
           ]
          },
          {
           "marker": {
            "color": "red"
           },
           "mode": "markers",
           "type": "scatter",
           "x": [
            5
           ],
           "y": [
            13
           ]
          },
          {
           "marker": {
            "color": "red"
           },
           "mode": "markers",
           "type": "scatter",
           "x": [
            5
           ],
           "y": [
            13
           ]
          },
          {
           "marker": {
            "color": "green"
           },
           "mode": "markers",
           "type": "scatter",
           "x": [
            5
           ],
           "y": [
            5
           ]
          },
          {
           "marker": {
            "color": "red"
           },
           "mode": "markers",
           "type": "scatter",
           "x": [
            7
           ],
           "y": [
            8
           ]
          },
          {
           "marker": {
            "color": "green"
           },
           "mode": "markers",
           "type": "scatter",
           "x": [
            7
           ],
           "y": [
            12
           ]
          },
          {
           "marker": {
            "color": "green"
           },
           "mode": "markers",
           "type": "scatter",
           "x": [
            9
           ],
           "y": [
            9
           ]
          },
          {
           "marker": {
            "color": "red"
           },
           "mode": "markers",
           "type": "scatter",
           "x": [
            8
           ],
           "y": [
            14
           ]
          },
          {
           "marker": {
            "color": "red"
           },
           "mode": "markers",
           "type": "scatter",
           "x": [
            9
           ],
           "y": [
            5
           ]
          },
          {
           "marker": {
            "color": "red"
           },
           "mode": "markers",
           "type": "scatter",
           "x": [
            11
           ],
           "y": [
            7
           ]
          },
          {
           "marker": {
            "color": "green"
           },
           "mode": "markers",
           "type": "scatter",
           "x": [
            9
           ],
           "y": [
            12
           ]
          },
          {
           "marker": {
            "color": "red"
           },
           "mode": "markers",
           "type": "scatter",
           "x": [
            8
           ],
           "y": [
            14
           ]
          },
          {
           "marker": {
            "color": "red"
           },
           "mode": "markers",
           "type": "scatter",
           "x": [
            8
           ],
           "y": [
            14
           ]
          },
          {
           "marker": {
            "color": "red"
           },
           "mode": "markers",
           "type": "scatter",
           "x": [
            9
           ],
           "y": [
            5
           ]
          },
          {
           "marker": {
            "color": "red"
           },
           "mode": "markers",
           "type": "scatter",
           "x": [
            11
           ],
           "y": [
            7
           ]
          },
          {
           "marker": {
            "color": "green"
           },
           "mode": "markers",
           "type": "scatter",
           "x": [
            13
           ],
           "y": [
            8
           ]
          },
          {
           "marker": {
            "color": "red"
           },
           "mode": "markers",
           "type": "scatter",
           "x": [
            14
           ],
           "y": [
            12
           ]
          },
          {
           "marker": {
            "color": "green"
           },
           "mode": "markers",
           "type": "scatter",
           "x": [
            9
           ],
           "y": [
            14
           ]
          },
          {
           "marker": {
            "color": "green"
           },
           "mode": "markers",
           "type": "scatter",
           "x": [
            10
           ],
           "y": [
            1
           ]
          },
          {
           "marker": {
            "color": "green"
           },
           "mode": "markers",
           "type": "scatter",
           "x": [
            14
           ],
           "y": [
            6
           ]
          },
          {
           "marker": {
            "color": "red"
           },
           "mode": "markers",
           "type": "scatter",
           "x": [
            14
           ],
           "y": [
            12
           ]
          },
          {
           "marker": {
            "color": "green"
           },
           "mode": "markers",
           "type": "scatter",
           "x": [
            11
           ],
           "y": [
            9
           ]
          },
          {
           "marker": {
            "color": "green"
           },
           "mode": "markers",
           "type": "scatter",
           "x": [
            14
           ],
           "y": [
            17
           ]
          }
         ],
         "layout": {
          "title": {
           "text": "Simulation frame 12"
          }
         }
        },
        {
         "data": [
          {
           "marker": {
            "color": "green"
           },
           "mode": "markers",
           "type": "scatter",
           "x": [
            4
           ],
           "y": [
            7
           ]
          },
          {
           "marker": {
            "color": "red"
           },
           "mode": "markers",
           "type": "scatter",
           "x": [
            7
           ],
           "y": [
            8
           ]
          },
          {
           "marker": {
            "color": "green"
           },
           "mode": "markers",
           "type": "scatter",
           "x": [
            4
           ],
           "y": [
            15
           ]
          },
          {
           "marker": {
            "color": "red"
           },
           "mode": "markers",
           "type": "scatter",
           "x": [
            5
           ],
           "y": [
            13
           ]
          },
          {
           "marker": {
            "color": "red"
           },
           "mode": "markers",
           "type": "scatter",
           "x": [
            5
           ],
           "y": [
            13
           ]
          },
          {
           "marker": {
            "color": "green"
           },
           "mode": "markers",
           "type": "scatter",
           "x": [
            5
           ],
           "y": [
            4
           ]
          },
          {
           "marker": {
            "color": "red"
           },
           "mode": "markers",
           "type": "scatter",
           "x": [
            7
           ],
           "y": [
            8
           ]
          },
          {
           "marker": {
            "color": "green"
           },
           "mode": "markers",
           "type": "scatter",
           "x": [
            7
           ],
           "y": [
            11
           ]
          },
          {
           "marker": {
            "color": "green"
           },
           "mode": "markers",
           "type": "scatter",
           "x": [
            9
           ],
           "y": [
            10
           ]
          },
          {
           "marker": {
            "color": "red"
           },
           "mode": "markers",
           "type": "scatter",
           "x": [
            8
           ],
           "y": [
            14
           ]
          },
          {
           "marker": {
            "color": "red"
           },
           "mode": "markers",
           "type": "scatter",
           "x": [
            9
           ],
           "y": [
            5
           ]
          },
          {
           "marker": {
            "color": "red"
           },
           "mode": "markers",
           "type": "scatter",
           "x": [
            11
           ],
           "y": [
            7
           ]
          },
          {
           "marker": {
            "color": "green"
           },
           "mode": "markers",
           "type": "scatter",
           "x": [
            10
           ],
           "y": [
            12
           ]
          },
          {
           "marker": {
            "color": "red"
           },
           "mode": "markers",
           "type": "scatter",
           "x": [
            8
           ],
           "y": [
            14
           ]
          },
          {
           "marker": {
            "color": "red"
           },
           "mode": "markers",
           "type": "scatter",
           "x": [
            8
           ],
           "y": [
            14
           ]
          },
          {
           "marker": {
            "color": "red"
           },
           "mode": "markers",
           "type": "scatter",
           "x": [
            9
           ],
           "y": [
            5
           ]
          },
          {
           "marker": {
            "color": "red"
           },
           "mode": "markers",
           "type": "scatter",
           "x": [
            11
           ],
           "y": [
            7
           ]
          },
          {
           "marker": {
            "color": "green"
           },
           "mode": "markers",
           "type": "scatter",
           "x": [
            14
           ],
           "y": [
            8
           ]
          },
          {
           "marker": {
            "color": "red"
           },
           "mode": "markers",
           "type": "scatter",
           "x": [
            14
           ],
           "y": [
            12
           ]
          },
          {
           "marker": {
            "color": "green"
           },
           "mode": "markers",
           "type": "scatter",
           "x": [
            9
           ],
           "y": [
            13
           ]
          },
          {
           "marker": {
            "color": "green"
           },
           "mode": "markers",
           "type": "scatter",
           "x": [
            10
           ],
           "y": [
            0
           ]
          },
          {
           "marker": {
            "color": "green"
           },
           "mode": "markers",
           "type": "scatter",
           "x": [
            14
           ],
           "y": [
            6
           ]
          },
          {
           "marker": {
            "color": "red"
           },
           "mode": "markers",
           "type": "scatter",
           "x": [
            14
           ],
           "y": [
            12
           ]
          },
          {
           "marker": {
            "color": "green"
           },
           "mode": "markers",
           "type": "scatter",
           "x": [
            11
           ],
           "y": [
            8
           ]
          },
          {
           "marker": {
            "color": "green"
           },
           "mode": "markers",
           "type": "scatter",
           "x": [
            14
           ],
           "y": [
            18
           ]
          }
         ],
         "layout": {
          "title": {
           "text": "Simulation frame 13"
          }
         }
        },
        {
         "data": [
          {
           "marker": {
            "color": "green"
           },
           "mode": "markers",
           "type": "scatter",
           "x": [
            4
           ],
           "y": [
            7
           ]
          },
          {
           "marker": {
            "color": "red"
           },
           "mode": "markers",
           "type": "scatter",
           "x": [
            7
           ],
           "y": [
            8
           ]
          },
          {
           "marker": {
            "color": "green"
           },
           "mode": "markers",
           "type": "scatter",
           "x": [
            4
           ],
           "y": [
            15
           ]
          },
          {
           "marker": {
            "color": "red"
           },
           "mode": "markers",
           "type": "scatter",
           "x": [
            5
           ],
           "y": [
            13
           ]
          },
          {
           "marker": {
            "color": "red"
           },
           "mode": "markers",
           "type": "scatter",
           "x": [
            5
           ],
           "y": [
            13
           ]
          },
          {
           "marker": {
            "color": "green"
           },
           "mode": "markers",
           "type": "scatter",
           "x": [
            4
           ],
           "y": [
            4
           ]
          },
          {
           "marker": {
            "color": "red"
           },
           "mode": "markers",
           "type": "scatter",
           "x": [
            7
           ],
           "y": [
            8
           ]
          },
          {
           "marker": {
            "color": "green"
           },
           "mode": "markers",
           "type": "scatter",
           "x": [
            7
           ],
           "y": [
            12
           ]
          },
          {
           "marker": {
            "color": "green"
           },
           "mode": "markers",
           "type": "scatter",
           "x": [
            9
           ],
           "y": [
            11
           ]
          },
          {
           "marker": {
            "color": "red"
           },
           "mode": "markers",
           "type": "scatter",
           "x": [
            8
           ],
           "y": [
            14
           ]
          },
          {
           "marker": {
            "color": "red"
           },
           "mode": "markers",
           "type": "scatter",
           "x": [
            9
           ],
           "y": [
            5
           ]
          },
          {
           "marker": {
            "color": "red"
           },
           "mode": "markers",
           "type": "scatter",
           "x": [
            11
           ],
           "y": [
            7
           ]
          },
          {
           "marker": {
            "color": "green"
           },
           "mode": "markers",
           "type": "scatter",
           "x": [
            10
           ],
           "y": [
            11
           ]
          },
          {
           "marker": {
            "color": "red"
           },
           "mode": "markers",
           "type": "scatter",
           "x": [
            8
           ],
           "y": [
            14
           ]
          },
          {
           "marker": {
            "color": "red"
           },
           "mode": "markers",
           "type": "scatter",
           "x": [
            8
           ],
           "y": [
            14
           ]
          },
          {
           "marker": {
            "color": "red"
           },
           "mode": "markers",
           "type": "scatter",
           "x": [
            9
           ],
           "y": [
            5
           ]
          },
          {
           "marker": {
            "color": "red"
           },
           "mode": "markers",
           "type": "scatter",
           "x": [
            11
           ],
           "y": [
            7
           ]
          },
          {
           "marker": {
            "color": "green"
           },
           "mode": "markers",
           "type": "scatter",
           "x": [
            13
           ],
           "y": [
            8
           ]
          },
          {
           "marker": {
            "color": "red"
           },
           "mode": "markers",
           "type": "scatter",
           "x": [
            14
           ],
           "y": [
            12
           ]
          },
          {
           "marker": {
            "color": "green"
           },
           "mode": "markers",
           "type": "scatter",
           "x": [
            8
           ],
           "y": [
            13
           ]
          },
          {
           "marker": {
            "color": "green"
           },
           "mode": "markers",
           "type": "scatter",
           "x": [
            9
           ],
           "y": [
            0
           ]
          },
          {
           "marker": {
            "color": "green"
           },
           "mode": "markers",
           "type": "scatter",
           "x": [
            15
           ],
           "y": [
            6
           ]
          },
          {
           "marker": {
            "color": "red"
           },
           "mode": "markers",
           "type": "scatter",
           "x": [
            14
           ],
           "y": [
            12
           ]
          },
          {
           "marker": {
            "color": "green"
           },
           "mode": "markers",
           "type": "scatter",
           "x": [
            11
           ],
           "y": [
            9
           ]
          },
          {
           "marker": {
            "color": "green"
           },
           "mode": "markers",
           "type": "scatter",
           "x": [
            15
           ],
           "y": [
            18
           ]
          }
         ],
         "layout": {
          "title": {
           "text": "Simulation frame 14"
          }
         }
        },
        {
         "data": [
          {
           "marker": {
            "color": "green"
           },
           "mode": "markers",
           "type": "scatter",
           "x": [
            4
           ],
           "y": [
            6
           ]
          },
          {
           "marker": {
            "color": "red"
           },
           "mode": "markers",
           "type": "scatter",
           "x": [
            7
           ],
           "y": [
            8
           ]
          },
          {
           "marker": {
            "color": "green"
           },
           "mode": "markers",
           "type": "scatter",
           "x": [
            5
           ],
           "y": [
            15
           ]
          },
          {
           "marker": {
            "color": "red"
           },
           "mode": "markers",
           "type": "scatter",
           "x": [
            5
           ],
           "y": [
            13
           ]
          },
          {
           "marker": {
            "color": "red"
           },
           "mode": "markers",
           "type": "scatter",
           "x": [
            5
           ],
           "y": [
            13
           ]
          },
          {
           "marker": {
            "color": "green"
           },
           "mode": "markers",
           "type": "scatter",
           "x": [
            4
           ],
           "y": [
            5
           ]
          },
          {
           "marker": {
            "color": "red"
           },
           "mode": "markers",
           "type": "scatter",
           "x": [
            7
           ],
           "y": [
            8
           ]
          },
          {
           "marker": {
            "color": "green"
           },
           "mode": "markers",
           "type": "scatter",
           "x": [
            8
           ],
           "y": [
            12
           ]
          },
          {
           "marker": {
            "color": "green"
           },
           "mode": "markers",
           "type": "scatter",
           "x": [
            9
           ],
           "y": [
            12
           ]
          },
          {
           "marker": {
            "color": "red"
           },
           "mode": "markers",
           "type": "scatter",
           "x": [
            8
           ],
           "y": [
            14
           ]
          },
          {
           "marker": {
            "color": "red"
           },
           "mode": "markers",
           "type": "scatter",
           "x": [
            9
           ],
           "y": [
            5
           ]
          },
          {
           "marker": {
            "color": "red"
           },
           "mode": "markers",
           "type": "scatter",
           "x": [
            11
           ],
           "y": [
            7
           ]
          },
          {
           "marker": {
            "color": "green"
           },
           "mode": "markers",
           "type": "scatter",
           "x": [
            10
           ],
           "y": [
            10
           ]
          },
          {
           "marker": {
            "color": "red"
           },
           "mode": "markers",
           "type": "scatter",
           "x": [
            8
           ],
           "y": [
            14
           ]
          },
          {
           "marker": {
            "color": "red"
           },
           "mode": "markers",
           "type": "scatter",
           "x": [
            8
           ],
           "y": [
            14
           ]
          },
          {
           "marker": {
            "color": "red"
           },
           "mode": "markers",
           "type": "scatter",
           "x": [
            9
           ],
           "y": [
            5
           ]
          },
          {
           "marker": {
            "color": "red"
           },
           "mode": "markers",
           "type": "scatter",
           "x": [
            11
           ],
           "y": [
            7
           ]
          },
          {
           "marker": {
            "color": "green"
           },
           "mode": "markers",
           "type": "scatter",
           "x": [
            12
           ],
           "y": [
            8
           ]
          },
          {
           "marker": {
            "color": "red"
           },
           "mode": "markers",
           "type": "scatter",
           "x": [
            14
           ],
           "y": [
            12
           ]
          },
          {
           "marker": {
            "color": "green"
           },
           "mode": "markers",
           "type": "scatter",
           "x": [
            9
           ],
           "y": [
            13
           ]
          },
          {
           "marker": {
            "color": "green"
           },
           "mode": "markers",
           "type": "scatter",
           "x": [
            10
           ],
           "y": [
            0
           ]
          },
          {
           "marker": {
            "color": "green"
           },
           "mode": "markers",
           "type": "scatter",
           "x": [
            16
           ],
           "y": [
            6
           ]
          },
          {
           "marker": {
            "color": "red"
           },
           "mode": "markers",
           "type": "scatter",
           "x": [
            14
           ],
           "y": [
            12
           ]
          },
          {
           "marker": {
            "color": "green"
           },
           "mode": "markers",
           "type": "scatter",
           "x": [
            11
           ],
           "y": [
            10
           ]
          },
          {
           "marker": {
            "color": "green"
           },
           "mode": "markers",
           "type": "scatter",
           "x": [
            14
           ],
           "y": [
            18
           ]
          }
         ],
         "layout": {
          "title": {
           "text": "Simulation frame 15"
          }
         }
        },
        {
         "data": [
          {
           "marker": {
            "color": "green"
           },
           "mode": "markers",
           "type": "scatter",
           "x": [
            3
           ],
           "y": [
            6
           ]
          },
          {
           "marker": {
            "color": "red"
           },
           "mode": "markers",
           "type": "scatter",
           "x": [
            7
           ],
           "y": [
            8
           ]
          },
          {
           "marker": {
            "color": "green"
           },
           "mode": "markers",
           "type": "scatter",
           "x": [
            5
           ],
           "y": [
            14
           ]
          },
          {
           "marker": {
            "color": "red"
           },
           "mode": "markers",
           "type": "scatter",
           "x": [
            5
           ],
           "y": [
            13
           ]
          },
          {
           "marker": {
            "color": "red"
           },
           "mode": "markers",
           "type": "scatter",
           "x": [
            5
           ],
           "y": [
            13
           ]
          },
          {
           "marker": {
            "color": "green"
           },
           "mode": "markers",
           "type": "scatter",
           "x": [
            5
           ],
           "y": [
            5
           ]
          },
          {
           "marker": {
            "color": "red"
           },
           "mode": "markers",
           "type": "scatter",
           "x": [
            7
           ],
           "y": [
            8
           ]
          },
          {
           "marker": {
            "color": "green"
           },
           "mode": "markers",
           "type": "scatter",
           "x": [
            8
           ],
           "y": [
            11
           ]
          },
          {
           "marker": {
            "color": "green"
           },
           "mode": "markers",
           "type": "scatter",
           "x": [
            8
           ],
           "y": [
            12
           ]
          },
          {
           "marker": {
            "color": "red"
           },
           "mode": "markers",
           "type": "scatter",
           "x": [
            8
           ],
           "y": [
            14
           ]
          },
          {
           "marker": {
            "color": "red"
           },
           "mode": "markers",
           "type": "scatter",
           "x": [
            9
           ],
           "y": [
            5
           ]
          },
          {
           "marker": {
            "color": "red"
           },
           "mode": "markers",
           "type": "scatter",
           "x": [
            11
           ],
           "y": [
            7
           ]
          },
          {
           "marker": {
            "color": "green"
           },
           "mode": "markers",
           "type": "scatter",
           "x": [
            10
           ],
           "y": [
            11
           ]
          },
          {
           "marker": {
            "color": "red"
           },
           "mode": "markers",
           "type": "scatter",
           "x": [
            8
           ],
           "y": [
            14
           ]
          },
          {
           "marker": {
            "color": "red"
           },
           "mode": "markers",
           "type": "scatter",
           "x": [
            8
           ],
           "y": [
            14
           ]
          },
          {
           "marker": {
            "color": "red"
           },
           "mode": "markers",
           "type": "scatter",
           "x": [
            9
           ],
           "y": [
            5
           ]
          },
          {
           "marker": {
            "color": "red"
           },
           "mode": "markers",
           "type": "scatter",
           "x": [
            11
           ],
           "y": [
            7
           ]
          },
          {
           "marker": {
            "color": "green"
           },
           "mode": "markers",
           "type": "scatter",
           "x": [
            12
           ],
           "y": [
            9
           ]
          },
          {
           "marker": {
            "color": "red"
           },
           "mode": "markers",
           "type": "scatter",
           "x": [
            14
           ],
           "y": [
            12
           ]
          },
          {
           "marker": {
            "color": "green"
           },
           "mode": "markers",
           "type": "scatter",
           "x": [
            10
           ],
           "y": [
            13
           ]
          },
          {
           "marker": {
            "color": "green"
           },
           "mode": "markers",
           "type": "scatter",
           "x": [
            10
           ],
           "y": [
            1
           ]
          },
          {
           "marker": {
            "color": "green"
           },
           "mode": "markers",
           "type": "scatter",
           "x": [
            15
           ],
           "y": [
            6
           ]
          },
          {
           "marker": {
            "color": "red"
           },
           "mode": "markers",
           "type": "scatter",
           "x": [
            14
           ],
           "y": [
            12
           ]
          },
          {
           "marker": {
            "color": "green"
           },
           "mode": "markers",
           "type": "scatter",
           "x": [
            11
           ],
           "y": [
            11
           ]
          },
          {
           "marker": {
            "color": "green"
           },
           "mode": "markers",
           "type": "scatter",
           "x": [
            14
           ],
           "y": [
            17
           ]
          }
         ],
         "layout": {
          "title": {
           "text": "Simulation frame 16"
          }
         }
        },
        {
         "data": [
          {
           "marker": {
            "color": "green"
           },
           "mode": "markers",
           "type": "scatter",
           "x": [
            3
           ],
           "y": [
            6
           ]
          },
          {
           "marker": {
            "color": "red"
           },
           "mode": "markers",
           "type": "scatter",
           "x": [
            7
           ],
           "y": [
            8
           ]
          },
          {
           "marker": {
            "color": "red"
           },
           "mode": "markers",
           "type": "scatter",
           "x": [
            5
           ],
           "y": [
            13
           ]
          },
          {
           "marker": {
            "color": "red"
           },
           "mode": "markers",
           "type": "scatter",
           "x": [
            5
           ],
           "y": [
            13
           ]
          },
          {
           "marker": {
            "color": "red"
           },
           "mode": "markers",
           "type": "scatter",
           "x": [
            5
           ],
           "y": [
            13
           ]
          },
          {
           "marker": {
            "color": "green"
           },
           "mode": "markers",
           "type": "scatter",
           "x": [
            4
           ],
           "y": [
            5
           ]
          },
          {
           "marker": {
            "color": "red"
           },
           "mode": "markers",
           "type": "scatter",
           "x": [
            7
           ],
           "y": [
            8
           ]
          },
          {
           "marker": {
            "color": "green"
           },
           "mode": "markers",
           "type": "scatter",
           "x": [
            8
           ],
           "y": [
            12
           ]
          },
          {
           "marker": {
            "color": "green"
           },
           "mode": "markers",
           "type": "scatter",
           "x": [
            8
           ],
           "y": [
            13
           ]
          },
          {
           "marker": {
            "color": "red"
           },
           "mode": "markers",
           "type": "scatter",
           "x": [
            8
           ],
           "y": [
            14
           ]
          },
          {
           "marker": {
            "color": "red"
           },
           "mode": "markers",
           "type": "scatter",
           "x": [
            9
           ],
           "y": [
            5
           ]
          },
          {
           "marker": {
            "color": "red"
           },
           "mode": "markers",
           "type": "scatter",
           "x": [
            11
           ],
           "y": [
            7
           ]
          },
          {
           "marker": {
            "color": "green"
           },
           "mode": "markers",
           "type": "scatter",
           "x": [
            9
           ],
           "y": [
            11
           ]
          },
          {
           "marker": {
            "color": "red"
           },
           "mode": "markers",
           "type": "scatter",
           "x": [
            8
           ],
           "y": [
            14
           ]
          },
          {
           "marker": {
            "color": "red"
           },
           "mode": "markers",
           "type": "scatter",
           "x": [
            8
           ],
           "y": [
            14
           ]
          },
          {
           "marker": {
            "color": "red"
           },
           "mode": "markers",
           "type": "scatter",
           "x": [
            9
           ],
           "y": [
            5
           ]
          },
          {
           "marker": {
            "color": "red"
           },
           "mode": "markers",
           "type": "scatter",
           "x": [
            11
           ],
           "y": [
            7
           ]
          },
          {
           "marker": {
            "color": "green"
           },
           "mode": "markers",
           "type": "scatter",
           "x": [
            13
           ],
           "y": [
            9
           ]
          },
          {
           "marker": {
            "color": "red"
           },
           "mode": "markers",
           "type": "scatter",
           "x": [
            14
           ],
           "y": [
            12
           ]
          },
          {
           "marker": {
            "color": "green"
           },
           "mode": "markers",
           "type": "scatter",
           "x": [
            10
           ],
           "y": [
            12
           ]
          },
          {
           "marker": {
            "color": "green"
           },
           "mode": "markers",
           "type": "scatter",
           "x": [
            10
           ],
           "y": [
            1
           ]
          },
          {
           "marker": {
            "color": "green"
           },
           "mode": "markers",
           "type": "scatter",
           "x": [
            15
           ],
           "y": [
            7
           ]
          },
          {
           "marker": {
            "color": "red"
           },
           "mode": "markers",
           "type": "scatter",
           "x": [
            14
           ],
           "y": [
            12
           ]
          },
          {
           "marker": {
            "color": "green"
           },
           "mode": "markers",
           "type": "scatter",
           "x": [
            11
           ],
           "y": [
            11
           ]
          },
          {
           "marker": {
            "color": "green"
           },
           "mode": "markers",
           "type": "scatter",
           "x": [
            15
           ],
           "y": [
            17
           ]
          }
         ],
         "layout": {
          "title": {
           "text": "Simulation frame 17"
          }
         }
        },
        {
         "data": [
          {
           "marker": {
            "color": "green"
           },
           "mode": "markers",
           "type": "scatter",
           "x": [
            3
           ],
           "y": [
            7
           ]
          },
          {
           "marker": {
            "color": "red"
           },
           "mode": "markers",
           "type": "scatter",
           "x": [
            7
           ],
           "y": [
            8
           ]
          },
          {
           "marker": {
            "color": "red"
           },
           "mode": "markers",
           "type": "scatter",
           "x": [
            5
           ],
           "y": [
            13
           ]
          },
          {
           "marker": {
            "color": "red"
           },
           "mode": "markers",
           "type": "scatter",
           "x": [
            5
           ],
           "y": [
            13
           ]
          },
          {
           "marker": {
            "color": "red"
           },
           "mode": "markers",
           "type": "scatter",
           "x": [
            5
           ],
           "y": [
            13
           ]
          },
          {
           "marker": {
            "color": "green"
           },
           "mode": "markers",
           "type": "scatter",
           "x": [
            4
           ],
           "y": [
            6
           ]
          },
          {
           "marker": {
            "color": "red"
           },
           "mode": "markers",
           "type": "scatter",
           "x": [
            7
           ],
           "y": [
            8
           ]
          },
          {
           "marker": {
            "color": "green"
           },
           "mode": "markers",
           "type": "scatter",
           "x": [
            8
           ],
           "y": [
            13
           ]
          },
          {
           "marker": {
            "color": "green"
           },
           "mode": "markers",
           "type": "scatter",
           "x": [
            9
           ],
           "y": [
            13
           ]
          },
          {
           "marker": {
            "color": "red"
           },
           "mode": "markers",
           "type": "scatter",
           "x": [
            8
           ],
           "y": [
            14
           ]
          },
          {
           "marker": {
            "color": "red"
           },
           "mode": "markers",
           "type": "scatter",
           "x": [
            9
           ],
           "y": [
            5
           ]
          },
          {
           "marker": {
            "color": "red"
           },
           "mode": "markers",
           "type": "scatter",
           "x": [
            11
           ],
           "y": [
            7
           ]
          },
          {
           "marker": {
            "color": "green"
           },
           "mode": "markers",
           "type": "scatter",
           "x": [
            10
           ],
           "y": [
            11
           ]
          },
          {
           "marker": {
            "color": "red"
           },
           "mode": "markers",
           "type": "scatter",
           "x": [
            8
           ],
           "y": [
            14
           ]
          },
          {
           "marker": {
            "color": "red"
           },
           "mode": "markers",
           "type": "scatter",
           "x": [
            8
           ],
           "y": [
            14
           ]
          },
          {
           "marker": {
            "color": "red"
           },
           "mode": "markers",
           "type": "scatter",
           "x": [
            9
           ],
           "y": [
            5
           ]
          },
          {
           "marker": {
            "color": "red"
           },
           "mode": "markers",
           "type": "scatter",
           "x": [
            11
           ],
           "y": [
            7
           ]
          },
          {
           "marker": {
            "color": "green"
           },
           "mode": "markers",
           "type": "scatter",
           "x": [
            14
           ],
           "y": [
            9
           ]
          },
          {
           "marker": {
            "color": "red"
           },
           "mode": "markers",
           "type": "scatter",
           "x": [
            14
           ],
           "y": [
            12
           ]
          },
          {
           "marker": {
            "color": "green"
           },
           "mode": "markers",
           "type": "scatter",
           "x": [
            9
           ],
           "y": [
            12
           ]
          },
          {
           "marker": {
            "color": "green"
           },
           "mode": "markers",
           "type": "scatter",
           "x": [
            10
           ],
           "y": [
            0
           ]
          },
          {
           "marker": {
            "color": "green"
           },
           "mode": "markers",
           "type": "scatter",
           "x": [
            15
           ],
           "y": [
            8
           ]
          },
          {
           "marker": {
            "color": "red"
           },
           "mode": "markers",
           "type": "scatter",
           "x": [
            14
           ],
           "y": [
            12
           ]
          },
          {
           "marker": {
            "color": "green"
           },
           "mode": "markers",
           "type": "scatter",
           "x": [
            11
           ],
           "y": [
            11
           ]
          },
          {
           "marker": {
            "color": "green"
           },
           "mode": "markers",
           "type": "scatter",
           "x": [
            15
           ],
           "y": [
            18
           ]
          }
         ],
         "layout": {
          "title": {
           "text": "Simulation frame 18"
          }
         }
        },
        {
         "data": [
          {
           "marker": {
            "color": "green"
           },
           "mode": "markers",
           "type": "scatter",
           "x": [
            2
           ],
           "y": [
            7
           ]
          },
          {
           "marker": {
            "color": "red"
           },
           "mode": "markers",
           "type": "scatter",
           "x": [
            7
           ],
           "y": [
            8
           ]
          },
          {
           "marker": {
            "color": "red"
           },
           "mode": "markers",
           "type": "scatter",
           "x": [
            5
           ],
           "y": [
            13
           ]
          },
          {
           "marker": {
            "color": "red"
           },
           "mode": "markers",
           "type": "scatter",
           "x": [
            5
           ],
           "y": [
            13
           ]
          },
          {
           "marker": {
            "color": "red"
           },
           "mode": "markers",
           "type": "scatter",
           "x": [
            5
           ],
           "y": [
            13
           ]
          },
          {
           "marker": {
            "color": "green"
           },
           "mode": "markers",
           "type": "scatter",
           "x": [
            4
           ],
           "y": [
            7
           ]
          },
          {
           "marker": {
            "color": "red"
           },
           "mode": "markers",
           "type": "scatter",
           "x": [
            7
           ],
           "y": [
            8
           ]
          },
          {
           "marker": {
            "color": "green"
           },
           "mode": "markers",
           "type": "scatter",
           "x": [
            7
           ],
           "y": [
            13
           ]
          },
          {
           "marker": {
            "color": "green"
           },
           "mode": "markers",
           "type": "scatter",
           "x": [
            9
           ],
           "y": [
            13
           ]
          },
          {
           "marker": {
            "color": "red"
           },
           "mode": "markers",
           "type": "scatter",
           "x": [
            8
           ],
           "y": [
            14
           ]
          },
          {
           "marker": {
            "color": "red"
           },
           "mode": "markers",
           "type": "scatter",
           "x": [
            9
           ],
           "y": [
            5
           ]
          },
          {
           "marker": {
            "color": "red"
           },
           "mode": "markers",
           "type": "scatter",
           "x": [
            11
           ],
           "y": [
            7
           ]
          },
          {
           "marker": {
            "color": "green"
           },
           "mode": "markers",
           "type": "scatter",
           "x": [
            11
           ],
           "y": [
            11
           ]
          },
          {
           "marker": {
            "color": "red"
           },
           "mode": "markers",
           "type": "scatter",
           "x": [
            8
           ],
           "y": [
            14
           ]
          },
          {
           "marker": {
            "color": "red"
           },
           "mode": "markers",
           "type": "scatter",
           "x": [
            8
           ],
           "y": [
            14
           ]
          },
          {
           "marker": {
            "color": "red"
           },
           "mode": "markers",
           "type": "scatter",
           "x": [
            9
           ],
           "y": [
            5
           ]
          },
          {
           "marker": {
            "color": "red"
           },
           "mode": "markers",
           "type": "scatter",
           "x": [
            11
           ],
           "y": [
            7
           ]
          },
          {
           "marker": {
            "color": "green"
           },
           "mode": "markers",
           "type": "scatter",
           "x": [
            15
           ],
           "y": [
            9
           ]
          },
          {
           "marker": {
            "color": "red"
           },
           "mode": "markers",
           "type": "scatter",
           "x": [
            14
           ],
           "y": [
            12
           ]
          },
          {
           "marker": {
            "color": "green"
           },
           "mode": "markers",
           "type": "scatter",
           "x": [
            9
           ],
           "y": [
            11
           ]
          },
          {
           "marker": {
            "color": "green"
           },
           "mode": "markers",
           "type": "scatter",
           "x": [
            10
           ],
           "y": [
            0
           ]
          },
          {
           "marker": {
            "color": "green"
           },
           "mode": "markers",
           "type": "scatter",
           "x": [
            15
           ],
           "y": [
            7
           ]
          },
          {
           "marker": {
            "color": "red"
           },
           "mode": "markers",
           "type": "scatter",
           "x": [
            14
           ],
           "y": [
            12
           ]
          },
          {
           "marker": {
            "color": "green"
           },
           "mode": "markers",
           "type": "scatter",
           "x": [
            12
           ],
           "y": [
            11
           ]
          },
          {
           "marker": {
            "color": "green"
           },
           "mode": "markers",
           "type": "scatter",
           "x": [
            16
           ],
           "y": [
            18
           ]
          }
         ],
         "layout": {
          "title": {
           "text": "Simulation frame 19"
          }
         }
        },
        {
         "data": [
          {
           "marker": {
            "color": "green"
           },
           "mode": "markers",
           "type": "scatter",
           "x": [
            2
           ],
           "y": [
            6
           ]
          },
          {
           "marker": {
            "color": "red"
           },
           "mode": "markers",
           "type": "scatter",
           "x": [
            7
           ],
           "y": [
            8
           ]
          },
          {
           "marker": {
            "color": "red"
           },
           "mode": "markers",
           "type": "scatter",
           "x": [
            5
           ],
           "y": [
            13
           ]
          },
          {
           "marker": {
            "color": "red"
           },
           "mode": "markers",
           "type": "scatter",
           "x": [
            5
           ],
           "y": [
            13
           ]
          },
          {
           "marker": {
            "color": "red"
           },
           "mode": "markers",
           "type": "scatter",
           "x": [
            5
           ],
           "y": [
            13
           ]
          },
          {
           "marker": {
            "color": "green"
           },
           "mode": "markers",
           "type": "scatter",
           "x": [
            5
           ],
           "y": [
            7
           ]
          },
          {
           "marker": {
            "color": "red"
           },
           "mode": "markers",
           "type": "scatter",
           "x": [
            7
           ],
           "y": [
            8
           ]
          },
          {
           "marker": {
            "color": "green"
           },
           "mode": "markers",
           "type": "scatter",
           "x": [
            7
           ],
           "y": [
            12
           ]
          },
          {
           "marker": {
            "color": "green"
           },
           "mode": "markers",
           "type": "scatter",
           "x": [
            9
           ],
           "y": [
            14
           ]
          },
          {
           "marker": {
            "color": "red"
           },
           "mode": "markers",
           "type": "scatter",
           "x": [
            8
           ],
           "y": [
            14
           ]
          },
          {
           "marker": {
            "color": "red"
           },
           "mode": "markers",
           "type": "scatter",
           "x": [
            9
           ],
           "y": [
            5
           ]
          },
          {
           "marker": {
            "color": "red"
           },
           "mode": "markers",
           "type": "scatter",
           "x": [
            11
           ],
           "y": [
            7
           ]
          },
          {
           "marker": {
            "color": "green"
           },
           "mode": "markers",
           "type": "scatter",
           "x": [
            11
           ],
           "y": [
            12
           ]
          },
          {
           "marker": {
            "color": "red"
           },
           "mode": "markers",
           "type": "scatter",
           "x": [
            8
           ],
           "y": [
            14
           ]
          },
          {
           "marker": {
            "color": "red"
           },
           "mode": "markers",
           "type": "scatter",
           "x": [
            8
           ],
           "y": [
            14
           ]
          },
          {
           "marker": {
            "color": "red"
           },
           "mode": "markers",
           "type": "scatter",
           "x": [
            9
           ],
           "y": [
            5
           ]
          },
          {
           "marker": {
            "color": "red"
           },
           "mode": "markers",
           "type": "scatter",
           "x": [
            11
           ],
           "y": [
            7
           ]
          },
          {
           "marker": {
            "color": "green"
           },
           "mode": "markers",
           "type": "scatter",
           "x": [
            16
           ],
           "y": [
            9
           ]
          },
          {
           "marker": {
            "color": "red"
           },
           "mode": "markers",
           "type": "scatter",
           "x": [
            14
           ],
           "y": [
            12
           ]
          },
          {
           "marker": {
            "color": "green"
           },
           "mode": "markers",
           "type": "scatter",
           "x": [
            9
           ],
           "y": [
            10
           ]
          },
          {
           "marker": {
            "color": "green"
           },
           "mode": "markers",
           "type": "scatter",
           "x": [
            10
           ],
           "y": [
            -1
           ]
          },
          {
           "marker": {
            "color": "green"
           },
           "mode": "markers",
           "type": "scatter",
           "x": [
            15
           ],
           "y": [
            8
           ]
          },
          {
           "marker": {
            "color": "red"
           },
           "mode": "markers",
           "type": "scatter",
           "x": [
            14
           ],
           "y": [
            12
           ]
          },
          {
           "marker": {
            "color": "green"
           },
           "mode": "markers",
           "type": "scatter",
           "x": [
            11
           ],
           "y": [
            11
           ]
          },
          {
           "marker": {
            "color": "green"
           },
           "mode": "markers",
           "type": "scatter",
           "x": [
            15
           ],
           "y": [
            18
           ]
          }
         ],
         "layout": {
          "title": {
           "text": "Simulation frame 20"
          }
         }
        },
        {
         "data": [
          {
           "marker": {
            "color": "green"
           },
           "mode": "markers",
           "type": "scatter",
           "x": [
            2
           ],
           "y": [
            5
           ]
          },
          {
           "marker": {
            "color": "red"
           },
           "mode": "markers",
           "type": "scatter",
           "x": [
            7
           ],
           "y": [
            8
           ]
          },
          {
           "marker": {
            "color": "red"
           },
           "mode": "markers",
           "type": "scatter",
           "x": [
            5
           ],
           "y": [
            13
           ]
          },
          {
           "marker": {
            "color": "red"
           },
           "mode": "markers",
           "type": "scatter",
           "x": [
            5
           ],
           "y": [
            13
           ]
          },
          {
           "marker": {
            "color": "red"
           },
           "mode": "markers",
           "type": "scatter",
           "x": [
            5
           ],
           "y": [
            13
           ]
          },
          {
           "marker": {
            "color": "green"
           },
           "mode": "markers",
           "type": "scatter",
           "x": [
            5
           ],
           "y": [
            7
           ]
          },
          {
           "marker": {
            "color": "red"
           },
           "mode": "markers",
           "type": "scatter",
           "x": [
            7
           ],
           "y": [
            8
           ]
          },
          {
           "marker": {
            "color": "green"
           },
           "mode": "markers",
           "type": "scatter",
           "x": [
            6
           ],
           "y": [
            12
           ]
          },
          {
           "marker": {
            "color": "green"
           },
           "mode": "markers",
           "type": "scatter",
           "x": [
            10
           ],
           "y": [
            14
           ]
          },
          {
           "marker": {
            "color": "red"
           },
           "mode": "markers",
           "type": "scatter",
           "x": [
            8
           ],
           "y": [
            14
           ]
          },
          {
           "marker": {
            "color": "red"
           },
           "mode": "markers",
           "type": "scatter",
           "x": [
            9
           ],
           "y": [
            5
           ]
          },
          {
           "marker": {
            "color": "red"
           },
           "mode": "markers",
           "type": "scatter",
           "x": [
            11
           ],
           "y": [
            7
           ]
          },
          {
           "marker": {
            "color": "green"
           },
           "mode": "markers",
           "type": "scatter",
           "x": [
            12
           ],
           "y": [
            12
           ]
          },
          {
           "marker": {
            "color": "red"
           },
           "mode": "markers",
           "type": "scatter",
           "x": [
            8
           ],
           "y": [
            14
           ]
          },
          {
           "marker": {
            "color": "red"
           },
           "mode": "markers",
           "type": "scatter",
           "x": [
            8
           ],
           "y": [
            14
           ]
          },
          {
           "marker": {
            "color": "red"
           },
           "mode": "markers",
           "type": "scatter",
           "x": [
            9
           ],
           "y": [
            5
           ]
          },
          {
           "marker": {
            "color": "red"
           },
           "mode": "markers",
           "type": "scatter",
           "x": [
            11
           ],
           "y": [
            7
           ]
          },
          {
           "marker": {
            "color": "green"
           },
           "mode": "markers",
           "type": "scatter",
           "x": [
            17
           ],
           "y": [
            9
           ]
          },
          {
           "marker": {
            "color": "red"
           },
           "mode": "markers",
           "type": "scatter",
           "x": [
            14
           ],
           "y": [
            12
           ]
          },
          {
           "marker": {
            "color": "green"
           },
           "mode": "markers",
           "type": "scatter",
           "x": [
            10
           ],
           "y": [
            10
           ]
          },
          {
           "marker": {
            "color": "green"
           },
           "mode": "markers",
           "type": "scatter",
           "x": [
            10
           ],
           "y": [
            -2
           ]
          },
          {
           "marker": {
            "color": "green"
           },
           "mode": "markers",
           "type": "scatter",
           "x": [
            15
           ],
           "y": [
            7
           ]
          },
          {
           "marker": {
            "color": "red"
           },
           "mode": "markers",
           "type": "scatter",
           "x": [
            14
           ],
           "y": [
            12
           ]
          },
          {
           "marker": {
            "color": "green"
           },
           "mode": "markers",
           "type": "scatter",
           "x": [
            12
           ],
           "y": [
            11
           ]
          },
          {
           "marker": {
            "color": "green"
           },
           "mode": "markers",
           "type": "scatter",
           "x": [
            15
           ],
           "y": [
            18
           ]
          }
         ],
         "layout": {
          "title": {
           "text": "Simulation frame 21"
          }
         }
        },
        {
         "data": [
          {
           "marker": {
            "color": "green"
           },
           "mode": "markers",
           "type": "scatter",
           "x": [
            2
           ],
           "y": [
            4
           ]
          },
          {
           "marker": {
            "color": "red"
           },
           "mode": "markers",
           "type": "scatter",
           "x": [
            7
           ],
           "y": [
            8
           ]
          },
          {
           "marker": {
            "color": "red"
           },
           "mode": "markers",
           "type": "scatter",
           "x": [
            5
           ],
           "y": [
            13
           ]
          },
          {
           "marker": {
            "color": "red"
           },
           "mode": "markers",
           "type": "scatter",
           "x": [
            5
           ],
           "y": [
            13
           ]
          },
          {
           "marker": {
            "color": "red"
           },
           "mode": "markers",
           "type": "scatter",
           "x": [
            5
           ],
           "y": [
            13
           ]
          },
          {
           "marker": {
            "color": "green"
           },
           "mode": "markers",
           "type": "scatter",
           "x": [
            5
           ],
           "y": [
            7
           ]
          },
          {
           "marker": {
            "color": "red"
           },
           "mode": "markers",
           "type": "scatter",
           "x": [
            7
           ],
           "y": [
            8
           ]
          },
          {
           "marker": {
            "color": "green"
           },
           "mode": "markers",
           "type": "scatter",
           "x": [
            6
           ],
           "y": [
            11
           ]
          },
          {
           "marker": {
            "color": "green"
           },
           "mode": "markers",
           "type": "scatter",
           "x": [
            9
           ],
           "y": [
            14
           ]
          },
          {
           "marker": {
            "color": "red"
           },
           "mode": "markers",
           "type": "scatter",
           "x": [
            8
           ],
           "y": [
            14
           ]
          },
          {
           "marker": {
            "color": "red"
           },
           "mode": "markers",
           "type": "scatter",
           "x": [
            9
           ],
           "y": [
            5
           ]
          },
          {
           "marker": {
            "color": "red"
           },
           "mode": "markers",
           "type": "scatter",
           "x": [
            11
           ],
           "y": [
            7
           ]
          },
          {
           "marker": {
            "color": "green"
           },
           "mode": "markers",
           "type": "scatter",
           "x": [
            12
           ],
           "y": [
            12
           ]
          },
          {
           "marker": {
            "color": "red"
           },
           "mode": "markers",
           "type": "scatter",
           "x": [
            8
           ],
           "y": [
            14
           ]
          },
          {
           "marker": {
            "color": "red"
           },
           "mode": "markers",
           "type": "scatter",
           "x": [
            8
           ],
           "y": [
            14
           ]
          },
          {
           "marker": {
            "color": "red"
           },
           "mode": "markers",
           "type": "scatter",
           "x": [
            9
           ],
           "y": [
            5
           ]
          },
          {
           "marker": {
            "color": "red"
           },
           "mode": "markers",
           "type": "scatter",
           "x": [
            11
           ],
           "y": [
            7
           ]
          },
          {
           "marker": {
            "color": "green"
           },
           "mode": "markers",
           "type": "scatter",
           "x": [
            18
           ],
           "y": [
            9
           ]
          },
          {
           "marker": {
            "color": "red"
           },
           "mode": "markers",
           "type": "scatter",
           "x": [
            14
           ],
           "y": [
            12
           ]
          },
          {
           "marker": {
            "color": "green"
           },
           "mode": "markers",
           "type": "scatter",
           "x": [
            10
           ],
           "y": [
            11
           ]
          },
          {
           "marker": {
            "color": "green"
           },
           "mode": "markers",
           "type": "scatter",
           "x": [
            11
           ],
           "y": [
            -2
           ]
          },
          {
           "marker": {
            "color": "green"
           },
           "mode": "markers",
           "type": "scatter",
           "x": [
            15
           ],
           "y": [
            6
           ]
          },
          {
           "marker": {
            "color": "red"
           },
           "mode": "markers",
           "type": "scatter",
           "x": [
            14
           ],
           "y": [
            12
           ]
          },
          {
           "marker": {
            "color": "green"
           },
           "mode": "markers",
           "type": "scatter",
           "x": [
            11
           ],
           "y": [
            11
           ]
          },
          {
           "marker": {
            "color": "green"
           },
           "mode": "markers",
           "type": "scatter",
           "x": [
            14
           ],
           "y": [
            18
           ]
          }
         ],
         "layout": {
          "title": {
           "text": "Simulation frame 22"
          }
         }
        },
        {
         "data": [
          {
           "marker": {
            "color": "green"
           },
           "mode": "markers",
           "type": "scatter",
           "x": [
            2
           ],
           "y": [
            5
           ]
          },
          {
           "marker": {
            "color": "red"
           },
           "mode": "markers",
           "type": "scatter",
           "x": [
            7
           ],
           "y": [
            8
           ]
          },
          {
           "marker": {
            "color": "red"
           },
           "mode": "markers",
           "type": "scatter",
           "x": [
            5
           ],
           "y": [
            13
           ]
          },
          {
           "marker": {
            "color": "red"
           },
           "mode": "markers",
           "type": "scatter",
           "x": [
            5
           ],
           "y": [
            13
           ]
          },
          {
           "marker": {
            "color": "red"
           },
           "mode": "markers",
           "type": "scatter",
           "x": [
            5
           ],
           "y": [
            13
           ]
          },
          {
           "marker": {
            "color": "green"
           },
           "mode": "markers",
           "type": "scatter",
           "x": [
            5
           ],
           "y": [
            7
           ]
          },
          {
           "marker": {
            "color": "red"
           },
           "mode": "markers",
           "type": "scatter",
           "x": [
            7
           ],
           "y": [
            8
           ]
          },
          {
           "marker": {
            "color": "green"
           },
           "mode": "markers",
           "type": "scatter",
           "x": [
            6
           ],
           "y": [
            11
           ]
          },
          {
           "marker": {
            "color": "green"
           },
           "mode": "markers",
           "type": "scatter",
           "x": [
            9
           ],
           "y": [
            15
           ]
          },
          {
           "marker": {
            "color": "red"
           },
           "mode": "markers",
           "type": "scatter",
           "x": [
            8
           ],
           "y": [
            14
           ]
          },
          {
           "marker": {
            "color": "red"
           },
           "mode": "markers",
           "type": "scatter",
           "x": [
            9
           ],
           "y": [
            5
           ]
          },
          {
           "marker": {
            "color": "red"
           },
           "mode": "markers",
           "type": "scatter",
           "x": [
            11
           ],
           "y": [
            7
           ]
          },
          {
           "marker": {
            "color": "green"
           },
           "mode": "markers",
           "type": "scatter",
           "x": [
            12
           ],
           "y": [
            12
           ]
          },
          {
           "marker": {
            "color": "red"
           },
           "mode": "markers",
           "type": "scatter",
           "x": [
            8
           ],
           "y": [
            14
           ]
          },
          {
           "marker": {
            "color": "red"
           },
           "mode": "markers",
           "type": "scatter",
           "x": [
            8
           ],
           "y": [
            14
           ]
          },
          {
           "marker": {
            "color": "red"
           },
           "mode": "markers",
           "type": "scatter",
           "x": [
            9
           ],
           "y": [
            5
           ]
          },
          {
           "marker": {
            "color": "red"
           },
           "mode": "markers",
           "type": "scatter",
           "x": [
            11
           ],
           "y": [
            7
           ]
          },
          {
           "marker": {
            "color": "green"
           },
           "mode": "markers",
           "type": "scatter",
           "x": [
            19
           ],
           "y": [
            9
           ]
          },
          {
           "marker": {
            "color": "red"
           },
           "mode": "markers",
           "type": "scatter",
           "x": [
            14
           ],
           "y": [
            12
           ]
          },
          {
           "marker": {
            "color": "green"
           },
           "mode": "markers",
           "type": "scatter",
           "x": [
            10
           ],
           "y": [
            10
           ]
          },
          {
           "marker": {
            "color": "green"
           },
           "mode": "markers",
           "type": "scatter",
           "x": [
            12
           ],
           "y": [
            -2
           ]
          },
          {
           "marker": {
            "color": "green"
           },
           "mode": "markers",
           "type": "scatter",
           "x": [
            14
           ],
           "y": [
            6
           ]
          },
          {
           "marker": {
            "color": "red"
           },
           "mode": "markers",
           "type": "scatter",
           "x": [
            14
           ],
           "y": [
            12
           ]
          },
          {
           "marker": {
            "color": "green"
           },
           "mode": "markers",
           "type": "scatter",
           "x": [
            11
           ],
           "y": [
            12
           ]
          },
          {
           "marker": {
            "color": "green"
           },
           "mode": "markers",
           "type": "scatter",
           "x": [
            14
           ],
           "y": [
            19
           ]
          }
         ],
         "layout": {
          "title": {
           "text": "Simulation frame 23"
          }
         }
        },
        {
         "data": [
          {
           "marker": {
            "color": "green"
           },
           "mode": "markers",
           "type": "scatter",
           "x": [
            2
           ],
           "y": [
            5
           ]
          },
          {
           "marker": {
            "color": "red"
           },
           "mode": "markers",
           "type": "scatter",
           "x": [
            7
           ],
           "y": [
            8
           ]
          },
          {
           "marker": {
            "color": "red"
           },
           "mode": "markers",
           "type": "scatter",
           "x": [
            5
           ],
           "y": [
            13
           ]
          },
          {
           "marker": {
            "color": "red"
           },
           "mode": "markers",
           "type": "scatter",
           "x": [
            5
           ],
           "y": [
            13
           ]
          },
          {
           "marker": {
            "color": "red"
           },
           "mode": "markers",
           "type": "scatter",
           "x": [
            5
           ],
           "y": [
            13
           ]
          },
          {
           "marker": {
            "color": "green"
           },
           "mode": "markers",
           "type": "scatter",
           "x": [
            6
           ],
           "y": [
            7
           ]
          },
          {
           "marker": {
            "color": "red"
           },
           "mode": "markers",
           "type": "scatter",
           "x": [
            7
           ],
           "y": [
            8
           ]
          },
          {
           "marker": {
            "color": "green"
           },
           "mode": "markers",
           "type": "scatter",
           "x": [
            7
           ],
           "y": [
            11
           ]
          },
          {
           "marker": {
            "color": "green"
           },
           "mode": "markers",
           "type": "scatter",
           "x": [
            9
           ],
           "y": [
            16
           ]
          },
          {
           "marker": {
            "color": "red"
           },
           "mode": "markers",
           "type": "scatter",
           "x": [
            8
           ],
           "y": [
            14
           ]
          },
          {
           "marker": {
            "color": "red"
           },
           "mode": "markers",
           "type": "scatter",
           "x": [
            9
           ],
           "y": [
            5
           ]
          },
          {
           "marker": {
            "color": "red"
           },
           "mode": "markers",
           "type": "scatter",
           "x": [
            11
           ],
           "y": [
            7
           ]
          },
          {
           "marker": {
            "color": "green"
           },
           "mode": "markers",
           "type": "scatter",
           "x": [
            11
           ],
           "y": [
            12
           ]
          },
          {
           "marker": {
            "color": "red"
           },
           "mode": "markers",
           "type": "scatter",
           "x": [
            8
           ],
           "y": [
            14
           ]
          },
          {
           "marker": {
            "color": "red"
           },
           "mode": "markers",
           "type": "scatter",
           "x": [
            8
           ],
           "y": [
            14
           ]
          },
          {
           "marker": {
            "color": "red"
           },
           "mode": "markers",
           "type": "scatter",
           "x": [
            9
           ],
           "y": [
            5
           ]
          },
          {
           "marker": {
            "color": "red"
           },
           "mode": "markers",
           "type": "scatter",
           "x": [
            11
           ],
           "y": [
            7
           ]
          },
          {
           "marker": {
            "color": "green"
           },
           "mode": "markers",
           "type": "scatter",
           "x": [
            19
           ],
           "y": [
            9
           ]
          },
          {
           "marker": {
            "color": "red"
           },
           "mode": "markers",
           "type": "scatter",
           "x": [
            14
           ],
           "y": [
            12
           ]
          },
          {
           "marker": {
            "color": "green"
           },
           "mode": "markers",
           "type": "scatter",
           "x": [
            9
           ],
           "y": [
            10
           ]
          },
          {
           "marker": {
            "color": "green"
           },
           "mode": "markers",
           "type": "scatter",
           "x": [
            13
           ],
           "y": [
            -2
           ]
          },
          {
           "marker": {
            "color": "green"
           },
           "mode": "markers",
           "type": "scatter",
           "x": [
            14
           ],
           "y": [
            6
           ]
          },
          {
           "marker": {
            "color": "red"
           },
           "mode": "markers",
           "type": "scatter",
           "x": [
            14
           ],
           "y": [
            12
           ]
          },
          {
           "marker": {
            "color": "green"
           },
           "mode": "markers",
           "type": "scatter",
           "x": [
            12
           ],
           "y": [
            12
           ]
          },
          {
           "marker": {
            "color": "green"
           },
           "mode": "markers",
           "type": "scatter",
           "x": [
            15
           ],
           "y": [
            19
           ]
          }
         ],
         "layout": {
          "title": {
           "text": "Simulation frame 24"
          }
         }
        },
        {
         "data": [
          {
           "marker": {
            "color": "green"
           },
           "mode": "markers",
           "type": "scatter",
           "x": [
            1
           ],
           "y": [
            5
           ]
          },
          {
           "marker": {
            "color": "red"
           },
           "mode": "markers",
           "type": "scatter",
           "x": [
            7
           ],
           "y": [
            8
           ]
          },
          {
           "marker": {
            "color": "red"
           },
           "mode": "markers",
           "type": "scatter",
           "x": [
            5
           ],
           "y": [
            13
           ]
          },
          {
           "marker": {
            "color": "red"
           },
           "mode": "markers",
           "type": "scatter",
           "x": [
            5
           ],
           "y": [
            13
           ]
          },
          {
           "marker": {
            "color": "red"
           },
           "mode": "markers",
           "type": "scatter",
           "x": [
            5
           ],
           "y": [
            13
           ]
          },
          {
           "marker": {
            "color": "green"
           },
           "mode": "markers",
           "type": "scatter",
           "x": [
            7
           ],
           "y": [
            7
           ]
          },
          {
           "marker": {
            "color": "red"
           },
           "mode": "markers",
           "type": "scatter",
           "x": [
            7
           ],
           "y": [
            8
           ]
          },
          {
           "marker": {
            "color": "green"
           },
           "mode": "markers",
           "type": "scatter",
           "x": [
            7
           ],
           "y": [
            10
           ]
          },
          {
           "marker": {
            "color": "green"
           },
           "mode": "markers",
           "type": "scatter",
           "x": [
            9
           ],
           "y": [
            16
           ]
          },
          {
           "marker": {
            "color": "red"
           },
           "mode": "markers",
           "type": "scatter",
           "x": [
            8
           ],
           "y": [
            14
           ]
          },
          {
           "marker": {
            "color": "red"
           },
           "mode": "markers",
           "type": "scatter",
           "x": [
            9
           ],
           "y": [
            5
           ]
          },
          {
           "marker": {
            "color": "red"
           },
           "mode": "markers",
           "type": "scatter",
           "x": [
            11
           ],
           "y": [
            7
           ]
          },
          {
           "marker": {
            "color": "green"
           },
           "mode": "markers",
           "type": "scatter",
           "x": [
            11
           ],
           "y": [
            12
           ]
          },
          {
           "marker": {
            "color": "red"
           },
           "mode": "markers",
           "type": "scatter",
           "x": [
            8
           ],
           "y": [
            14
           ]
          },
          {
           "marker": {
            "color": "red"
           },
           "mode": "markers",
           "type": "scatter",
           "x": [
            8
           ],
           "y": [
            14
           ]
          },
          {
           "marker": {
            "color": "red"
           },
           "mode": "markers",
           "type": "scatter",
           "x": [
            9
           ],
           "y": [
            5
           ]
          },
          {
           "marker": {
            "color": "red"
           },
           "mode": "markers",
           "type": "scatter",
           "x": [
            11
           ],
           "y": [
            7
           ]
          },
          {
           "marker": {
            "color": "green"
           },
           "mode": "markers",
           "type": "scatter",
           "x": [
            19
           ],
           "y": [
            9
           ]
          },
          {
           "marker": {
            "color": "red"
           },
           "mode": "markers",
           "type": "scatter",
           "x": [
            14
           ],
           "y": [
            12
           ]
          },
          {
           "marker": {
            "color": "green"
           },
           "mode": "markers",
           "type": "scatter",
           "x": [
            8
           ],
           "y": [
            10
           ]
          },
          {
           "marker": {
            "color": "green"
           },
           "mode": "markers",
           "type": "scatter",
           "x": [
            12
           ],
           "y": [
            -2
           ]
          },
          {
           "marker": {
            "color": "green"
           },
           "mode": "markers",
           "type": "scatter",
           "x": [
            14
           ],
           "y": [
            6
           ]
          },
          {
           "marker": {
            "color": "red"
           },
           "mode": "markers",
           "type": "scatter",
           "x": [
            14
           ],
           "y": [
            12
           ]
          },
          {
           "marker": {
            "color": "green"
           },
           "mode": "markers",
           "type": "scatter",
           "x": [
            13
           ],
           "y": [
            12
           ]
          },
          {
           "marker": {
            "color": "green"
           },
           "mode": "markers",
           "type": "scatter",
           "x": [
            15
           ],
           "y": [
            18
           ]
          }
         ],
         "layout": {
          "title": {
           "text": "Simulation frame 25"
          }
         }
        },
        {
         "data": [
          {
           "marker": {
            "color": "green"
           },
           "mode": "markers",
           "type": "scatter",
           "x": [
            1
           ],
           "y": [
            6
           ]
          },
          {
           "marker": {
            "color": "red"
           },
           "mode": "markers",
           "type": "scatter",
           "x": [
            7
           ],
           "y": [
            8
           ]
          },
          {
           "marker": {
            "color": "red"
           },
           "mode": "markers",
           "type": "scatter",
           "x": [
            5
           ],
           "y": [
            13
           ]
          },
          {
           "marker": {
            "color": "red"
           },
           "mode": "markers",
           "type": "scatter",
           "x": [
            5
           ],
           "y": [
            13
           ]
          },
          {
           "marker": {
            "color": "red"
           },
           "mode": "markers",
           "type": "scatter",
           "x": [
            5
           ],
           "y": [
            13
           ]
          },
          {
           "marker": {
            "color": "green"
           },
           "mode": "markers",
           "type": "scatter",
           "x": [
            6
           ],
           "y": [
            7
           ]
          },
          {
           "marker": {
            "color": "red"
           },
           "mode": "markers",
           "type": "scatter",
           "x": [
            7
           ],
           "y": [
            8
           ]
          },
          {
           "marker": {
            "color": "green"
           },
           "mode": "markers",
           "type": "scatter",
           "x": [
            8
           ],
           "y": [
            10
           ]
          },
          {
           "marker": {
            "color": "green"
           },
           "mode": "markers",
           "type": "scatter",
           "x": [
            9
           ],
           "y": [
            16
           ]
          },
          {
           "marker": {
            "color": "red"
           },
           "mode": "markers",
           "type": "scatter",
           "x": [
            8
           ],
           "y": [
            14
           ]
          },
          {
           "marker": {
            "color": "red"
           },
           "mode": "markers",
           "type": "scatter",
           "x": [
            9
           ],
           "y": [
            5
           ]
          },
          {
           "marker": {
            "color": "red"
           },
           "mode": "markers",
           "type": "scatter",
           "x": [
            11
           ],
           "y": [
            7
           ]
          },
          {
           "marker": {
            "color": "green"
           },
           "mode": "markers",
           "type": "scatter",
           "x": [
            11
           ],
           "y": [
            12
           ]
          },
          {
           "marker": {
            "color": "red"
           },
           "mode": "markers",
           "type": "scatter",
           "x": [
            8
           ],
           "y": [
            14
           ]
          },
          {
           "marker": {
            "color": "red"
           },
           "mode": "markers",
           "type": "scatter",
           "x": [
            8
           ],
           "y": [
            14
           ]
          },
          {
           "marker": {
            "color": "red"
           },
           "mode": "markers",
           "type": "scatter",
           "x": [
            9
           ],
           "y": [
            5
           ]
          },
          {
           "marker": {
            "color": "red"
           },
           "mode": "markers",
           "type": "scatter",
           "x": [
            11
           ],
           "y": [
            7
           ]
          },
          {
           "marker": {
            "color": "green"
           },
           "mode": "markers",
           "type": "scatter",
           "x": [
            19
           ],
           "y": [
            10
           ]
          },
          {
           "marker": {
            "color": "red"
           },
           "mode": "markers",
           "type": "scatter",
           "x": [
            14
           ],
           "y": [
            12
           ]
          },
          {
           "marker": {
            "color": "green"
           },
           "mode": "markers",
           "type": "scatter",
           "x": [
            7
           ],
           "y": [
            10
           ]
          },
          {
           "marker": {
            "color": "green"
           },
           "mode": "markers",
           "type": "scatter",
           "x": [
            12
           ],
           "y": [
            -1
           ]
          },
          {
           "marker": {
            "color": "green"
           },
           "mode": "markers",
           "type": "scatter",
           "x": [
            15
           ],
           "y": [
            6
           ]
          },
          {
           "marker": {
            "color": "red"
           },
           "mode": "markers",
           "type": "scatter",
           "x": [
            14
           ],
           "y": [
            12
           ]
          },
          {
           "marker": {
            "color": "red"
           },
           "mode": "markers",
           "type": "scatter",
           "x": [
            14
           ],
           "y": [
            12
           ]
          },
          {
           "marker": {
            "color": "green"
           },
           "mode": "markers",
           "type": "scatter",
           "x": [
            15
           ],
           "y": [
            19
           ]
          }
         ],
         "layout": {
          "title": {
           "text": "Simulation frame 26"
          }
         }
        },
        {
         "data": [
          {
           "marker": {
            "color": "green"
           },
           "mode": "markers",
           "type": "scatter",
           "x": [
            1
           ],
           "y": [
            5
           ]
          },
          {
           "marker": {
            "color": "red"
           },
           "mode": "markers",
           "type": "scatter",
           "x": [
            7
           ],
           "y": [
            8
           ]
          },
          {
           "marker": {
            "color": "red"
           },
           "mode": "markers",
           "type": "scatter",
           "x": [
            5
           ],
           "y": [
            13
           ]
          },
          {
           "marker": {
            "color": "red"
           },
           "mode": "markers",
           "type": "scatter",
           "x": [
            5
           ],
           "y": [
            13
           ]
          },
          {
           "marker": {
            "color": "red"
           },
           "mode": "markers",
           "type": "scatter",
           "x": [
            5
           ],
           "y": [
            13
           ]
          },
          {
           "marker": {
            "color": "green"
           },
           "mode": "markers",
           "type": "scatter",
           "x": [
            6
           ],
           "y": [
            8
           ]
          },
          {
           "marker": {
            "color": "red"
           },
           "mode": "markers",
           "type": "scatter",
           "x": [
            7
           ],
           "y": [
            8
           ]
          },
          {
           "marker": {
            "color": "green"
           },
           "mode": "markers",
           "type": "scatter",
           "x": [
            8
           ],
           "y": [
            9
           ]
          },
          {
           "marker": {
            "color": "green"
           },
           "mode": "markers",
           "type": "scatter",
           "x": [
            10
           ],
           "y": [
            16
           ]
          },
          {
           "marker": {
            "color": "red"
           },
           "mode": "markers",
           "type": "scatter",
           "x": [
            8
           ],
           "y": [
            14
           ]
          },
          {
           "marker": {
            "color": "red"
           },
           "mode": "markers",
           "type": "scatter",
           "x": [
            9
           ],
           "y": [
            5
           ]
          },
          {
           "marker": {
            "color": "red"
           },
           "mode": "markers",
           "type": "scatter",
           "x": [
            11
           ],
           "y": [
            7
           ]
          },
          {
           "marker": {
            "color": "green"
           },
           "mode": "markers",
           "type": "scatter",
           "x": [
            11
           ],
           "y": [
            11
           ]
          },
          {
           "marker": {
            "color": "red"
           },
           "mode": "markers",
           "type": "scatter",
           "x": [
            8
           ],
           "y": [
            14
           ]
          },
          {
           "marker": {
            "color": "red"
           },
           "mode": "markers",
           "type": "scatter",
           "x": [
            8
           ],
           "y": [
            14
           ]
          },
          {
           "marker": {
            "color": "red"
           },
           "mode": "markers",
           "type": "scatter",
           "x": [
            9
           ],
           "y": [
            5
           ]
          },
          {
           "marker": {
            "color": "red"
           },
           "mode": "markers",
           "type": "scatter",
           "x": [
            11
           ],
           "y": [
            7
           ]
          },
          {
           "marker": {
            "color": "green"
           },
           "mode": "markers",
           "type": "scatter",
           "x": [
            20
           ],
           "y": [
            10
           ]
          },
          {
           "marker": {
            "color": "red"
           },
           "mode": "markers",
           "type": "scatter",
           "x": [
            14
           ],
           "y": [
            12
           ]
          },
          {
           "marker": {
            "color": "green"
           },
           "mode": "markers",
           "type": "scatter",
           "x": [
            8
           ],
           "y": [
            10
           ]
          },
          {
           "marker": {
            "color": "green"
           },
           "mode": "markers",
           "type": "scatter",
           "x": [
            11
           ],
           "y": [
            -1
           ]
          },
          {
           "marker": {
            "color": "green"
           },
           "mode": "markers",
           "type": "scatter",
           "x": [
            15
           ],
           "y": [
            7
           ]
          },
          {
           "marker": {
            "color": "red"
           },
           "mode": "markers",
           "type": "scatter",
           "x": [
            14
           ],
           "y": [
            12
           ]
          },
          {
           "marker": {
            "color": "red"
           },
           "mode": "markers",
           "type": "scatter",
           "x": [
            14
           ],
           "y": [
            12
           ]
          },
          {
           "marker": {
            "color": "green"
           },
           "mode": "markers",
           "type": "scatter",
           "x": [
            15
           ],
           "y": [
            18
           ]
          }
         ],
         "layout": {
          "title": {
           "text": "Simulation frame 27"
          }
         }
        },
        {
         "data": [
          {
           "marker": {
            "color": "green"
           },
           "mode": "markers",
           "type": "scatter",
           "x": [
            1
           ],
           "y": [
            6
           ]
          },
          {
           "marker": {
            "color": "red"
           },
           "mode": "markers",
           "type": "scatter",
           "x": [
            7
           ],
           "y": [
            8
           ]
          },
          {
           "marker": {
            "color": "red"
           },
           "mode": "markers",
           "type": "scatter",
           "x": [
            5
           ],
           "y": [
            13
           ]
          },
          {
           "marker": {
            "color": "red"
           },
           "mode": "markers",
           "type": "scatter",
           "x": [
            5
           ],
           "y": [
            13
           ]
          },
          {
           "marker": {
            "color": "red"
           },
           "mode": "markers",
           "type": "scatter",
           "x": [
            5
           ],
           "y": [
            13
           ]
          },
          {
           "marker": {
            "color": "green"
           },
           "mode": "markers",
           "type": "scatter",
           "x": [
            6
           ],
           "y": [
            9
           ]
          },
          {
           "marker": {
            "color": "red"
           },
           "mode": "markers",
           "type": "scatter",
           "x": [
            7
           ],
           "y": [
            8
           ]
          },
          {
           "marker": {
            "color": "green"
           },
           "mode": "markers",
           "type": "scatter",
           "x": [
            8
           ],
           "y": [
            10
           ]
          },
          {
           "marker": {
            "color": "green"
           },
           "mode": "markers",
           "type": "scatter",
           "x": [
            10
           ],
           "y": [
            16
           ]
          },
          {
           "marker": {
            "color": "red"
           },
           "mode": "markers",
           "type": "scatter",
           "x": [
            8
           ],
           "y": [
            14
           ]
          },
          {
           "marker": {
            "color": "red"
           },
           "mode": "markers",
           "type": "scatter",
           "x": [
            9
           ],
           "y": [
            5
           ]
          },
          {
           "marker": {
            "color": "red"
           },
           "mode": "markers",
           "type": "scatter",
           "x": [
            11
           ],
           "y": [
            7
           ]
          },
          {
           "marker": {
            "color": "green"
           },
           "mode": "markers",
           "type": "scatter",
           "x": [
            12
           ],
           "y": [
            11
           ]
          },
          {
           "marker": {
            "color": "red"
           },
           "mode": "markers",
           "type": "scatter",
           "x": [
            8
           ],
           "y": [
            14
           ]
          },
          {
           "marker": {
            "color": "red"
           },
           "mode": "markers",
           "type": "scatter",
           "x": [
            8
           ],
           "y": [
            14
           ]
          },
          {
           "marker": {
            "color": "red"
           },
           "mode": "markers",
           "type": "scatter",
           "x": [
            9
           ],
           "y": [
            5
           ]
          },
          {
           "marker": {
            "color": "red"
           },
           "mode": "markers",
           "type": "scatter",
           "x": [
            11
           ],
           "y": [
            7
           ]
          },
          {
           "marker": {
            "color": "green"
           },
           "mode": "markers",
           "type": "scatter",
           "x": [
            20
           ],
           "y": [
            10
           ]
          },
          {
           "marker": {
            "color": "red"
           },
           "mode": "markers",
           "type": "scatter",
           "x": [
            14
           ],
           "y": [
            12
           ]
          },
          {
           "marker": {
            "color": "green"
           },
           "mode": "markers",
           "type": "scatter",
           "x": [
            7
           ],
           "y": [
            10
           ]
          },
          {
           "marker": {
            "color": "green"
           },
           "mode": "markers",
           "type": "scatter",
           "x": [
            10
           ],
           "y": [
            -1
           ]
          },
          {
           "marker": {
            "color": "green"
           },
           "mode": "markers",
           "type": "scatter",
           "x": [
            16
           ],
           "y": [
            7
           ]
          },
          {
           "marker": {
            "color": "red"
           },
           "mode": "markers",
           "type": "scatter",
           "x": [
            14
           ],
           "y": [
            12
           ]
          },
          {
           "marker": {
            "color": "red"
           },
           "mode": "markers",
           "type": "scatter",
           "x": [
            14
           ],
           "y": [
            12
           ]
          },
          {
           "marker": {
            "color": "green"
           },
           "mode": "markers",
           "type": "scatter",
           "x": [
            15
           ],
           "y": [
            19
           ]
          }
         ],
         "layout": {
          "title": {
           "text": "Simulation frame 28"
          }
         }
        },
        {
         "data": [
          {
           "marker": {
            "color": "green"
           },
           "mode": "markers",
           "type": "scatter",
           "x": [
            2
           ],
           "y": [
            6
           ]
          },
          {
           "marker": {
            "color": "red"
           },
           "mode": "markers",
           "type": "scatter",
           "x": [
            7
           ],
           "y": [
            8
           ]
          },
          {
           "marker": {
            "color": "red"
           },
           "mode": "markers",
           "type": "scatter",
           "x": [
            5
           ],
           "y": [
            13
           ]
          },
          {
           "marker": {
            "color": "red"
           },
           "mode": "markers",
           "type": "scatter",
           "x": [
            5
           ],
           "y": [
            13
           ]
          },
          {
           "marker": {
            "color": "red"
           },
           "mode": "markers",
           "type": "scatter",
           "x": [
            5
           ],
           "y": [
            13
           ]
          },
          {
           "marker": {
            "color": "green"
           },
           "mode": "markers",
           "type": "scatter",
           "x": [
            7
           ],
           "y": [
            9
           ]
          },
          {
           "marker": {
            "color": "red"
           },
           "mode": "markers",
           "type": "scatter",
           "x": [
            7
           ],
           "y": [
            8
           ]
          },
          {
           "marker": {
            "color": "green"
           },
           "mode": "markers",
           "type": "scatter",
           "x": [
            8
           ],
           "y": [
            10
           ]
          },
          {
           "marker": {
            "color": "green"
           },
           "mode": "markers",
           "type": "scatter",
           "x": [
            10
           ],
           "y": [
            15
           ]
          },
          {
           "marker": {
            "color": "red"
           },
           "mode": "markers",
           "type": "scatter",
           "x": [
            8
           ],
           "y": [
            14
           ]
          },
          {
           "marker": {
            "color": "red"
           },
           "mode": "markers",
           "type": "scatter",
           "x": [
            9
           ],
           "y": [
            5
           ]
          },
          {
           "marker": {
            "color": "red"
           },
           "mode": "markers",
           "type": "scatter",
           "x": [
            11
           ],
           "y": [
            7
           ]
          },
          {
           "marker": {
            "color": "green"
           },
           "mode": "markers",
           "type": "scatter",
           "x": [
            13
           ],
           "y": [
            11
           ]
          },
          {
           "marker": {
            "color": "red"
           },
           "mode": "markers",
           "type": "scatter",
           "x": [
            8
           ],
           "y": [
            14
           ]
          },
          {
           "marker": {
            "color": "red"
           },
           "mode": "markers",
           "type": "scatter",
           "x": [
            8
           ],
           "y": [
            14
           ]
          },
          {
           "marker": {
            "color": "red"
           },
           "mode": "markers",
           "type": "scatter",
           "x": [
            9
           ],
           "y": [
            5
           ]
          },
          {
           "marker": {
            "color": "red"
           },
           "mode": "markers",
           "type": "scatter",
           "x": [
            11
           ],
           "y": [
            7
           ]
          },
          {
           "marker": {
            "color": "green"
           },
           "mode": "markers",
           "type": "scatter",
           "x": [
            20
           ],
           "y": [
            9
           ]
          },
          {
           "marker": {
            "color": "red"
           },
           "mode": "markers",
           "type": "scatter",
           "x": [
            14
           ],
           "y": [
            12
           ]
          },
          {
           "marker": {
            "color": "green"
           },
           "mode": "markers",
           "type": "scatter",
           "x": [
            7
           ],
           "y": [
            11
           ]
          },
          {
           "marker": {
            "color": "green"
           },
           "mode": "markers",
           "type": "scatter",
           "x": [
            11
           ],
           "y": [
            -1
           ]
          },
          {
           "marker": {
            "color": "green"
           },
           "mode": "markers",
           "type": "scatter",
           "x": [
            16
           ],
           "y": [
            7
           ]
          },
          {
           "marker": {
            "color": "red"
           },
           "mode": "markers",
           "type": "scatter",
           "x": [
            14
           ],
           "y": [
            12
           ]
          },
          {
           "marker": {
            "color": "red"
           },
           "mode": "markers",
           "type": "scatter",
           "x": [
            14
           ],
           "y": [
            12
           ]
          },
          {
           "marker": {
            "color": "green"
           },
           "mode": "markers",
           "type": "scatter",
           "x": [
            15
           ],
           "y": [
            18
           ]
          }
         ],
         "layout": {
          "title": {
           "text": "Simulation frame 29"
          }
         }
        },
        {
         "data": [
          {
           "marker": {
            "color": "green"
           },
           "mode": "markers",
           "type": "scatter",
           "x": [
            2
           ],
           "y": [
            6
           ]
          },
          {
           "marker": {
            "color": "red"
           },
           "mode": "markers",
           "type": "scatter",
           "x": [
            7
           ],
           "y": [
            8
           ]
          },
          {
           "marker": {
            "color": "red"
           },
           "mode": "markers",
           "type": "scatter",
           "x": [
            5
           ],
           "y": [
            13
           ]
          },
          {
           "marker": {
            "color": "red"
           },
           "mode": "markers",
           "type": "scatter",
           "x": [
            5
           ],
           "y": [
            13
           ]
          },
          {
           "marker": {
            "color": "red"
           },
           "mode": "markers",
           "type": "scatter",
           "x": [
            5
           ],
           "y": [
            13
           ]
          },
          {
           "marker": {
            "color": "green"
           },
           "mode": "markers",
           "type": "scatter",
           "x": [
            8
           ],
           "y": [
            9
           ]
          },
          {
           "marker": {
            "color": "red"
           },
           "mode": "markers",
           "type": "scatter",
           "x": [
            7
           ],
           "y": [
            8
           ]
          },
          {
           "marker": {
            "color": "green"
           },
           "mode": "markers",
           "type": "scatter",
           "x": [
            9
           ],
           "y": [
            10
           ]
          },
          {
           "marker": {
            "color": "green"
           },
           "mode": "markers",
           "type": "scatter",
           "x": [
            9
           ],
           "y": [
            15
           ]
          },
          {
           "marker": {
            "color": "red"
           },
           "mode": "markers",
           "type": "scatter",
           "x": [
            8
           ],
           "y": [
            14
           ]
          },
          {
           "marker": {
            "color": "red"
           },
           "mode": "markers",
           "type": "scatter",
           "x": [
            9
           ],
           "y": [
            5
           ]
          },
          {
           "marker": {
            "color": "red"
           },
           "mode": "markers",
           "type": "scatter",
           "x": [
            11
           ],
           "y": [
            7
           ]
          },
          {
           "marker": {
            "color": "green"
           },
           "mode": "markers",
           "type": "scatter",
           "x": [
            13
           ],
           "y": [
            12
           ]
          },
          {
           "marker": {
            "color": "red"
           },
           "mode": "markers",
           "type": "scatter",
           "x": [
            8
           ],
           "y": [
            14
           ]
          },
          {
           "marker": {
            "color": "red"
           },
           "mode": "markers",
           "type": "scatter",
           "x": [
            8
           ],
           "y": [
            14
           ]
          },
          {
           "marker": {
            "color": "red"
           },
           "mode": "markers",
           "type": "scatter",
           "x": [
            9
           ],
           "y": [
            5
           ]
          },
          {
           "marker": {
            "color": "red"
           },
           "mode": "markers",
           "type": "scatter",
           "x": [
            11
           ],
           "y": [
            7
           ]
          },
          {
           "marker": {
            "color": "green"
           },
           "mode": "markers",
           "type": "scatter",
           "x": [
            21
           ],
           "y": [
            9
           ]
          },
          {
           "marker": {
            "color": "red"
           },
           "mode": "markers",
           "type": "scatter",
           "x": [
            14
           ],
           "y": [
            12
           ]
          },
          {
           "marker": {
            "color": "green"
           },
           "mode": "markers",
           "type": "scatter",
           "x": [
            7
           ],
           "y": [
            10
           ]
          },
          {
           "marker": {
            "color": "green"
           },
           "mode": "markers",
           "type": "scatter",
           "x": [
            11
           ],
           "y": [
            0
           ]
          },
          {
           "marker": {
            "color": "green"
           },
           "mode": "markers",
           "type": "scatter",
           "x": [
            16
           ],
           "y": [
            7
           ]
          },
          {
           "marker": {
            "color": "red"
           },
           "mode": "markers",
           "type": "scatter",
           "x": [
            14
           ],
           "y": [
            12
           ]
          },
          {
           "marker": {
            "color": "red"
           },
           "mode": "markers",
           "type": "scatter",
           "x": [
            14
           ],
           "y": [
            12
           ]
          },
          {
           "marker": {
            "color": "green"
           },
           "mode": "markers",
           "type": "scatter",
           "x": [
            15
           ],
           "y": [
            19
           ]
          }
         ],
         "layout": {
          "title": {
           "text": "Simulation frame 30"
          }
         }
        },
        {
         "data": [
          {
           "marker": {
            "color": "green"
           },
           "mode": "markers",
           "type": "scatter",
           "x": [
            3
           ],
           "y": [
            6
           ]
          },
          {
           "marker": {
            "color": "red"
           },
           "mode": "markers",
           "type": "scatter",
           "x": [
            7
           ],
           "y": [
            8
           ]
          },
          {
           "marker": {
            "color": "red"
           },
           "mode": "markers",
           "type": "scatter",
           "x": [
            5
           ],
           "y": [
            13
           ]
          },
          {
           "marker": {
            "color": "red"
           },
           "mode": "markers",
           "type": "scatter",
           "x": [
            5
           ],
           "y": [
            13
           ]
          },
          {
           "marker": {
            "color": "red"
           },
           "mode": "markers",
           "type": "scatter",
           "x": [
            5
           ],
           "y": [
            13
           ]
          },
          {
           "marker": {
            "color": "green"
           },
           "mode": "markers",
           "type": "scatter",
           "x": [
            9
           ],
           "y": [
            9
           ]
          },
          {
           "marker": {
            "color": "red"
           },
           "mode": "markers",
           "type": "scatter",
           "x": [
            7
           ],
           "y": [
            8
           ]
          },
          {
           "marker": {
            "color": "green"
           },
           "mode": "markers",
           "type": "scatter",
           "x": [
            9
           ],
           "y": [
            10
           ]
          },
          {
           "marker": {
            "color": "green"
           },
           "mode": "markers",
           "type": "scatter",
           "x": [
            9
           ],
           "y": [
            16
           ]
          },
          {
           "marker": {
            "color": "red"
           },
           "mode": "markers",
           "type": "scatter",
           "x": [
            8
           ],
           "y": [
            14
           ]
          },
          {
           "marker": {
            "color": "red"
           },
           "mode": "markers",
           "type": "scatter",
           "x": [
            9
           ],
           "y": [
            5
           ]
          },
          {
           "marker": {
            "color": "red"
           },
           "mode": "markers",
           "type": "scatter",
           "x": [
            11
           ],
           "y": [
            7
           ]
          },
          {
           "marker": {
            "color": "green"
           },
           "mode": "markers",
           "type": "scatter",
           "x": [
            13
           ],
           "y": [
            11
           ]
          },
          {
           "marker": {
            "color": "red"
           },
           "mode": "markers",
           "type": "scatter",
           "x": [
            8
           ],
           "y": [
            14
           ]
          },
          {
           "marker": {
            "color": "red"
           },
           "mode": "markers",
           "type": "scatter",
           "x": [
            8
           ],
           "y": [
            14
           ]
          },
          {
           "marker": {
            "color": "red"
           },
           "mode": "markers",
           "type": "scatter",
           "x": [
            9
           ],
           "y": [
            5
           ]
          },
          {
           "marker": {
            "color": "red"
           },
           "mode": "markers",
           "type": "scatter",
           "x": [
            11
           ],
           "y": [
            7
           ]
          },
          {
           "marker": {
            "color": "green"
           },
           "mode": "markers",
           "type": "scatter",
           "x": [
            21
           ],
           "y": [
            9
           ]
          },
          {
           "marker": {
            "color": "red"
           },
           "mode": "markers",
           "type": "scatter",
           "x": [
            14
           ],
           "y": [
            12
           ]
          },
          {
           "marker": {
            "color": "green"
           },
           "mode": "markers",
           "type": "scatter",
           "x": [
            6
           ],
           "y": [
            10
           ]
          },
          {
           "marker": {
            "color": "green"
           },
           "mode": "markers",
           "type": "scatter",
           "x": [
            11
           ],
           "y": [
            -1
           ]
          },
          {
           "marker": {
            "color": "green"
           },
           "mode": "markers",
           "type": "scatter",
           "x": [
            16
           ],
           "y": [
            6
           ]
          },
          {
           "marker": {
            "color": "red"
           },
           "mode": "markers",
           "type": "scatter",
           "x": [
            14
           ],
           "y": [
            12
           ]
          },
          {
           "marker": {
            "color": "red"
           },
           "mode": "markers",
           "type": "scatter",
           "x": [
            14
           ],
           "y": [
            12
           ]
          },
          {
           "marker": {
            "color": "green"
           },
           "mode": "markers",
           "type": "scatter",
           "x": [
            15
           ],
           "y": [
            20
           ]
          }
         ],
         "layout": {
          "title": {
           "text": "Simulation frame 31"
          }
         }
        },
        {
         "data": [
          {
           "marker": {
            "color": "green"
           },
           "mode": "markers",
           "type": "scatter",
           "x": [
            3
           ],
           "y": [
            7
           ]
          },
          {
           "marker": {
            "color": "red"
           },
           "mode": "markers",
           "type": "scatter",
           "x": [
            7
           ],
           "y": [
            8
           ]
          },
          {
           "marker": {
            "color": "red"
           },
           "mode": "markers",
           "type": "scatter",
           "x": [
            5
           ],
           "y": [
            13
           ]
          },
          {
           "marker": {
            "color": "red"
           },
           "mode": "markers",
           "type": "scatter",
           "x": [
            5
           ],
           "y": [
            13
           ]
          },
          {
           "marker": {
            "color": "red"
           },
           "mode": "markers",
           "type": "scatter",
           "x": [
            5
           ],
           "y": [
            13
           ]
          },
          {
           "marker": {
            "color": "green"
           },
           "mode": "markers",
           "type": "scatter",
           "x": [
            8
           ],
           "y": [
            9
           ]
          },
          {
           "marker": {
            "color": "red"
           },
           "mode": "markers",
           "type": "scatter",
           "x": [
            7
           ],
           "y": [
            8
           ]
          },
          {
           "marker": {
            "color": "green"
           },
           "mode": "markers",
           "type": "scatter",
           "x": [
            8
           ],
           "y": [
            10
           ]
          },
          {
           "marker": {
            "color": "green"
           },
           "mode": "markers",
           "type": "scatter",
           "x": [
            10
           ],
           "y": [
            16
           ]
          },
          {
           "marker": {
            "color": "red"
           },
           "mode": "markers",
           "type": "scatter",
           "x": [
            8
           ],
           "y": [
            14
           ]
          },
          {
           "marker": {
            "color": "red"
           },
           "mode": "markers",
           "type": "scatter",
           "x": [
            9
           ],
           "y": [
            5
           ]
          },
          {
           "marker": {
            "color": "red"
           },
           "mode": "markers",
           "type": "scatter",
           "x": [
            11
           ],
           "y": [
            7
           ]
          },
          {
           "marker": {
            "color": "green"
           },
           "mode": "markers",
           "type": "scatter",
           "x": [
            12
           ],
           "y": [
            11
           ]
          },
          {
           "marker": {
            "color": "red"
           },
           "mode": "markers",
           "type": "scatter",
           "x": [
            8
           ],
           "y": [
            14
           ]
          },
          {
           "marker": {
            "color": "red"
           },
           "mode": "markers",
           "type": "scatter",
           "x": [
            8
           ],
           "y": [
            14
           ]
          },
          {
           "marker": {
            "color": "red"
           },
           "mode": "markers",
           "type": "scatter",
           "x": [
            9
           ],
           "y": [
            5
           ]
          },
          {
           "marker": {
            "color": "red"
           },
           "mode": "markers",
           "type": "scatter",
           "x": [
            11
           ],
           "y": [
            7
           ]
          },
          {
           "marker": {
            "color": "green"
           },
           "mode": "markers",
           "type": "scatter",
           "x": [
            21
           ],
           "y": [
            10
           ]
          },
          {
           "marker": {
            "color": "red"
           },
           "mode": "markers",
           "type": "scatter",
           "x": [
            14
           ],
           "y": [
            12
           ]
          },
          {
           "marker": {
            "color": "green"
           },
           "mode": "markers",
           "type": "scatter",
           "x": [
            7
           ],
           "y": [
            10
           ]
          },
          {
           "marker": {
            "color": "green"
           },
           "mode": "markers",
           "type": "scatter",
           "x": [
            11
           ],
           "y": [
            -2
           ]
          },
          {
           "marker": {
            "color": "green"
           },
           "mode": "markers",
           "type": "scatter",
           "x": [
            16
           ],
           "y": [
            7
           ]
          },
          {
           "marker": {
            "color": "red"
           },
           "mode": "markers",
           "type": "scatter",
           "x": [
            14
           ],
           "y": [
            12
           ]
          },
          {
           "marker": {
            "color": "red"
           },
           "mode": "markers",
           "type": "scatter",
           "x": [
            14
           ],
           "y": [
            12
           ]
          },
          {
           "marker": {
            "color": "green"
           },
           "mode": "markers",
           "type": "scatter",
           "x": [
            15
           ],
           "y": [
            19
           ]
          }
         ],
         "layout": {
          "title": {
           "text": "Simulation frame 32"
          }
         }
        },
        {
         "data": [
          {
           "marker": {
            "color": "green"
           },
           "mode": "markers",
           "type": "scatter",
           "x": [
            2
           ],
           "y": [
            7
           ]
          },
          {
           "marker": {
            "color": "red"
           },
           "mode": "markers",
           "type": "scatter",
           "x": [
            7
           ],
           "y": [
            8
           ]
          },
          {
           "marker": {
            "color": "red"
           },
           "mode": "markers",
           "type": "scatter",
           "x": [
            5
           ],
           "y": [
            13
           ]
          },
          {
           "marker": {
            "color": "red"
           },
           "mode": "markers",
           "type": "scatter",
           "x": [
            5
           ],
           "y": [
            13
           ]
          },
          {
           "marker": {
            "color": "red"
           },
           "mode": "markers",
           "type": "scatter",
           "x": [
            5
           ],
           "y": [
            13
           ]
          },
          {
           "marker": {
            "color": "green"
           },
           "mode": "markers",
           "type": "scatter",
           "x": [
            9
           ],
           "y": [
            9
           ]
          },
          {
           "marker": {
            "color": "red"
           },
           "mode": "markers",
           "type": "scatter",
           "x": [
            7
           ],
           "y": [
            8
           ]
          },
          {
           "marker": {
            "color": "green"
           },
           "mode": "markers",
           "type": "scatter",
           "x": [
            8
           ],
           "y": [
            11
           ]
          },
          {
           "marker": {
            "color": "green"
           },
           "mode": "markers",
           "type": "scatter",
           "x": [
            10
           ],
           "y": [
            16
           ]
          },
          {
           "marker": {
            "color": "red"
           },
           "mode": "markers",
           "type": "scatter",
           "x": [
            8
           ],
           "y": [
            14
           ]
          },
          {
           "marker": {
            "color": "red"
           },
           "mode": "markers",
           "type": "scatter",
           "x": [
            9
           ],
           "y": [
            5
           ]
          },
          {
           "marker": {
            "color": "red"
           },
           "mode": "markers",
           "type": "scatter",
           "x": [
            11
           ],
           "y": [
            7
           ]
          },
          {
           "marker": {
            "color": "green"
           },
           "mode": "markers",
           "type": "scatter",
           "x": [
            11
           ],
           "y": [
            11
           ]
          },
          {
           "marker": {
            "color": "red"
           },
           "mode": "markers",
           "type": "scatter",
           "x": [
            8
           ],
           "y": [
            14
           ]
          },
          {
           "marker": {
            "color": "red"
           },
           "mode": "markers",
           "type": "scatter",
           "x": [
            8
           ],
           "y": [
            14
           ]
          },
          {
           "marker": {
            "color": "red"
           },
           "mode": "markers",
           "type": "scatter",
           "x": [
            9
           ],
           "y": [
            5
           ]
          },
          {
           "marker": {
            "color": "red"
           },
           "mode": "markers",
           "type": "scatter",
           "x": [
            11
           ],
           "y": [
            7
           ]
          },
          {
           "marker": {
            "color": "green"
           },
           "mode": "markers",
           "type": "scatter",
           "x": [
            20
           ],
           "y": [
            10
           ]
          },
          {
           "marker": {
            "color": "red"
           },
           "mode": "markers",
           "type": "scatter",
           "x": [
            14
           ],
           "y": [
            12
           ]
          },
          {
           "marker": {
            "color": "green"
           },
           "mode": "markers",
           "type": "scatter",
           "x": [
            7
           ],
           "y": [
            9
           ]
          },
          {
           "marker": {
            "color": "green"
           },
           "mode": "markers",
           "type": "scatter",
           "x": [
            11
           ],
           "y": [
            -1
           ]
          },
          {
           "marker": {
            "color": "green"
           },
           "mode": "markers",
           "type": "scatter",
           "x": [
            16
           ],
           "y": [
            8
           ]
          },
          {
           "marker": {
            "color": "red"
           },
           "mode": "markers",
           "type": "scatter",
           "x": [
            14
           ],
           "y": [
            12
           ]
          },
          {
           "marker": {
            "color": "red"
           },
           "mode": "markers",
           "type": "scatter",
           "x": [
            14
           ],
           "y": [
            12
           ]
          },
          {
           "marker": {
            "color": "green"
           },
           "mode": "markers",
           "type": "scatter",
           "x": [
            15
           ],
           "y": [
            18
           ]
          }
         ],
         "layout": {
          "title": {
           "text": "Simulation frame 33"
          }
         }
        },
        {
         "data": [
          {
           "marker": {
            "color": "green"
           },
           "mode": "markers",
           "type": "scatter",
           "x": [
            2
           ],
           "y": [
            6
           ]
          },
          {
           "marker": {
            "color": "red"
           },
           "mode": "markers",
           "type": "scatter",
           "x": [
            7
           ],
           "y": [
            8
           ]
          },
          {
           "marker": {
            "color": "red"
           },
           "mode": "markers",
           "type": "scatter",
           "x": [
            5
           ],
           "y": [
            13
           ]
          },
          {
           "marker": {
            "color": "red"
           },
           "mode": "markers",
           "type": "scatter",
           "x": [
            5
           ],
           "y": [
            13
           ]
          },
          {
           "marker": {
            "color": "red"
           },
           "mode": "markers",
           "type": "scatter",
           "x": [
            5
           ],
           "y": [
            13
           ]
          },
          {
           "marker": {
            "color": "green"
           },
           "mode": "markers",
           "type": "scatter",
           "x": [
            9
           ],
           "y": [
            8
           ]
          },
          {
           "marker": {
            "color": "red"
           },
           "mode": "markers",
           "type": "scatter",
           "x": [
            7
           ],
           "y": [
            8
           ]
          },
          {
           "marker": {
            "color": "green"
           },
           "mode": "markers",
           "type": "scatter",
           "x": [
            8
           ],
           "y": [
            10
           ]
          },
          {
           "marker": {
            "color": "green"
           },
           "mode": "markers",
           "type": "scatter",
           "x": [
            10
           ],
           "y": [
            16
           ]
          },
          {
           "marker": {
            "color": "red"
           },
           "mode": "markers",
           "type": "scatter",
           "x": [
            8
           ],
           "y": [
            14
           ]
          },
          {
           "marker": {
            "color": "red"
           },
           "mode": "markers",
           "type": "scatter",
           "x": [
            9
           ],
           "y": [
            5
           ]
          },
          {
           "marker": {
            "color": "red"
           },
           "mode": "markers",
           "type": "scatter",
           "x": [
            11
           ],
           "y": [
            7
           ]
          },
          {
           "marker": {
            "color": "green"
           },
           "mode": "markers",
           "type": "scatter",
           "x": [
            11
           ],
           "y": [
            10
           ]
          },
          {
           "marker": {
            "color": "red"
           },
           "mode": "markers",
           "type": "scatter",
           "x": [
            8
           ],
           "y": [
            14
           ]
          },
          {
           "marker": {
            "color": "red"
           },
           "mode": "markers",
           "type": "scatter",
           "x": [
            8
           ],
           "y": [
            14
           ]
          },
          {
           "marker": {
            "color": "red"
           },
           "mode": "markers",
           "type": "scatter",
           "x": [
            9
           ],
           "y": [
            5
           ]
          },
          {
           "marker": {
            "color": "red"
           },
           "mode": "markers",
           "type": "scatter",
           "x": [
            11
           ],
           "y": [
            7
           ]
          },
          {
           "marker": {
            "color": "green"
           },
           "mode": "markers",
           "type": "scatter",
           "x": [
            21
           ],
           "y": [
            10
           ]
          },
          {
           "marker": {
            "color": "red"
           },
           "mode": "markers",
           "type": "scatter",
           "x": [
            14
           ],
           "y": [
            12
           ]
          },
          {
           "marker": {
            "color": "green"
           },
           "mode": "markers",
           "type": "scatter",
           "x": [
            6
           ],
           "y": [
            9
           ]
          },
          {
           "marker": {
            "color": "green"
           },
           "mode": "markers",
           "type": "scatter",
           "x": [
            11
           ],
           "y": [
            -1
           ]
          },
          {
           "marker": {
            "color": "green"
           },
           "mode": "markers",
           "type": "scatter",
           "x": [
            15
           ],
           "y": [
            8
           ]
          },
          {
           "marker": {
            "color": "red"
           },
           "mode": "markers",
           "type": "scatter",
           "x": [
            14
           ],
           "y": [
            12
           ]
          },
          {
           "marker": {
            "color": "red"
           },
           "mode": "markers",
           "type": "scatter",
           "x": [
            14
           ],
           "y": [
            12
           ]
          },
          {
           "marker": {
            "color": "green"
           },
           "mode": "markers",
           "type": "scatter",
           "x": [
            14
           ],
           "y": [
            18
           ]
          }
         ],
         "layout": {
          "title": {
           "text": "Simulation frame 34"
          }
         }
        },
        {
         "data": [
          {
           "marker": {
            "color": "green"
           },
           "mode": "markers",
           "type": "scatter",
           "x": [
            2
           ],
           "y": [
            6
           ]
          },
          {
           "marker": {
            "color": "red"
           },
           "mode": "markers",
           "type": "scatter",
           "x": [
            7
           ],
           "y": [
            8
           ]
          },
          {
           "marker": {
            "color": "red"
           },
           "mode": "markers",
           "type": "scatter",
           "x": [
            5
           ],
           "y": [
            13
           ]
          },
          {
           "marker": {
            "color": "red"
           },
           "mode": "markers",
           "type": "scatter",
           "x": [
            5
           ],
           "y": [
            13
           ]
          },
          {
           "marker": {
            "color": "red"
           },
           "mode": "markers",
           "type": "scatter",
           "x": [
            5
           ],
           "y": [
            13
           ]
          },
          {
           "marker": {
            "color": "green"
           },
           "mode": "markers",
           "type": "scatter",
           "x": [
            9
           ],
           "y": [
            8
           ]
          },
          {
           "marker": {
            "color": "red"
           },
           "mode": "markers",
           "type": "scatter",
           "x": [
            7
           ],
           "y": [
            8
           ]
          },
          {
           "marker": {
            "color": "green"
           },
           "mode": "markers",
           "type": "scatter",
           "x": [
            7
           ],
           "y": [
            10
           ]
          },
          {
           "marker": {
            "color": "green"
           },
           "mode": "markers",
           "type": "scatter",
           "x": [
            10
           ],
           "y": [
            16
           ]
          },
          {
           "marker": {
            "color": "red"
           },
           "mode": "markers",
           "type": "scatter",
           "x": [
            8
           ],
           "y": [
            14
           ]
          },
          {
           "marker": {
            "color": "red"
           },
           "mode": "markers",
           "type": "scatter",
           "x": [
            9
           ],
           "y": [
            5
           ]
          },
          {
           "marker": {
            "color": "red"
           },
           "mode": "markers",
           "type": "scatter",
           "x": [
            11
           ],
           "y": [
            7
           ]
          },
          {
           "marker": {
            "color": "green"
           },
           "mode": "markers",
           "type": "scatter",
           "x": [
            11
           ],
           "y": [
            11
           ]
          },
          {
           "marker": {
            "color": "red"
           },
           "mode": "markers",
           "type": "scatter",
           "x": [
            8
           ],
           "y": [
            14
           ]
          },
          {
           "marker": {
            "color": "red"
           },
           "mode": "markers",
           "type": "scatter",
           "x": [
            8
           ],
           "y": [
            14
           ]
          },
          {
           "marker": {
            "color": "red"
           },
           "mode": "markers",
           "type": "scatter",
           "x": [
            9
           ],
           "y": [
            5
           ]
          },
          {
           "marker": {
            "color": "red"
           },
           "mode": "markers",
           "type": "scatter",
           "x": [
            11
           ],
           "y": [
            7
           ]
          },
          {
           "marker": {
            "color": "green"
           },
           "mode": "markers",
           "type": "scatter",
           "x": [
            21
           ],
           "y": [
            11
           ]
          },
          {
           "marker": {
            "color": "red"
           },
           "mode": "markers",
           "type": "scatter",
           "x": [
            14
           ],
           "y": [
            12
           ]
          },
          {
           "marker": {
            "color": "green"
           },
           "mode": "markers",
           "type": "scatter",
           "x": [
            6
           ],
           "y": [
            8
           ]
          },
          {
           "marker": {
            "color": "green"
           },
           "mode": "markers",
           "type": "scatter",
           "x": [
            11
           ],
           "y": [
            -1
           ]
          },
          {
           "marker": {
            "color": "green"
           },
           "mode": "markers",
           "type": "scatter",
           "x": [
            15
           ],
           "y": [
            9
           ]
          },
          {
           "marker": {
            "color": "red"
           },
           "mode": "markers",
           "type": "scatter",
           "x": [
            14
           ],
           "y": [
            12
           ]
          },
          {
           "marker": {
            "color": "red"
           },
           "mode": "markers",
           "type": "scatter",
           "x": [
            14
           ],
           "y": [
            12
           ]
          },
          {
           "marker": {
            "color": "green"
           },
           "mode": "markers",
           "type": "scatter",
           "x": [
            15
           ],
           "y": [
            18
           ]
          }
         ],
         "layout": {
          "title": {
           "text": "Simulation frame 35"
          }
         }
        },
        {
         "data": [
          {
           "marker": {
            "color": "green"
           },
           "mode": "markers",
           "type": "scatter",
           "x": [
            2
           ],
           "y": [
            7
           ]
          },
          {
           "marker": {
            "color": "red"
           },
           "mode": "markers",
           "type": "scatter",
           "x": [
            7
           ],
           "y": [
            8
           ]
          },
          {
           "marker": {
            "color": "red"
           },
           "mode": "markers",
           "type": "scatter",
           "x": [
            5
           ],
           "y": [
            13
           ]
          },
          {
           "marker": {
            "color": "red"
           },
           "mode": "markers",
           "type": "scatter",
           "x": [
            5
           ],
           "y": [
            13
           ]
          },
          {
           "marker": {
            "color": "red"
           },
           "mode": "markers",
           "type": "scatter",
           "x": [
            5
           ],
           "y": [
            13
           ]
          },
          {
           "marker": {
            "color": "green"
           },
           "mode": "markers",
           "type": "scatter",
           "x": [
            8
           ],
           "y": [
            8
           ]
          },
          {
           "marker": {
            "color": "red"
           },
           "mode": "markers",
           "type": "scatter",
           "x": [
            7
           ],
           "y": [
            8
           ]
          },
          {
           "marker": {
            "color": "green"
           },
           "mode": "markers",
           "type": "scatter",
           "x": [
            7
           ],
           "y": [
            11
           ]
          },
          {
           "marker": {
            "color": "green"
           },
           "mode": "markers",
           "type": "scatter",
           "x": [
            10
           ],
           "y": [
            16
           ]
          },
          {
           "marker": {
            "color": "red"
           },
           "mode": "markers",
           "type": "scatter",
           "x": [
            8
           ],
           "y": [
            14
           ]
          },
          {
           "marker": {
            "color": "red"
           },
           "mode": "markers",
           "type": "scatter",
           "x": [
            9
           ],
           "y": [
            5
           ]
          },
          {
           "marker": {
            "color": "red"
           },
           "mode": "markers",
           "type": "scatter",
           "x": [
            11
           ],
           "y": [
            7
           ]
          },
          {
           "marker": {
            "color": "green"
           },
           "mode": "markers",
           "type": "scatter",
           "x": [
            11
           ],
           "y": [
            11
           ]
          },
          {
           "marker": {
            "color": "red"
           },
           "mode": "markers",
           "type": "scatter",
           "x": [
            8
           ],
           "y": [
            14
           ]
          },
          {
           "marker": {
            "color": "red"
           },
           "mode": "markers",
           "type": "scatter",
           "x": [
            8
           ],
           "y": [
            14
           ]
          },
          {
           "marker": {
            "color": "red"
           },
           "mode": "markers",
           "type": "scatter",
           "x": [
            9
           ],
           "y": [
            5
           ]
          },
          {
           "marker": {
            "color": "red"
           },
           "mode": "markers",
           "type": "scatter",
           "x": [
            11
           ],
           "y": [
            7
           ]
          },
          {
           "marker": {
            "color": "green"
           },
           "mode": "markers",
           "type": "scatter",
           "x": [
            20
           ],
           "y": [
            11
           ]
          },
          {
           "marker": {
            "color": "red"
           },
           "mode": "markers",
           "type": "scatter",
           "x": [
            14
           ],
           "y": [
            12
           ]
          },
          {
           "marker": {
            "color": "green"
           },
           "mode": "markers",
           "type": "scatter",
           "x": [
            6
           ],
           "y": [
            7
           ]
          },
          {
           "marker": {
            "color": "green"
           },
           "mode": "markers",
           "type": "scatter",
           "x": [
            11
           ],
           "y": [
            -2
           ]
          },
          {
           "marker": {
            "color": "green"
           },
           "mode": "markers",
           "type": "scatter",
           "x": [
            15
           ],
           "y": [
            9
           ]
          },
          {
           "marker": {
            "color": "red"
           },
           "mode": "markers",
           "type": "scatter",
           "x": [
            14
           ],
           "y": [
            12
           ]
          },
          {
           "marker": {
            "color": "red"
           },
           "mode": "markers",
           "type": "scatter",
           "x": [
            14
           ],
           "y": [
            12
           ]
          },
          {
           "marker": {
            "color": "green"
           },
           "mode": "markers",
           "type": "scatter",
           "x": [
            14
           ],
           "y": [
            18
           ]
          }
         ],
         "layout": {
          "title": {
           "text": "Simulation frame 36"
          }
         }
        },
        {
         "data": [
          {
           "marker": {
            "color": "green"
           },
           "mode": "markers",
           "type": "scatter",
           "x": [
            2
           ],
           "y": [
            6
           ]
          },
          {
           "marker": {
            "color": "red"
           },
           "mode": "markers",
           "type": "scatter",
           "x": [
            7
           ],
           "y": [
            8
           ]
          },
          {
           "marker": {
            "color": "red"
           },
           "mode": "markers",
           "type": "scatter",
           "x": [
            5
           ],
           "y": [
            13
           ]
          },
          {
           "marker": {
            "color": "red"
           },
           "mode": "markers",
           "type": "scatter",
           "x": [
            5
           ],
           "y": [
            13
           ]
          },
          {
           "marker": {
            "color": "red"
           },
           "mode": "markers",
           "type": "scatter",
           "x": [
            5
           ],
           "y": [
            13
           ]
          },
          {
           "marker": {
            "color": "green"
           },
           "mode": "markers",
           "type": "scatter",
           "x": [
            8
           ],
           "y": [
            9
           ]
          },
          {
           "marker": {
            "color": "red"
           },
           "mode": "markers",
           "type": "scatter",
           "x": [
            7
           ],
           "y": [
            8
           ]
          },
          {
           "marker": {
            "color": "green"
           },
           "mode": "markers",
           "type": "scatter",
           "x": [
            7
           ],
           "y": [
            12
           ]
          },
          {
           "marker": {
            "color": "green"
           },
           "mode": "markers",
           "type": "scatter",
           "x": [
            10
           ],
           "y": [
            16
           ]
          },
          {
           "marker": {
            "color": "red"
           },
           "mode": "markers",
           "type": "scatter",
           "x": [
            8
           ],
           "y": [
            14
           ]
          },
          {
           "marker": {
            "color": "red"
           },
           "mode": "markers",
           "type": "scatter",
           "x": [
            9
           ],
           "y": [
            5
           ]
          },
          {
           "marker": {
            "color": "red"
           },
           "mode": "markers",
           "type": "scatter",
           "x": [
            11
           ],
           "y": [
            7
           ]
          },
          {
           "marker": {
            "color": "green"
           },
           "mode": "markers",
           "type": "scatter",
           "x": [
            12
           ],
           "y": [
            11
           ]
          },
          {
           "marker": {
            "color": "red"
           },
           "mode": "markers",
           "type": "scatter",
           "x": [
            8
           ],
           "y": [
            14
           ]
          },
          {
           "marker": {
            "color": "red"
           },
           "mode": "markers",
           "type": "scatter",
           "x": [
            8
           ],
           "y": [
            14
           ]
          },
          {
           "marker": {
            "color": "red"
           },
           "mode": "markers",
           "type": "scatter",
           "x": [
            9
           ],
           "y": [
            5
           ]
          },
          {
           "marker": {
            "color": "red"
           },
           "mode": "markers",
           "type": "scatter",
           "x": [
            11
           ],
           "y": [
            7
           ]
          },
          {
           "marker": {
            "color": "green"
           },
           "mode": "markers",
           "type": "scatter",
           "x": [
            20
           ],
           "y": [
            10
           ]
          },
          {
           "marker": {
            "color": "red"
           },
           "mode": "markers",
           "type": "scatter",
           "x": [
            14
           ],
           "y": [
            12
           ]
          },
          {
           "marker": {
            "color": "green"
           },
           "mode": "markers",
           "type": "scatter",
           "x": [
            6
           ],
           "y": [
            8
           ]
          },
          {
           "marker": {
            "color": "green"
           },
           "mode": "markers",
           "type": "scatter",
           "x": [
            12
           ],
           "y": [
            -2
           ]
          },
          {
           "marker": {
            "color": "green"
           },
           "mode": "markers",
           "type": "scatter",
           "x": [
            16
           ],
           "y": [
            9
           ]
          },
          {
           "marker": {
            "color": "red"
           },
           "mode": "markers",
           "type": "scatter",
           "x": [
            14
           ],
           "y": [
            12
           ]
          },
          {
           "marker": {
            "color": "red"
           },
           "mode": "markers",
           "type": "scatter",
           "x": [
            14
           ],
           "y": [
            12
           ]
          },
          {
           "marker": {
            "color": "green"
           },
           "mode": "markers",
           "type": "scatter",
           "x": [
            13
           ],
           "y": [
            18
           ]
          }
         ],
         "layout": {
          "title": {
           "text": "Simulation frame 37"
          }
         }
        },
        {
         "data": [
          {
           "marker": {
            "color": "green"
           },
           "mode": "markers",
           "type": "scatter",
           "x": [
            2
           ],
           "y": [
            7
           ]
          },
          {
           "marker": {
            "color": "red"
           },
           "mode": "markers",
           "type": "scatter",
           "x": [
            7
           ],
           "y": [
            8
           ]
          },
          {
           "marker": {
            "color": "red"
           },
           "mode": "markers",
           "type": "scatter",
           "x": [
            5
           ],
           "y": [
            13
           ]
          },
          {
           "marker": {
            "color": "red"
           },
           "mode": "markers",
           "type": "scatter",
           "x": [
            5
           ],
           "y": [
            13
           ]
          },
          {
           "marker": {
            "color": "red"
           },
           "mode": "markers",
           "type": "scatter",
           "x": [
            5
           ],
           "y": [
            13
           ]
          },
          {
           "marker": {
            "color": "green"
           },
           "mode": "markers",
           "type": "scatter",
           "x": [
            8
           ],
           "y": [
            9
           ]
          },
          {
           "marker": {
            "color": "red"
           },
           "mode": "markers",
           "type": "scatter",
           "x": [
            7
           ],
           "y": [
            8
           ]
          },
          {
           "marker": {
            "color": "green"
           },
           "mode": "markers",
           "type": "scatter",
           "x": [
            6
           ],
           "y": [
            12
           ]
          },
          {
           "marker": {
            "color": "green"
           },
           "mode": "markers",
           "type": "scatter",
           "x": [
            10
           ],
           "y": [
            17
           ]
          },
          {
           "marker": {
            "color": "red"
           },
           "mode": "markers",
           "type": "scatter",
           "x": [
            8
           ],
           "y": [
            14
           ]
          },
          {
           "marker": {
            "color": "red"
           },
           "mode": "markers",
           "type": "scatter",
           "x": [
            9
           ],
           "y": [
            5
           ]
          },
          {
           "marker": {
            "color": "red"
           },
           "mode": "markers",
           "type": "scatter",
           "x": [
            11
           ],
           "y": [
            7
           ]
          },
          {
           "marker": {
            "color": "green"
           },
           "mode": "markers",
           "type": "scatter",
           "x": [
            12
           ],
           "y": [
            10
           ]
          },
          {
           "marker": {
            "color": "red"
           },
           "mode": "markers",
           "type": "scatter",
           "x": [
            8
           ],
           "y": [
            14
           ]
          },
          {
           "marker": {
            "color": "red"
           },
           "mode": "markers",
           "type": "scatter",
           "x": [
            8
           ],
           "y": [
            14
           ]
          },
          {
           "marker": {
            "color": "red"
           },
           "mode": "markers",
           "type": "scatter",
           "x": [
            9
           ],
           "y": [
            5
           ]
          },
          {
           "marker": {
            "color": "red"
           },
           "mode": "markers",
           "type": "scatter",
           "x": [
            11
           ],
           "y": [
            7
           ]
          },
          {
           "marker": {
            "color": "green"
           },
           "mode": "markers",
           "type": "scatter",
           "x": [
            21
           ],
           "y": [
            10
           ]
          },
          {
           "marker": {
            "color": "red"
           },
           "mode": "markers",
           "type": "scatter",
           "x": [
            14
           ],
           "y": [
            12
           ]
          },
          {
           "marker": {
            "color": "green"
           },
           "mode": "markers",
           "type": "scatter",
           "x": [
            6
           ],
           "y": [
            8
           ]
          },
          {
           "marker": {
            "color": "green"
           },
           "mode": "markers",
           "type": "scatter",
           "x": [
            12
           ],
           "y": [
            -3
           ]
          },
          {
           "marker": {
            "color": "green"
           },
           "mode": "markers",
           "type": "scatter",
           "x": [
            16
           ],
           "y": [
            8
           ]
          },
          {
           "marker": {
            "color": "red"
           },
           "mode": "markers",
           "type": "scatter",
           "x": [
            14
           ],
           "y": [
            12
           ]
          },
          {
           "marker": {
            "color": "red"
           },
           "mode": "markers",
           "type": "scatter",
           "x": [
            14
           ],
           "y": [
            12
           ]
          },
          {
           "marker": {
            "color": "green"
           },
           "mode": "markers",
           "type": "scatter",
           "x": [
            12
           ],
           "y": [
            18
           ]
          }
         ],
         "layout": {
          "title": {
           "text": "Simulation frame 38"
          }
         }
        },
        {
         "data": [
          {
           "marker": {
            "color": "green"
           },
           "mode": "markers",
           "type": "scatter",
           "x": [
            1
           ],
           "y": [
            7
           ]
          },
          {
           "marker": {
            "color": "red"
           },
           "mode": "markers",
           "type": "scatter",
           "x": [
            7
           ],
           "y": [
            8
           ]
          },
          {
           "marker": {
            "color": "red"
           },
           "mode": "markers",
           "type": "scatter",
           "x": [
            5
           ],
           "y": [
            13
           ]
          },
          {
           "marker": {
            "color": "red"
           },
           "mode": "markers",
           "type": "scatter",
           "x": [
            5
           ],
           "y": [
            13
           ]
          },
          {
           "marker": {
            "color": "red"
           },
           "mode": "markers",
           "type": "scatter",
           "x": [
            5
           ],
           "y": [
            13
           ]
          },
          {
           "marker": {
            "color": "green"
           },
           "mode": "markers",
           "type": "scatter",
           "x": [
            8
           ],
           "y": [
            10
           ]
          },
          {
           "marker": {
            "color": "red"
           },
           "mode": "markers",
           "type": "scatter",
           "x": [
            7
           ],
           "y": [
            8
           ]
          },
          {
           "marker": {
            "color": "green"
           },
           "mode": "markers",
           "type": "scatter",
           "x": [
            7
           ],
           "y": [
            12
           ]
          },
          {
           "marker": {
            "color": "green"
           },
           "mode": "markers",
           "type": "scatter",
           "x": [
            11
           ],
           "y": [
            17
           ]
          },
          {
           "marker": {
            "color": "red"
           },
           "mode": "markers",
           "type": "scatter",
           "x": [
            8
           ],
           "y": [
            14
           ]
          },
          {
           "marker": {
            "color": "red"
           },
           "mode": "markers",
           "type": "scatter",
           "x": [
            9
           ],
           "y": [
            5
           ]
          },
          {
           "marker": {
            "color": "red"
           },
           "mode": "markers",
           "type": "scatter",
           "x": [
            11
           ],
           "y": [
            7
           ]
          },
          {
           "marker": {
            "color": "green"
           },
           "mode": "markers",
           "type": "scatter",
           "x": [
            12
           ],
           "y": [
            10
           ]
          },
          {
           "marker": {
            "color": "red"
           },
           "mode": "markers",
           "type": "scatter",
           "x": [
            8
           ],
           "y": [
            14
           ]
          },
          {
           "marker": {
            "color": "red"
           },
           "mode": "markers",
           "type": "scatter",
           "x": [
            8
           ],
           "y": [
            14
           ]
          },
          {
           "marker": {
            "color": "red"
           },
           "mode": "markers",
           "type": "scatter",
           "x": [
            9
           ],
           "y": [
            5
           ]
          },
          {
           "marker": {
            "color": "red"
           },
           "mode": "markers",
           "type": "scatter",
           "x": [
            11
           ],
           "y": [
            7
           ]
          },
          {
           "marker": {
            "color": "green"
           },
           "mode": "markers",
           "type": "scatter",
           "x": [
            21
           ],
           "y": [
            10
           ]
          },
          {
           "marker": {
            "color": "red"
           },
           "mode": "markers",
           "type": "scatter",
           "x": [
            14
           ],
           "y": [
            12
           ]
          },
          {
           "marker": {
            "color": "green"
           },
           "mode": "markers",
           "type": "scatter",
           "x": [
            6
           ],
           "y": [
            8
           ]
          },
          {
           "marker": {
            "color": "green"
           },
           "mode": "markers",
           "type": "scatter",
           "x": [
            12
           ],
           "y": [
            -2
           ]
          },
          {
           "marker": {
            "color": "green"
           },
           "mode": "markers",
           "type": "scatter",
           "x": [
            16
           ],
           "y": [
            9
           ]
          },
          {
           "marker": {
            "color": "red"
           },
           "mode": "markers",
           "type": "scatter",
           "x": [
            14
           ],
           "y": [
            12
           ]
          },
          {
           "marker": {
            "color": "red"
           },
           "mode": "markers",
           "type": "scatter",
           "x": [
            14
           ],
           "y": [
            12
           ]
          },
          {
           "marker": {
            "color": "green"
           },
           "mode": "markers",
           "type": "scatter",
           "x": [
            11
           ],
           "y": [
            18
           ]
          }
         ],
         "layout": {
          "title": {
           "text": "Simulation frame 39"
          }
         }
        },
        {
         "data": [
          {
           "marker": {
            "color": "green"
           },
           "mode": "markers",
           "type": "scatter",
           "x": [
            1
           ],
           "y": [
            7
           ]
          },
          {
           "marker": {
            "color": "red"
           },
           "mode": "markers",
           "type": "scatter",
           "x": [
            7
           ],
           "y": [
            8
           ]
          },
          {
           "marker": {
            "color": "red"
           },
           "mode": "markers",
           "type": "scatter",
           "x": [
            5
           ],
           "y": [
            13
           ]
          },
          {
           "marker": {
            "color": "red"
           },
           "mode": "markers",
           "type": "scatter",
           "x": [
            5
           ],
           "y": [
            13
           ]
          },
          {
           "marker": {
            "color": "red"
           },
           "mode": "markers",
           "type": "scatter",
           "x": [
            5
           ],
           "y": [
            13
           ]
          },
          {
           "marker": {
            "color": "green"
           },
           "mode": "markers",
           "type": "scatter",
           "x": [
            9
           ],
           "y": [
            10
           ]
          },
          {
           "marker": {
            "color": "red"
           },
           "mode": "markers",
           "type": "scatter",
           "x": [
            7
           ],
           "y": [
            8
           ]
          },
          {
           "marker": {
            "color": "green"
           },
           "mode": "markers",
           "type": "scatter",
           "x": [
            8
           ],
           "y": [
            12
           ]
          },
          {
           "marker": {
            "color": "green"
           },
           "mode": "markers",
           "type": "scatter",
           "x": [
            12
           ],
           "y": [
            17
           ]
          },
          {
           "marker": {
            "color": "red"
           },
           "mode": "markers",
           "type": "scatter",
           "x": [
            8
           ],
           "y": [
            14
           ]
          },
          {
           "marker": {
            "color": "red"
           },
           "mode": "markers",
           "type": "scatter",
           "x": [
            9
           ],
           "y": [
            5
           ]
          },
          {
           "marker": {
            "color": "red"
           },
           "mode": "markers",
           "type": "scatter",
           "x": [
            11
           ],
           "y": [
            7
           ]
          },
          {
           "marker": {
            "color": "green"
           },
           "mode": "markers",
           "type": "scatter",
           "x": [
            12
           ],
           "y": [
            10
           ]
          },
          {
           "marker": {
            "color": "red"
           },
           "mode": "markers",
           "type": "scatter",
           "x": [
            8
           ],
           "y": [
            14
           ]
          },
          {
           "marker": {
            "color": "red"
           },
           "mode": "markers",
           "type": "scatter",
           "x": [
            8
           ],
           "y": [
            14
           ]
          },
          {
           "marker": {
            "color": "red"
           },
           "mode": "markers",
           "type": "scatter",
           "x": [
            9
           ],
           "y": [
            5
           ]
          },
          {
           "marker": {
            "color": "red"
           },
           "mode": "markers",
           "type": "scatter",
           "x": [
            11
           ],
           "y": [
            7
           ]
          },
          {
           "marker": {
            "color": "green"
           },
           "mode": "markers",
           "type": "scatter",
           "x": [
            21
           ],
           "y": [
            10
           ]
          },
          {
           "marker": {
            "color": "red"
           },
           "mode": "markers",
           "type": "scatter",
           "x": [
            14
           ],
           "y": [
            12
           ]
          },
          {
           "marker": {
            "color": "green"
           },
           "mode": "markers",
           "type": "scatter",
           "x": [
            6
           ],
           "y": [
            7
           ]
          },
          {
           "marker": {
            "color": "green"
           },
           "mode": "markers",
           "type": "scatter",
           "x": [
            12
           ],
           "y": [
            -3
           ]
          },
          {
           "marker": {
            "color": "green"
           },
           "mode": "markers",
           "type": "scatter",
           "x": [
            16
           ],
           "y": [
            8
           ]
          },
          {
           "marker": {
            "color": "red"
           },
           "mode": "markers",
           "type": "scatter",
           "x": [
            14
           ],
           "y": [
            12
           ]
          },
          {
           "marker": {
            "color": "red"
           },
           "mode": "markers",
           "type": "scatter",
           "x": [
            14
           ],
           "y": [
            12
           ]
          },
          {
           "marker": {
            "color": "green"
           },
           "mode": "markers",
           "type": "scatter",
           "x": [
            11
           ],
           "y": [
            18
           ]
          }
         ],
         "layout": {
          "title": {
           "text": "Simulation frame 40"
          }
         }
        },
        {
         "data": [
          {
           "marker": {
            "color": "green"
           },
           "mode": "markers",
           "type": "scatter",
           "x": [
            2
           ],
           "y": [
            7
           ]
          },
          {
           "marker": {
            "color": "red"
           },
           "mode": "markers",
           "type": "scatter",
           "x": [
            7
           ],
           "y": [
            8
           ]
          },
          {
           "marker": {
            "color": "red"
           },
           "mode": "markers",
           "type": "scatter",
           "x": [
            5
           ],
           "y": [
            13
           ]
          },
          {
           "marker": {
            "color": "red"
           },
           "mode": "markers",
           "type": "scatter",
           "x": [
            5
           ],
           "y": [
            13
           ]
          },
          {
           "marker": {
            "color": "red"
           },
           "mode": "markers",
           "type": "scatter",
           "x": [
            5
           ],
           "y": [
            13
           ]
          },
          {
           "marker": {
            "color": "green"
           },
           "mode": "markers",
           "type": "scatter",
           "x": [
            9
           ],
           "y": [
            11
           ]
          },
          {
           "marker": {
            "color": "red"
           },
           "mode": "markers",
           "type": "scatter",
           "x": [
            7
           ],
           "y": [
            8
           ]
          },
          {
           "marker": {
            "color": "green"
           },
           "mode": "markers",
           "type": "scatter",
           "x": [
            7
           ],
           "y": [
            12
           ]
          },
          {
           "marker": {
            "color": "green"
           },
           "mode": "markers",
           "type": "scatter",
           "x": [
            12
           ],
           "y": [
            16
           ]
          },
          {
           "marker": {
            "color": "red"
           },
           "mode": "markers",
           "type": "scatter",
           "x": [
            8
           ],
           "y": [
            14
           ]
          },
          {
           "marker": {
            "color": "red"
           },
           "mode": "markers",
           "type": "scatter",
           "x": [
            9
           ],
           "y": [
            5
           ]
          },
          {
           "marker": {
            "color": "red"
           },
           "mode": "markers",
           "type": "scatter",
           "x": [
            11
           ],
           "y": [
            7
           ]
          },
          {
           "marker": {
            "color": "green"
           },
           "mode": "markers",
           "type": "scatter",
           "x": [
            12
           ],
           "y": [
            10
           ]
          },
          {
           "marker": {
            "color": "red"
           },
           "mode": "markers",
           "type": "scatter",
           "x": [
            8
           ],
           "y": [
            14
           ]
          },
          {
           "marker": {
            "color": "red"
           },
           "mode": "markers",
           "type": "scatter",
           "x": [
            8
           ],
           "y": [
            14
           ]
          },
          {
           "marker": {
            "color": "red"
           },
           "mode": "markers",
           "type": "scatter",
           "x": [
            9
           ],
           "y": [
            5
           ]
          },
          {
           "marker": {
            "color": "red"
           },
           "mode": "markers",
           "type": "scatter",
           "x": [
            11
           ],
           "y": [
            7
           ]
          },
          {
           "marker": {
            "color": "green"
           },
           "mode": "markers",
           "type": "scatter",
           "x": [
            21
           ],
           "y": [
            9
           ]
          },
          {
           "marker": {
            "color": "red"
           },
           "mode": "markers",
           "type": "scatter",
           "x": [
            14
           ],
           "y": [
            12
           ]
          },
          {
           "marker": {
            "color": "green"
           },
           "mode": "markers",
           "type": "scatter",
           "x": [
            5
           ],
           "y": [
            7
           ]
          },
          {
           "marker": {
            "color": "green"
           },
           "mode": "markers",
           "type": "scatter",
           "x": [
            11
           ],
           "y": [
            -3
           ]
          },
          {
           "marker": {
            "color": "green"
           },
           "mode": "markers",
           "type": "scatter",
           "x": [
            15
           ],
           "y": [
            8
           ]
          },
          {
           "marker": {
            "color": "red"
           },
           "mode": "markers",
           "type": "scatter",
           "x": [
            14
           ],
           "y": [
            12
           ]
          },
          {
           "marker": {
            "color": "red"
           },
           "mode": "markers",
           "type": "scatter",
           "x": [
            14
           ],
           "y": [
            12
           ]
          },
          {
           "marker": {
            "color": "green"
           },
           "mode": "markers",
           "type": "scatter",
           "x": [
            11
           ],
           "y": [
            17
           ]
          }
         ],
         "layout": {
          "title": {
           "text": "Simulation frame 41"
          }
         }
        },
        {
         "data": [
          {
           "marker": {
            "color": "green"
           },
           "mode": "markers",
           "type": "scatter",
           "x": [
            3
           ],
           "y": [
            7
           ]
          },
          {
           "marker": {
            "color": "red"
           },
           "mode": "markers",
           "type": "scatter",
           "x": [
            7
           ],
           "y": [
            8
           ]
          },
          {
           "marker": {
            "color": "red"
           },
           "mode": "markers",
           "type": "scatter",
           "x": [
            5
           ],
           "y": [
            13
           ]
          },
          {
           "marker": {
            "color": "red"
           },
           "mode": "markers",
           "type": "scatter",
           "x": [
            5
           ],
           "y": [
            13
           ]
          },
          {
           "marker": {
            "color": "red"
           },
           "mode": "markers",
           "type": "scatter",
           "x": [
            5
           ],
           "y": [
            13
           ]
          },
          {
           "marker": {
            "color": "green"
           },
           "mode": "markers",
           "type": "scatter",
           "x": [
            9
           ],
           "y": [
            10
           ]
          },
          {
           "marker": {
            "color": "red"
           },
           "mode": "markers",
           "type": "scatter",
           "x": [
            7
           ],
           "y": [
            8
           ]
          },
          {
           "marker": {
            "color": "green"
           },
           "mode": "markers",
           "type": "scatter",
           "x": [
            7
           ],
           "y": [
            12
           ]
          },
          {
           "marker": {
            "color": "green"
           },
           "mode": "markers",
           "type": "scatter",
           "x": [
            12
           ],
           "y": [
            15
           ]
          },
          {
           "marker": {
            "color": "red"
           },
           "mode": "markers",
           "type": "scatter",
           "x": [
            8
           ],
           "y": [
            14
           ]
          },
          {
           "marker": {
            "color": "red"
           },
           "mode": "markers",
           "type": "scatter",
           "x": [
            9
           ],
           "y": [
            5
           ]
          },
          {
           "marker": {
            "color": "red"
           },
           "mode": "markers",
           "type": "scatter",
           "x": [
            11
           ],
           "y": [
            7
           ]
          },
          {
           "marker": {
            "color": "green"
           },
           "mode": "markers",
           "type": "scatter",
           "x": [
            13
           ],
           "y": [
            10
           ]
          },
          {
           "marker": {
            "color": "red"
           },
           "mode": "markers",
           "type": "scatter",
           "x": [
            8
           ],
           "y": [
            14
           ]
          },
          {
           "marker": {
            "color": "red"
           },
           "mode": "markers",
           "type": "scatter",
           "x": [
            8
           ],
           "y": [
            14
           ]
          },
          {
           "marker": {
            "color": "red"
           },
           "mode": "markers",
           "type": "scatter",
           "x": [
            9
           ],
           "y": [
            5
           ]
          },
          {
           "marker": {
            "color": "red"
           },
           "mode": "markers",
           "type": "scatter",
           "x": [
            11
           ],
           "y": [
            7
           ]
          },
          {
           "marker": {
            "color": "green"
           },
           "mode": "markers",
           "type": "scatter",
           "x": [
            21
           ],
           "y": [
            10
           ]
          },
          {
           "marker": {
            "color": "red"
           },
           "mode": "markers",
           "type": "scatter",
           "x": [
            14
           ],
           "y": [
            12
           ]
          },
          {
           "marker": {
            "color": "green"
           },
           "mode": "markers",
           "type": "scatter",
           "x": [
            6
           ],
           "y": [
            7
           ]
          },
          {
           "marker": {
            "color": "green"
           },
           "mode": "markers",
           "type": "scatter",
           "x": [
            12
           ],
           "y": [
            -3
           ]
          },
          {
           "marker": {
            "color": "green"
           },
           "mode": "markers",
           "type": "scatter",
           "x": [
            15
           ],
           "y": [
            9
           ]
          },
          {
           "marker": {
            "color": "red"
           },
           "mode": "markers",
           "type": "scatter",
           "x": [
            14
           ],
           "y": [
            12
           ]
          },
          {
           "marker": {
            "color": "red"
           },
           "mode": "markers",
           "type": "scatter",
           "x": [
            14
           ],
           "y": [
            12
           ]
          },
          {
           "marker": {
            "color": "green"
           },
           "mode": "markers",
           "type": "scatter",
           "x": [
            11
           ],
           "y": [
            16
           ]
          }
         ],
         "layout": {
          "title": {
           "text": "Simulation frame 42"
          }
         }
        },
        {
         "data": [
          {
           "marker": {
            "color": "green"
           },
           "mode": "markers",
           "type": "scatter",
           "x": [
            3
           ],
           "y": [
            7
           ]
          },
          {
           "marker": {
            "color": "red"
           },
           "mode": "markers",
           "type": "scatter",
           "x": [
            7
           ],
           "y": [
            8
           ]
          },
          {
           "marker": {
            "color": "red"
           },
           "mode": "markers",
           "type": "scatter",
           "x": [
            5
           ],
           "y": [
            13
           ]
          },
          {
           "marker": {
            "color": "red"
           },
           "mode": "markers",
           "type": "scatter",
           "x": [
            5
           ],
           "y": [
            13
           ]
          },
          {
           "marker": {
            "color": "red"
           },
           "mode": "markers",
           "type": "scatter",
           "x": [
            5
           ],
           "y": [
            13
           ]
          },
          {
           "marker": {
            "color": "green"
           },
           "mode": "markers",
           "type": "scatter",
           "x": [
            8
           ],
           "y": [
            10
           ]
          },
          {
           "marker": {
            "color": "red"
           },
           "mode": "markers",
           "type": "scatter",
           "x": [
            7
           ],
           "y": [
            8
           ]
          },
          {
           "marker": {
            "color": "green"
           },
           "mode": "markers",
           "type": "scatter",
           "x": [
            7
           ],
           "y": [
            12
           ]
          },
          {
           "marker": {
            "color": "green"
           },
           "mode": "markers",
           "type": "scatter",
           "x": [
            12
           ],
           "y": [
            16
           ]
          },
          {
           "marker": {
            "color": "red"
           },
           "mode": "markers",
           "type": "scatter",
           "x": [
            8
           ],
           "y": [
            14
           ]
          },
          {
           "marker": {
            "color": "red"
           },
           "mode": "markers",
           "type": "scatter",
           "x": [
            9
           ],
           "y": [
            5
           ]
          },
          {
           "marker": {
            "color": "red"
           },
           "mode": "markers",
           "type": "scatter",
           "x": [
            11
           ],
           "y": [
            7
           ]
          },
          {
           "marker": {
            "color": "green"
           },
           "mode": "markers",
           "type": "scatter",
           "x": [
            13
           ],
           "y": [
            11
           ]
          },
          {
           "marker": {
            "color": "red"
           },
           "mode": "markers",
           "type": "scatter",
           "x": [
            8
           ],
           "y": [
            14
           ]
          },
          {
           "marker": {
            "color": "red"
           },
           "mode": "markers",
           "type": "scatter",
           "x": [
            8
           ],
           "y": [
            14
           ]
          },
          {
           "marker": {
            "color": "red"
           },
           "mode": "markers",
           "type": "scatter",
           "x": [
            9
           ],
           "y": [
            5
           ]
          },
          {
           "marker": {
            "color": "red"
           },
           "mode": "markers",
           "type": "scatter",
           "x": [
            11
           ],
           "y": [
            7
           ]
          },
          {
           "marker": {
            "color": "green"
           },
           "mode": "markers",
           "type": "scatter",
           "x": [
            21
           ],
           "y": [
            10
           ]
          },
          {
           "marker": {
            "color": "red"
           },
           "mode": "markers",
           "type": "scatter",
           "x": [
            14
           ],
           "y": [
            12
           ]
          },
          {
           "marker": {
            "color": "green"
           },
           "mode": "markers",
           "type": "scatter",
           "x": [
            6
           ],
           "y": [
            8
           ]
          },
          {
           "marker": {
            "color": "green"
           },
           "mode": "markers",
           "type": "scatter",
           "x": [
            12
           ],
           "y": [
            -4
           ]
          },
          {
           "marker": {
            "color": "green"
           },
           "mode": "markers",
           "type": "scatter",
           "x": [
            14
           ],
           "y": [
            9
           ]
          },
          {
           "marker": {
            "color": "red"
           },
           "mode": "markers",
           "type": "scatter",
           "x": [
            14
           ],
           "y": [
            12
           ]
          },
          {
           "marker": {
            "color": "red"
           },
           "mode": "markers",
           "type": "scatter",
           "x": [
            14
           ],
           "y": [
            12
           ]
          },
          {
           "marker": {
            "color": "green"
           },
           "mode": "markers",
           "type": "scatter",
           "x": [
            11
           ],
           "y": [
            15
           ]
          }
         ],
         "layout": {
          "title": {
           "text": "Simulation frame 43"
          }
         }
        },
        {
         "data": [
          {
           "marker": {
            "color": "green"
           },
           "mode": "markers",
           "type": "scatter",
           "x": [
            3
           ],
           "y": [
            7
           ]
          },
          {
           "marker": {
            "color": "red"
           },
           "mode": "markers",
           "type": "scatter",
           "x": [
            7
           ],
           "y": [
            8
           ]
          },
          {
           "marker": {
            "color": "red"
           },
           "mode": "markers",
           "type": "scatter",
           "x": [
            5
           ],
           "y": [
            13
           ]
          },
          {
           "marker": {
            "color": "red"
           },
           "mode": "markers",
           "type": "scatter",
           "x": [
            5
           ],
           "y": [
            13
           ]
          },
          {
           "marker": {
            "color": "red"
           },
           "mode": "markers",
           "type": "scatter",
           "x": [
            5
           ],
           "y": [
            13
           ]
          },
          {
           "marker": {
            "color": "green"
           },
           "mode": "markers",
           "type": "scatter",
           "x": [
            8
           ],
           "y": [
            9
           ]
          },
          {
           "marker": {
            "color": "red"
           },
           "mode": "markers",
           "type": "scatter",
           "x": [
            7
           ],
           "y": [
            8
           ]
          },
          {
           "marker": {
            "color": "green"
           },
           "mode": "markers",
           "type": "scatter",
           "x": [
            6
           ],
           "y": [
            12
           ]
          },
          {
           "marker": {
            "color": "green"
           },
           "mode": "markers",
           "type": "scatter",
           "x": [
            12
           ],
           "y": [
            17
           ]
          },
          {
           "marker": {
            "color": "red"
           },
           "mode": "markers",
           "type": "scatter",
           "x": [
            8
           ],
           "y": [
            14
           ]
          },
          {
           "marker": {
            "color": "red"
           },
           "mode": "markers",
           "type": "scatter",
           "x": [
            9
           ],
           "y": [
            5
           ]
          },
          {
           "marker": {
            "color": "red"
           },
           "mode": "markers",
           "type": "scatter",
           "x": [
            11
           ],
           "y": [
            7
           ]
          },
          {
           "marker": {
            "color": "green"
           },
           "mode": "markers",
           "type": "scatter",
           "x": [
            13
           ],
           "y": [
            12
           ]
          },
          {
           "marker": {
            "color": "red"
           },
           "mode": "markers",
           "type": "scatter",
           "x": [
            8
           ],
           "y": [
            14
           ]
          },
          {
           "marker": {
            "color": "red"
           },
           "mode": "markers",
           "type": "scatter",
           "x": [
            8
           ],
           "y": [
            14
           ]
          },
          {
           "marker": {
            "color": "red"
           },
           "mode": "markers",
           "type": "scatter",
           "x": [
            9
           ],
           "y": [
            5
           ]
          },
          {
           "marker": {
            "color": "red"
           },
           "mode": "markers",
           "type": "scatter",
           "x": [
            11
           ],
           "y": [
            7
           ]
          },
          {
           "marker": {
            "color": "green"
           },
           "mode": "markers",
           "type": "scatter",
           "x": [
            21
           ],
           "y": [
            11
           ]
          },
          {
           "marker": {
            "color": "red"
           },
           "mode": "markers",
           "type": "scatter",
           "x": [
            14
           ],
           "y": [
            12
           ]
          },
          {
           "marker": {
            "color": "green"
           },
           "mode": "markers",
           "type": "scatter",
           "x": [
            5
           ],
           "y": [
            8
           ]
          },
          {
           "marker": {
            "color": "green"
           },
           "mode": "markers",
           "type": "scatter",
           "x": [
            11
           ],
           "y": [
            -4
           ]
          },
          {
           "marker": {
            "color": "green"
           },
           "mode": "markers",
           "type": "scatter",
           "x": [
            14
           ],
           "y": [
            8
           ]
          },
          {
           "marker": {
            "color": "red"
           },
           "mode": "markers",
           "type": "scatter",
           "x": [
            14
           ],
           "y": [
            12
           ]
          },
          {
           "marker": {
            "color": "red"
           },
           "mode": "markers",
           "type": "scatter",
           "x": [
            14
           ],
           "y": [
            12
           ]
          },
          {
           "marker": {
            "color": "green"
           },
           "mode": "markers",
           "type": "scatter",
           "x": [
            12
           ],
           "y": [
            15
           ]
          }
         ],
         "layout": {
          "title": {
           "text": "Simulation frame 44"
          }
         }
        },
        {
         "data": [
          {
           "marker": {
            "color": "green"
           },
           "mode": "markers",
           "type": "scatter",
           "x": [
            4
           ],
           "y": [
            7
           ]
          },
          {
           "marker": {
            "color": "red"
           },
           "mode": "markers",
           "type": "scatter",
           "x": [
            7
           ],
           "y": [
            8
           ]
          },
          {
           "marker": {
            "color": "red"
           },
           "mode": "markers",
           "type": "scatter",
           "x": [
            5
           ],
           "y": [
            13
           ]
          },
          {
           "marker": {
            "color": "red"
           },
           "mode": "markers",
           "type": "scatter",
           "x": [
            5
           ],
           "y": [
            13
           ]
          },
          {
           "marker": {
            "color": "red"
           },
           "mode": "markers",
           "type": "scatter",
           "x": [
            5
           ],
           "y": [
            13
           ]
          },
          {
           "marker": {
            "color": "green"
           },
           "mode": "markers",
           "type": "scatter",
           "x": [
            8
           ],
           "y": [
            8
           ]
          },
          {
           "marker": {
            "color": "red"
           },
           "mode": "markers",
           "type": "scatter",
           "x": [
            7
           ],
           "y": [
            8
           ]
          },
          {
           "marker": {
            "color": "green"
           },
           "mode": "markers",
           "type": "scatter",
           "x": [
            6
           ],
           "y": [
            13
           ]
          },
          {
           "marker": {
            "color": "green"
           },
           "mode": "markers",
           "type": "scatter",
           "x": [
            12
           ],
           "y": [
            16
           ]
          },
          {
           "marker": {
            "color": "red"
           },
           "mode": "markers",
           "type": "scatter",
           "x": [
            8
           ],
           "y": [
            14
           ]
          },
          {
           "marker": {
            "color": "red"
           },
           "mode": "markers",
           "type": "scatter",
           "x": [
            9
           ],
           "y": [
            5
           ]
          },
          {
           "marker": {
            "color": "red"
           },
           "mode": "markers",
           "type": "scatter",
           "x": [
            11
           ],
           "y": [
            7
           ]
          },
          {
           "marker": {
            "color": "green"
           },
           "mode": "markers",
           "type": "scatter",
           "x": [
            13
           ],
           "y": [
            12
           ]
          },
          {
           "marker": {
            "color": "red"
           },
           "mode": "markers",
           "type": "scatter",
           "x": [
            8
           ],
           "y": [
            14
           ]
          },
          {
           "marker": {
            "color": "red"
           },
           "mode": "markers",
           "type": "scatter",
           "x": [
            8
           ],
           "y": [
            14
           ]
          },
          {
           "marker": {
            "color": "red"
           },
           "mode": "markers",
           "type": "scatter",
           "x": [
            9
           ],
           "y": [
            5
           ]
          },
          {
           "marker": {
            "color": "red"
           },
           "mode": "markers",
           "type": "scatter",
           "x": [
            11
           ],
           "y": [
            7
           ]
          },
          {
           "marker": {
            "color": "green"
           },
           "mode": "markers",
           "type": "scatter",
           "x": [
            21
           ],
           "y": [
            12
           ]
          },
          {
           "marker": {
            "color": "red"
           },
           "mode": "markers",
           "type": "scatter",
           "x": [
            14
           ],
           "y": [
            12
           ]
          },
          {
           "marker": {
            "color": "green"
           },
           "mode": "markers",
           "type": "scatter",
           "x": [
            6
           ],
           "y": [
            8
           ]
          },
          {
           "marker": {
            "color": "green"
           },
           "mode": "markers",
           "type": "scatter",
           "x": [
            10
           ],
           "y": [
            -4
           ]
          },
          {
           "marker": {
            "color": "green"
           },
           "mode": "markers",
           "type": "scatter",
           "x": [
            14
           ],
           "y": [
            9
           ]
          },
          {
           "marker": {
            "color": "red"
           },
           "mode": "markers",
           "type": "scatter",
           "x": [
            14
           ],
           "y": [
            12
           ]
          },
          {
           "marker": {
            "color": "red"
           },
           "mode": "markers",
           "type": "scatter",
           "x": [
            14
           ],
           "y": [
            12
           ]
          },
          {
           "marker": {
            "color": "green"
           },
           "mode": "markers",
           "type": "scatter",
           "x": [
            13
           ],
           "y": [
            15
           ]
          }
         ],
         "layout": {
          "title": {
           "text": "Simulation frame 45"
          }
         }
        },
        {
         "data": [
          {
           "marker": {
            "color": "green"
           },
           "mode": "markers",
           "type": "scatter",
           "x": [
            5
           ],
           "y": [
            7
           ]
          },
          {
           "marker": {
            "color": "red"
           },
           "mode": "markers",
           "type": "scatter",
           "x": [
            7
           ],
           "y": [
            8
           ]
          },
          {
           "marker": {
            "color": "red"
           },
           "mode": "markers",
           "type": "scatter",
           "x": [
            5
           ],
           "y": [
            13
           ]
          },
          {
           "marker": {
            "color": "red"
           },
           "mode": "markers",
           "type": "scatter",
           "x": [
            5
           ],
           "y": [
            13
           ]
          },
          {
           "marker": {
            "color": "red"
           },
           "mode": "markers",
           "type": "scatter",
           "x": [
            5
           ],
           "y": [
            13
           ]
          },
          {
           "marker": {
            "color": "green"
           },
           "mode": "markers",
           "type": "scatter",
           "x": [
            8
           ],
           "y": [
            7
           ]
          },
          {
           "marker": {
            "color": "red"
           },
           "mode": "markers",
           "type": "scatter",
           "x": [
            7
           ],
           "y": [
            8
           ]
          },
          {
           "marker": {
            "color": "green"
           },
           "mode": "markers",
           "type": "scatter",
           "x": [
            6
           ],
           "y": [
            13
           ]
          },
          {
           "marker": {
            "color": "green"
           },
           "mode": "markers",
           "type": "scatter",
           "x": [
            12
           ],
           "y": [
            15
           ]
          },
          {
           "marker": {
            "color": "red"
           },
           "mode": "markers",
           "type": "scatter",
           "x": [
            8
           ],
           "y": [
            14
           ]
          },
          {
           "marker": {
            "color": "red"
           },
           "mode": "markers",
           "type": "scatter",
           "x": [
            9
           ],
           "y": [
            5
           ]
          },
          {
           "marker": {
            "color": "red"
           },
           "mode": "markers",
           "type": "scatter",
           "x": [
            11
           ],
           "y": [
            7
           ]
          },
          {
           "marker": {
            "color": "red"
           },
           "mode": "markers",
           "type": "scatter",
           "x": [
            14
           ],
           "y": [
            12
           ]
          },
          {
           "marker": {
            "color": "red"
           },
           "mode": "markers",
           "type": "scatter",
           "x": [
            8
           ],
           "y": [
            14
           ]
          },
          {
           "marker": {
            "color": "red"
           },
           "mode": "markers",
           "type": "scatter",
           "x": [
            8
           ],
           "y": [
            14
           ]
          },
          {
           "marker": {
            "color": "red"
           },
           "mode": "markers",
           "type": "scatter",
           "x": [
            9
           ],
           "y": [
            5
           ]
          },
          {
           "marker": {
            "color": "red"
           },
           "mode": "markers",
           "type": "scatter",
           "x": [
            11
           ],
           "y": [
            7
           ]
          },
          {
           "marker": {
            "color": "green"
           },
           "mode": "markers",
           "type": "scatter",
           "x": [
            22
           ],
           "y": [
            12
           ]
          },
          {
           "marker": {
            "color": "red"
           },
           "mode": "markers",
           "type": "scatter",
           "x": [
            14
           ],
           "y": [
            12
           ]
          },
          {
           "marker": {
            "color": "red"
           },
           "mode": "markers",
           "type": "scatter",
           "x": [
            7
           ],
           "y": [
            8
           ]
          },
          {
           "marker": {
            "color": "green"
           },
           "mode": "markers",
           "type": "scatter",
           "x": [
            10
           ],
           "y": [
            -5
           ]
          },
          {
           "marker": {
            "color": "green"
           },
           "mode": "markers",
           "type": "scatter",
           "x": [
            14
           ],
           "y": [
            10
           ]
          },
          {
           "marker": {
            "color": "red"
           },
           "mode": "markers",
           "type": "scatter",
           "x": [
            14
           ],
           "y": [
            12
           ]
          },
          {
           "marker": {
            "color": "red"
           },
           "mode": "markers",
           "type": "scatter",
           "x": [
            14
           ],
           "y": [
            12
           ]
          },
          {
           "marker": {
            "color": "green"
           },
           "mode": "markers",
           "type": "scatter",
           "x": [
            13
           ],
           "y": [
            16
           ]
          }
         ],
         "layout": {
          "title": {
           "text": "Simulation frame 46"
          }
         }
        },
        {
         "data": [
          {
           "marker": {
            "color": "green"
           },
           "mode": "markers",
           "type": "scatter",
           "x": [
            5
           ],
           "y": [
            8
           ]
          },
          {
           "marker": {
            "color": "red"
           },
           "mode": "markers",
           "type": "scatter",
           "x": [
            7
           ],
           "y": [
            8
           ]
          },
          {
           "marker": {
            "color": "red"
           },
           "mode": "markers",
           "type": "scatter",
           "x": [
            5
           ],
           "y": [
            13
           ]
          },
          {
           "marker": {
            "color": "red"
           },
           "mode": "markers",
           "type": "scatter",
           "x": [
            5
           ],
           "y": [
            13
           ]
          },
          {
           "marker": {
            "color": "red"
           },
           "mode": "markers",
           "type": "scatter",
           "x": [
            5
           ],
           "y": [
            13
           ]
          },
          {
           "marker": {
            "color": "green"
           },
           "mode": "markers",
           "type": "scatter",
           "x": [
            8
           ],
           "y": [
            7
           ]
          },
          {
           "marker": {
            "color": "red"
           },
           "mode": "markers",
           "type": "scatter",
           "x": [
            7
           ],
           "y": [
            8
           ]
          },
          {
           "marker": {
            "color": "red"
           },
           "mode": "markers",
           "type": "scatter",
           "x": [
            5
           ],
           "y": [
            13
           ]
          },
          {
           "marker": {
            "color": "green"
           },
           "mode": "markers",
           "type": "scatter",
           "x": [
            12
           ],
           "y": [
            15
           ]
          },
          {
           "marker": {
            "color": "red"
           },
           "mode": "markers",
           "type": "scatter",
           "x": [
            8
           ],
           "y": [
            14
           ]
          },
          {
           "marker": {
            "color": "red"
           },
           "mode": "markers",
           "type": "scatter",
           "x": [
            9
           ],
           "y": [
            5
           ]
          },
          {
           "marker": {
            "color": "red"
           },
           "mode": "markers",
           "type": "scatter",
           "x": [
            11
           ],
           "y": [
            7
           ]
          },
          {
           "marker": {
            "color": "red"
           },
           "mode": "markers",
           "type": "scatter",
           "x": [
            14
           ],
           "y": [
            12
           ]
          },
          {
           "marker": {
            "color": "red"
           },
           "mode": "markers",
           "type": "scatter",
           "x": [
            8
           ],
           "y": [
            14
           ]
          },
          {
           "marker": {
            "color": "red"
           },
           "mode": "markers",
           "type": "scatter",
           "x": [
            8
           ],
           "y": [
            14
           ]
          },
          {
           "marker": {
            "color": "red"
           },
           "mode": "markers",
           "type": "scatter",
           "x": [
            9
           ],
           "y": [
            5
           ]
          },
          {
           "marker": {
            "color": "red"
           },
           "mode": "markers",
           "type": "scatter",
           "x": [
            11
           ],
           "y": [
            7
           ]
          },
          {
           "marker": {
            "color": "green"
           },
           "mode": "markers",
           "type": "scatter",
           "x": [
            22
           ],
           "y": [
            12
           ]
          },
          {
           "marker": {
            "color": "red"
           },
           "mode": "markers",
           "type": "scatter",
           "x": [
            14
           ],
           "y": [
            12
           ]
          },
          {
           "marker": {
            "color": "red"
           },
           "mode": "markers",
           "type": "scatter",
           "x": [
            7
           ],
           "y": [
            8
           ]
          },
          {
           "marker": {
            "color": "green"
           },
           "mode": "markers",
           "type": "scatter",
           "x": [
            9
           ],
           "y": [
            -5
           ]
          },
          {
           "marker": {
            "color": "green"
           },
           "mode": "markers",
           "type": "scatter",
           "x": [
            15
           ],
           "y": [
            10
           ]
          },
          {
           "marker": {
            "color": "red"
           },
           "mode": "markers",
           "type": "scatter",
           "x": [
            14
           ],
           "y": [
            12
           ]
          },
          {
           "marker": {
            "color": "red"
           },
           "mode": "markers",
           "type": "scatter",
           "x": [
            14
           ],
           "y": [
            12
           ]
          },
          {
           "marker": {
            "color": "green"
           },
           "mode": "markers",
           "type": "scatter",
           "x": [
            12
           ],
           "y": [
            16
           ]
          }
         ],
         "layout": {
          "title": {
           "text": "Simulation frame 47"
          }
         }
        },
        {
         "data": [
          {
           "marker": {
            "color": "green"
           },
           "mode": "markers",
           "type": "scatter",
           "x": [
            6
           ],
           "y": [
            8
           ]
          },
          {
           "marker": {
            "color": "red"
           },
           "mode": "markers",
           "type": "scatter",
           "x": [
            7
           ],
           "y": [
            8
           ]
          },
          {
           "marker": {
            "color": "red"
           },
           "mode": "markers",
           "type": "scatter",
           "x": [
            5
           ],
           "y": [
            13
           ]
          },
          {
           "marker": {
            "color": "red"
           },
           "mode": "markers",
           "type": "scatter",
           "x": [
            5
           ],
           "y": [
            13
           ]
          },
          {
           "marker": {
            "color": "red"
           },
           "mode": "markers",
           "type": "scatter",
           "x": [
            5
           ],
           "y": [
            13
           ]
          },
          {
           "marker": {
            "color": "green"
           },
           "mode": "markers",
           "type": "scatter",
           "x": [
            8
           ],
           "y": [
            8
           ]
          },
          {
           "marker": {
            "color": "red"
           },
           "mode": "markers",
           "type": "scatter",
           "x": [
            7
           ],
           "y": [
            8
           ]
          },
          {
           "marker": {
            "color": "red"
           },
           "mode": "markers",
           "type": "scatter",
           "x": [
            5
           ],
           "y": [
            13
           ]
          },
          {
           "marker": {
            "color": "green"
           },
           "mode": "markers",
           "type": "scatter",
           "x": [
            12
           ],
           "y": [
            14
           ]
          },
          {
           "marker": {
            "color": "red"
           },
           "mode": "markers",
           "type": "scatter",
           "x": [
            8
           ],
           "y": [
            14
           ]
          },
          {
           "marker": {
            "color": "red"
           },
           "mode": "markers",
           "type": "scatter",
           "x": [
            9
           ],
           "y": [
            5
           ]
          },
          {
           "marker": {
            "color": "red"
           },
           "mode": "markers",
           "type": "scatter",
           "x": [
            11
           ],
           "y": [
            7
           ]
          },
          {
           "marker": {
            "color": "red"
           },
           "mode": "markers",
           "type": "scatter",
           "x": [
            14
           ],
           "y": [
            12
           ]
          },
          {
           "marker": {
            "color": "red"
           },
           "mode": "markers",
           "type": "scatter",
           "x": [
            8
           ],
           "y": [
            14
           ]
          },
          {
           "marker": {
            "color": "red"
           },
           "mode": "markers",
           "type": "scatter",
           "x": [
            8
           ],
           "y": [
            14
           ]
          },
          {
           "marker": {
            "color": "red"
           },
           "mode": "markers",
           "type": "scatter",
           "x": [
            9
           ],
           "y": [
            5
           ]
          },
          {
           "marker": {
            "color": "red"
           },
           "mode": "markers",
           "type": "scatter",
           "x": [
            11
           ],
           "y": [
            7
           ]
          },
          {
           "marker": {
            "color": "green"
           },
           "mode": "markers",
           "type": "scatter",
           "x": [
            23
           ],
           "y": [
            12
           ]
          },
          {
           "marker": {
            "color": "red"
           },
           "mode": "markers",
           "type": "scatter",
           "x": [
            14
           ],
           "y": [
            12
           ]
          },
          {
           "marker": {
            "color": "red"
           },
           "mode": "markers",
           "type": "scatter",
           "x": [
            7
           ],
           "y": [
            8
           ]
          },
          {
           "marker": {
            "color": "green"
           },
           "mode": "markers",
           "type": "scatter",
           "x": [
            9
           ],
           "y": [
            -6
           ]
          },
          {
           "marker": {
            "color": "green"
           },
           "mode": "markers",
           "type": "scatter",
           "x": [
            15
           ],
           "y": [
            10
           ]
          },
          {
           "marker": {
            "color": "red"
           },
           "mode": "markers",
           "type": "scatter",
           "x": [
            14
           ],
           "y": [
            12
           ]
          },
          {
           "marker": {
            "color": "red"
           },
           "mode": "markers",
           "type": "scatter",
           "x": [
            14
           ],
           "y": [
            12
           ]
          },
          {
           "marker": {
            "color": "green"
           },
           "mode": "markers",
           "type": "scatter",
           "x": [
            11
           ],
           "y": [
            16
           ]
          }
         ],
         "layout": {
          "title": {
           "text": "Simulation frame 48"
          }
         }
        },
        {
         "data": [
          {
           "marker": {
            "color": "green"
           },
           "mode": "markers",
           "type": "scatter",
           "x": [
            5
           ],
           "y": [
            8
           ]
          },
          {
           "marker": {
            "color": "red"
           },
           "mode": "markers",
           "type": "scatter",
           "x": [
            7
           ],
           "y": [
            8
           ]
          },
          {
           "marker": {
            "color": "red"
           },
           "mode": "markers",
           "type": "scatter",
           "x": [
            5
           ],
           "y": [
            13
           ]
          },
          {
           "marker": {
            "color": "red"
           },
           "mode": "markers",
           "type": "scatter",
           "x": [
            5
           ],
           "y": [
            13
           ]
          },
          {
           "marker": {
            "color": "red"
           },
           "mode": "markers",
           "type": "scatter",
           "x": [
            5
           ],
           "y": [
            13
           ]
          },
          {
           "marker": {
            "color": "green"
           },
           "mode": "markers",
           "type": "scatter",
           "x": [
            9
           ],
           "y": [
            8
           ]
          },
          {
           "marker": {
            "color": "red"
           },
           "mode": "markers",
           "type": "scatter",
           "x": [
            7
           ],
           "y": [
            8
           ]
          },
          {
           "marker": {
            "color": "red"
           },
           "mode": "markers",
           "type": "scatter",
           "x": [
            5
           ],
           "y": [
            13
           ]
          },
          {
           "marker": {
            "color": "green"
           },
           "mode": "markers",
           "type": "scatter",
           "x": [
            12
           ],
           "y": [
            15
           ]
          },
          {
           "marker": {
            "color": "red"
           },
           "mode": "markers",
           "type": "scatter",
           "x": [
            8
           ],
           "y": [
            14
           ]
          },
          {
           "marker": {
            "color": "red"
           },
           "mode": "markers",
           "type": "scatter",
           "x": [
            9
           ],
           "y": [
            5
           ]
          },
          {
           "marker": {
            "color": "red"
           },
           "mode": "markers",
           "type": "scatter",
           "x": [
            11
           ],
           "y": [
            7
           ]
          },
          {
           "marker": {
            "color": "red"
           },
           "mode": "markers",
           "type": "scatter",
           "x": [
            14
           ],
           "y": [
            12
           ]
          },
          {
           "marker": {
            "color": "red"
           },
           "mode": "markers",
           "type": "scatter",
           "x": [
            8
           ],
           "y": [
            14
           ]
          },
          {
           "marker": {
            "color": "red"
           },
           "mode": "markers",
           "type": "scatter",
           "x": [
            8
           ],
           "y": [
            14
           ]
          },
          {
           "marker": {
            "color": "red"
           },
           "mode": "markers",
           "type": "scatter",
           "x": [
            9
           ],
           "y": [
            5
           ]
          },
          {
           "marker": {
            "color": "red"
           },
           "mode": "markers",
           "type": "scatter",
           "x": [
            11
           ],
           "y": [
            7
           ]
          },
          {
           "marker": {
            "color": "green"
           },
           "mode": "markers",
           "type": "scatter",
           "x": [
            22
           ],
           "y": [
            12
           ]
          },
          {
           "marker": {
            "color": "red"
           },
           "mode": "markers",
           "type": "scatter",
           "x": [
            14
           ],
           "y": [
            12
           ]
          },
          {
           "marker": {
            "color": "red"
           },
           "mode": "markers",
           "type": "scatter",
           "x": [
            7
           ],
           "y": [
            8
           ]
          },
          {
           "marker": {
            "color": "green"
           },
           "mode": "markers",
           "type": "scatter",
           "x": [
            9
           ],
           "y": [
            -7
           ]
          },
          {
           "marker": {
            "color": "green"
           },
           "mode": "markers",
           "type": "scatter",
           "x": [
            15
           ],
           "y": [
            10
           ]
          },
          {
           "marker": {
            "color": "red"
           },
           "mode": "markers",
           "type": "scatter",
           "x": [
            14
           ],
           "y": [
            12
           ]
          },
          {
           "marker": {
            "color": "red"
           },
           "mode": "markers",
           "type": "scatter",
           "x": [
            14
           ],
           "y": [
            12
           ]
          },
          {
           "marker": {
            "color": "green"
           },
           "mode": "markers",
           "type": "scatter",
           "x": [
            12
           ],
           "y": [
            16
           ]
          }
         ],
         "layout": {
          "title": {
           "text": "Simulation frame 49"
          }
         }
        }
       ],
       "layout": {
        "template": {
         "data": {
          "bar": [
           {
            "error_x": {
             "color": "#2a3f5f"
            },
            "error_y": {
             "color": "#2a3f5f"
            },
            "marker": {
             "line": {
              "color": "#E5ECF6",
              "width": 0.5
             },
             "pattern": {
              "fillmode": "overlay",
              "size": 10,
              "solidity": 0.2
             }
            },
            "type": "bar"
           }
          ],
          "barpolar": [
           {
            "marker": {
             "line": {
              "color": "#E5ECF6",
              "width": 0.5
             },
             "pattern": {
              "fillmode": "overlay",
              "size": 10,
              "solidity": 0.2
             }
            },
            "type": "barpolar"
           }
          ],
          "carpet": [
           {
            "aaxis": {
             "endlinecolor": "#2a3f5f",
             "gridcolor": "white",
             "linecolor": "white",
             "minorgridcolor": "white",
             "startlinecolor": "#2a3f5f"
            },
            "baxis": {
             "endlinecolor": "#2a3f5f",
             "gridcolor": "white",
             "linecolor": "white",
             "minorgridcolor": "white",
             "startlinecolor": "#2a3f5f"
            },
            "type": "carpet"
           }
          ],
          "choropleth": [
           {
            "colorbar": {
             "outlinewidth": 0,
             "ticks": ""
            },
            "type": "choropleth"
           }
          ],
          "contour": [
           {
            "colorbar": {
             "outlinewidth": 0,
             "ticks": ""
            },
            "colorscale": [
             [
              0,
              "#0d0887"
             ],
             [
              0.1111111111111111,
              "#46039f"
             ],
             [
              0.2222222222222222,
              "#7201a8"
             ],
             [
              0.3333333333333333,
              "#9c179e"
             ],
             [
              0.4444444444444444,
              "#bd3786"
             ],
             [
              0.5555555555555556,
              "#d8576b"
             ],
             [
              0.6666666666666666,
              "#ed7953"
             ],
             [
              0.7777777777777778,
              "#fb9f3a"
             ],
             [
              0.8888888888888888,
              "#fdca26"
             ],
             [
              1,
              "#f0f921"
             ]
            ],
            "type": "contour"
           }
          ],
          "contourcarpet": [
           {
            "colorbar": {
             "outlinewidth": 0,
             "ticks": ""
            },
            "type": "contourcarpet"
           }
          ],
          "heatmap": [
           {
            "colorbar": {
             "outlinewidth": 0,
             "ticks": ""
            },
            "colorscale": [
             [
              0,
              "#0d0887"
             ],
             [
              0.1111111111111111,
              "#46039f"
             ],
             [
              0.2222222222222222,
              "#7201a8"
             ],
             [
              0.3333333333333333,
              "#9c179e"
             ],
             [
              0.4444444444444444,
              "#bd3786"
             ],
             [
              0.5555555555555556,
              "#d8576b"
             ],
             [
              0.6666666666666666,
              "#ed7953"
             ],
             [
              0.7777777777777778,
              "#fb9f3a"
             ],
             [
              0.8888888888888888,
              "#fdca26"
             ],
             [
              1,
              "#f0f921"
             ]
            ],
            "type": "heatmap"
           }
          ],
          "heatmapgl": [
           {
            "colorbar": {
             "outlinewidth": 0,
             "ticks": ""
            },
            "colorscale": [
             [
              0,
              "#0d0887"
             ],
             [
              0.1111111111111111,
              "#46039f"
             ],
             [
              0.2222222222222222,
              "#7201a8"
             ],
             [
              0.3333333333333333,
              "#9c179e"
             ],
             [
              0.4444444444444444,
              "#bd3786"
             ],
             [
              0.5555555555555556,
              "#d8576b"
             ],
             [
              0.6666666666666666,
              "#ed7953"
             ],
             [
              0.7777777777777778,
              "#fb9f3a"
             ],
             [
              0.8888888888888888,
              "#fdca26"
             ],
             [
              1,
              "#f0f921"
             ]
            ],
            "type": "heatmapgl"
           }
          ],
          "histogram": [
           {
            "marker": {
             "pattern": {
              "fillmode": "overlay",
              "size": 10,
              "solidity": 0.2
             }
            },
            "type": "histogram"
           }
          ],
          "histogram2d": [
           {
            "colorbar": {
             "outlinewidth": 0,
             "ticks": ""
            },
            "colorscale": [
             [
              0,
              "#0d0887"
             ],
             [
              0.1111111111111111,
              "#46039f"
             ],
             [
              0.2222222222222222,
              "#7201a8"
             ],
             [
              0.3333333333333333,
              "#9c179e"
             ],
             [
              0.4444444444444444,
              "#bd3786"
             ],
             [
              0.5555555555555556,
              "#d8576b"
             ],
             [
              0.6666666666666666,
              "#ed7953"
             ],
             [
              0.7777777777777778,
              "#fb9f3a"
             ],
             [
              0.8888888888888888,
              "#fdca26"
             ],
             [
              1,
              "#f0f921"
             ]
            ],
            "type": "histogram2d"
           }
          ],
          "histogram2dcontour": [
           {
            "colorbar": {
             "outlinewidth": 0,
             "ticks": ""
            },
            "colorscale": [
             [
              0,
              "#0d0887"
             ],
             [
              0.1111111111111111,
              "#46039f"
             ],
             [
              0.2222222222222222,
              "#7201a8"
             ],
             [
              0.3333333333333333,
              "#9c179e"
             ],
             [
              0.4444444444444444,
              "#bd3786"
             ],
             [
              0.5555555555555556,
              "#d8576b"
             ],
             [
              0.6666666666666666,
              "#ed7953"
             ],
             [
              0.7777777777777778,
              "#fb9f3a"
             ],
             [
              0.8888888888888888,
              "#fdca26"
             ],
             [
              1,
              "#f0f921"
             ]
            ],
            "type": "histogram2dcontour"
           }
          ],
          "mesh3d": [
           {
            "colorbar": {
             "outlinewidth": 0,
             "ticks": ""
            },
            "type": "mesh3d"
           }
          ],
          "parcoords": [
           {
            "line": {
             "colorbar": {
              "outlinewidth": 0,
              "ticks": ""
             }
            },
            "type": "parcoords"
           }
          ],
          "pie": [
           {
            "automargin": true,
            "type": "pie"
           }
          ],
          "scatter": [
           {
            "fillpattern": {
             "fillmode": "overlay",
             "size": 10,
             "solidity": 0.2
            },
            "type": "scatter"
           }
          ],
          "scatter3d": [
           {
            "line": {
             "colorbar": {
              "outlinewidth": 0,
              "ticks": ""
             }
            },
            "marker": {
             "colorbar": {
              "outlinewidth": 0,
              "ticks": ""
             }
            },
            "type": "scatter3d"
           }
          ],
          "scattercarpet": [
           {
            "marker": {
             "colorbar": {
              "outlinewidth": 0,
              "ticks": ""
             }
            },
            "type": "scattercarpet"
           }
          ],
          "scattergeo": [
           {
            "marker": {
             "colorbar": {
              "outlinewidth": 0,
              "ticks": ""
             }
            },
            "type": "scattergeo"
           }
          ],
          "scattergl": [
           {
            "marker": {
             "colorbar": {
              "outlinewidth": 0,
              "ticks": ""
             }
            },
            "type": "scattergl"
           }
          ],
          "scattermapbox": [
           {
            "marker": {
             "colorbar": {
              "outlinewidth": 0,
              "ticks": ""
             }
            },
            "type": "scattermapbox"
           }
          ],
          "scatterpolar": [
           {
            "marker": {
             "colorbar": {
              "outlinewidth": 0,
              "ticks": ""
             }
            },
            "type": "scatterpolar"
           }
          ],
          "scatterpolargl": [
           {
            "marker": {
             "colorbar": {
              "outlinewidth": 0,
              "ticks": ""
             }
            },
            "type": "scatterpolargl"
           }
          ],
          "scatterternary": [
           {
            "marker": {
             "colorbar": {
              "outlinewidth": 0,
              "ticks": ""
             }
            },
            "type": "scatterternary"
           }
          ],
          "surface": [
           {
            "colorbar": {
             "outlinewidth": 0,
             "ticks": ""
            },
            "colorscale": [
             [
              0,
              "#0d0887"
             ],
             [
              0.1111111111111111,
              "#46039f"
             ],
             [
              0.2222222222222222,
              "#7201a8"
             ],
             [
              0.3333333333333333,
              "#9c179e"
             ],
             [
              0.4444444444444444,
              "#bd3786"
             ],
             [
              0.5555555555555556,
              "#d8576b"
             ],
             [
              0.6666666666666666,
              "#ed7953"
             ],
             [
              0.7777777777777778,
              "#fb9f3a"
             ],
             [
              0.8888888888888888,
              "#fdca26"
             ],
             [
              1,
              "#f0f921"
             ]
            ],
            "type": "surface"
           }
          ],
          "table": [
           {
            "cells": {
             "fill": {
              "color": "#EBF0F8"
             },
             "line": {
              "color": "white"
             }
            },
            "header": {
             "fill": {
              "color": "#C8D4E3"
             },
             "line": {
              "color": "white"
             }
            },
            "type": "table"
           }
          ]
         },
         "layout": {
          "annotationdefaults": {
           "arrowcolor": "#2a3f5f",
           "arrowhead": 0,
           "arrowwidth": 1
          },
          "autotypenumbers": "strict",
          "coloraxis": {
           "colorbar": {
            "outlinewidth": 0,
            "ticks": ""
           }
          },
          "colorscale": {
           "diverging": [
            [
             0,
             "#8e0152"
            ],
            [
             0.1,
             "#c51b7d"
            ],
            [
             0.2,
             "#de77ae"
            ],
            [
             0.3,
             "#f1b6da"
            ],
            [
             0.4,
             "#fde0ef"
            ],
            [
             0.5,
             "#f7f7f7"
            ],
            [
             0.6,
             "#e6f5d0"
            ],
            [
             0.7,
             "#b8e186"
            ],
            [
             0.8,
             "#7fbc41"
            ],
            [
             0.9,
             "#4d9221"
            ],
            [
             1,
             "#276419"
            ]
           ],
           "sequential": [
            [
             0,
             "#0d0887"
            ],
            [
             0.1111111111111111,
             "#46039f"
            ],
            [
             0.2222222222222222,
             "#7201a8"
            ],
            [
             0.3333333333333333,
             "#9c179e"
            ],
            [
             0.4444444444444444,
             "#bd3786"
            ],
            [
             0.5555555555555556,
             "#d8576b"
            ],
            [
             0.6666666666666666,
             "#ed7953"
            ],
            [
             0.7777777777777778,
             "#fb9f3a"
            ],
            [
             0.8888888888888888,
             "#fdca26"
            ],
            [
             1,
             "#f0f921"
            ]
           ],
           "sequentialminus": [
            [
             0,
             "#0d0887"
            ],
            [
             0.1111111111111111,
             "#46039f"
            ],
            [
             0.2222222222222222,
             "#7201a8"
            ],
            [
             0.3333333333333333,
             "#9c179e"
            ],
            [
             0.4444444444444444,
             "#bd3786"
            ],
            [
             0.5555555555555556,
             "#d8576b"
            ],
            [
             0.6666666666666666,
             "#ed7953"
            ],
            [
             0.7777777777777778,
             "#fb9f3a"
            ],
            [
             0.8888888888888888,
             "#fdca26"
            ],
            [
             1,
             "#f0f921"
            ]
           ]
          },
          "colorway": [
           "#636efa",
           "#EF553B",
           "#00cc96",
           "#ab63fa",
           "#FFA15A",
           "#19d3f3",
           "#FF6692",
           "#B6E880",
           "#FF97FF",
           "#FECB52"
          ],
          "font": {
           "color": "#2a3f5f"
          },
          "geo": {
           "bgcolor": "white",
           "lakecolor": "white",
           "landcolor": "#E5ECF6",
           "showlakes": true,
           "showland": true,
           "subunitcolor": "white"
          },
          "hoverlabel": {
           "align": "left"
          },
          "hovermode": "closest",
          "mapbox": {
           "style": "light"
          },
          "paper_bgcolor": "white",
          "plot_bgcolor": "#E5ECF6",
          "polar": {
           "angularaxis": {
            "gridcolor": "white",
            "linecolor": "white",
            "ticks": ""
           },
           "bgcolor": "#E5ECF6",
           "radialaxis": {
            "gridcolor": "white",
            "linecolor": "white",
            "ticks": ""
           }
          },
          "scene": {
           "xaxis": {
            "backgroundcolor": "#E5ECF6",
            "gridcolor": "white",
            "gridwidth": 2,
            "linecolor": "white",
            "showbackground": true,
            "ticks": "",
            "zerolinecolor": "white"
           },
           "yaxis": {
            "backgroundcolor": "#E5ECF6",
            "gridcolor": "white",
            "gridwidth": 2,
            "linecolor": "white",
            "showbackground": true,
            "ticks": "",
            "zerolinecolor": "white"
           },
           "zaxis": {
            "backgroundcolor": "#E5ECF6",
            "gridcolor": "white",
            "gridwidth": 2,
            "linecolor": "white",
            "showbackground": true,
            "ticks": "",
            "zerolinecolor": "white"
           }
          },
          "shapedefaults": {
           "line": {
            "color": "#2a3f5f"
           }
          },
          "ternary": {
           "aaxis": {
            "gridcolor": "white",
            "linecolor": "white",
            "ticks": ""
           },
           "baxis": {
            "gridcolor": "white",
            "linecolor": "white",
            "ticks": ""
           },
           "bgcolor": "#E5ECF6",
           "caxis": {
            "gridcolor": "white",
            "linecolor": "white",
            "ticks": ""
           }
          },
          "title": {
           "x": 0.05
          },
          "xaxis": {
           "automargin": true,
           "gridcolor": "white",
           "linecolor": "white",
           "ticks": "",
           "title": {
            "standoff": 15
           },
           "zerolinecolor": "white",
           "zerolinewidth": 2
          },
          "yaxis": {
           "automargin": true,
           "gridcolor": "white",
           "linecolor": "white",
           "ticks": "",
           "title": {
            "standoff": 15
           },
           "zerolinecolor": "white",
           "zerolinewidth": 2
          }
         }
        },
        "title": {
         "text": "Simulation"
        },
        "updatemenus": [
         {
          "buttons": [
           {
            "args": [
             null
            ],
            "label": "Play",
            "method": "animate"
           }
          ],
          "type": "buttons"
         }
        ],
        "xaxis": {
         "autorange": false,
         "range": [
          0,
          20
         ]
        },
        "yaxis": {
         "autorange": false,
         "range": [
          0,
          20
         ]
        }
       }
      }
     },
     "metadata": {},
     "output_type": "display_data"
    }
   ],
   "source": [
    "import os\n",
    "import time\n",
    "import copy\n",
    "import plotly\n",
    "import numpy as np\n",
    "import pandas as pd\n",
    "\n",
    "import plotly.express as px\n",
    "\n",
    "from enum import Enum\n",
    "from typing import List, Tuple\n",
    "from plotly import graph_objects as go\n",
    "\n",
    "\n",
    "class WorldObject:\n",
    "\n",
    "    draw_mode = \"markers\"\n",
    "\n",
    "    def __init__(self, obj_id: str, initx: int, inity: int):\n",
    "        self.obj_id = obj_id\n",
    "        self.posx = initx\n",
    "        self.posy = inity\n",
    "\n",
    "    def move(self, step_x: int, step_y: int):\n",
    "        self.posx += step_x\n",
    "        self.posy += step_y\n",
    "\n",
    "    def update_state(self):\n",
    "        raise NotImplementedError()\n",
    "\n",
    "\n",
    "class Bubble(WorldObject):\n",
    "\n",
    "    def __init__(self, obj_id: str, initx: int, inity: int):\n",
    "        super().__init__(obj_id, initx, inity)\n",
    "\n",
    "    def update_state(self):\n",
    "        direction = np.random.choice([\"left\", \"right\", \"up\", \"down\", \"stay\"])\n",
    "        if direction == \"left\":\n",
    "            self.move(-1, 0)\n",
    "        elif direction == \"right\":\n",
    "            self.move(1, 0)\n",
    "        elif direction == \"up\":\n",
    "            self.move(0, 1)\n",
    "        elif direction == \"down\":\n",
    "            self.move(0, -1)\n",
    "\n",
    "    def draw(self) -> go.Scatter:\n",
    "\n",
    "        return go.Scatter(\n",
    "            x=[self.posx], y=[self.posy], mode=self.draw_mode, marker={\"color\": \"green\"}\n",
    "        )\n",
    "\n",
    "    def draw_collision(self) -> go.Scatter:\n",
    "        return go.Scatter(\n",
    "            x=[self.posx],\n",
    "            y=[self.posy],\n",
    "            mode=self.draw_mode,\n",
    "            marker={\"color\": \"red\"},\n",
    "        )\n",
    "\n",
    "\n",
    "class Rock(WorldObject):\n",
    "    def move(self):\n",
    "        pass\n",
    "\n",
    "    def update_state(self):\n",
    "        pass\n",
    "\n",
    "    def draw(self) -> go.Scatter:\n",
    "        return go.Scatter(\n",
    "            x=[self.posx],\n",
    "            y=[self.posy],\n",
    "            mode=self.draw_mode,\n",
    "            marker={\"color\": \"yellow\"},\n",
    "        )\n",
    "\n",
    "\n",
    "class WorldGrid:\n",
    "    def __init__(self, width: int, height: int, w_objects: List[WorldObject]):\n",
    "        self.width = width\n",
    "        self.height = height\n",
    "        self.w_objects = w_objects\n",
    "\n",
    "    def update_state(self):\n",
    "        for w_object in self.w_objects:\n",
    "            # only updating the state for bubbles that haven't yet collided\n",
    "            if hasattr(w_object, \"collided\") or isinstance(w_object, Rock):\n",
    "                continue\n",
    "            w_object.update_state()\n",
    "\n",
    "    def check_for_collisions(self):\n",
    "        collision_coordinates = []\n",
    "        \n",
    "        # rocks should not collide with bubbles\n",
    "        # filter bubbles coordinates\n",
    "        bubble_coordinates: List[dict] = [\n",
    "            {obj.posx: obj.posy} for obj in self.w_objects if not isinstance(obj, Rock)\n",
    "        ]\n",
    "\n",
    "        # checking which bubbles have collided in the new state\n",
    "        for bubble in bubble_coordinates:\n",
    "            for x, y in bubble.items():\n",
    "                if (\n",
    "                    bubble_coordinates.count({x: y}) > 1\n",
    "                    and {x: y} not in collision_coordinates\n",
    "                ):\n",
    "                    collision_coordinates.append({x: y})\n",
    "        \n",
    "        # mark collisions \n",
    "        for w_object in self.w_objects:\n",
    "            if {w_object.posx: w_object.posy} in collision_coordinates:\n",
    "                w_object.collided = True\n",
    "\n",
    "    def get_frame(self, frame_number: int) -> go.Frame:\n",
    "        draw_objects = []\n",
    "\n",
    "        for w_object in self.w_objects:\n",
    "            if isinstance(w_object, Rock):\n",
    "                continue\n",
    "            elif hasattr(w_object, \"collided\"):\n",
    "                draw_objects.append(w_object.draw_collision())\n",
    "            else:\n",
    "                draw_objects.append(w_object.draw())\n",
    "\n",
    "        return go.Frame(\n",
    "            data=draw_objects,\n",
    "            layout=go.Layout(title_text=f\"Simulation frame {frame_number}\"),\n",
    "        )\n",
    "\n",
    "    def create_simulation(self, steps: int):\n",
    "        frames = []\n",
    "\n",
    "        for i in range(steps):\n",
    "            self.update_state()\n",
    "            self.check_for_collisions()\n",
    "            frames.append(self.get_frame(i))\n",
    "\n",
    "        fig = go.Figure(\n",
    "            data=[w_obj.draw() for w_obj in self.w_objects],\n",
    "            layout=go.Layout(\n",
    "                xaxis=dict(range=[0, self.width], autorange=False),\n",
    "                yaxis=dict(range=[0, self.height], autorange=False),\n",
    "                title=\"Simulation\",\n",
    "                updatemenus=[\n",
    "                    dict(\n",
    "                        type=\"buttons\",\n",
    "                        buttons=[dict(label=\"Play\", method=\"animate\", args=[None])],\n",
    "                    )\n",
    "                ],\n",
    "            ),\n",
    "            frames=frames,\n",
    "        )\n",
    "        fig.show()\n",
    "\n",
    "\n",
    "def simulate():\n",
    "    bubbles: List[Bubble] = [\n",
    "        Bubble(f\"bubble_{i}_{j}\", i, j)\n",
    "        for i in range(5, 15, 2)\n",
    "        for j in range(5, 15, 2)\n",
    "    ]\n",
    "\n",
    "    rocks: List[Rock] = [\n",
    "        Rock(\"rock_2_2\", 2, 2),\n",
    "        Rock(\"rock_18_18\", 18, 18),\n",
    "        Rock(\"rock_18_18\", 18, 18),\n",
    "        Rock(\"rock_3_15\", 3, 15),\n",
    "        Rock(\"rock_3_14\", 3, 14),\n",
    "        Rock(\"rock_3_13\", 3, 13),\n",
    "        Rock(\"rock_5_5\", 5, 5),\n",
    "    ]\n",
    "\n",
    "    world = WorldGrid(20, 20, bubbles + rocks)\n",
    "    world.create_simulation(steps=50)\n",
    "\n",
    "\n",
    "simulate()\n"
   ]
  },
  {
   "cell_type": "markdown",
   "id": "22ffcd76-0241-4dbb-9ac0-fdbf34632058",
   "metadata": {},
   "source": [
    "# Task: add \"pops\" to the code\n",
    "* When bubbles collide, a \"pop\" should occur - one colour change should indicate the \"pop\" and on the next frame the bubble should be stationary and a different colour.\n",
    "* Rocks should not \"pop\"\n",
    "* The test is to see how you refactor the code to handle a new requirement.\n",
    "* If there's anything you don't like about the current code - feel free to make any improvements you see fit!"
   ]
  }
 ],
 "metadata": {
  "kernelspec": {
   "display_name": "Python 3.7.5 64-bit ('3.7.5')",
   "language": "python",
   "name": "python3"
  },
  "language_info": {
   "codemirror_mode": {
    "name": "ipython",
    "version": 3
   },
   "file_extension": ".py",
   "mimetype": "text/x-python",
   "name": "python",
   "nbconvert_exporter": "python",
   "pygments_lexer": "ipython3",
   "version": "3.7.5"
  },
  "vscode": {
   "interpreter": {
    "hash": "8ba9372dd303136370015eefef0fda6e7910e7bfb4f989f186aea0b172e7b1ee"
   }
  }
 },
 "nbformat": 4,
 "nbformat_minor": 5
}
